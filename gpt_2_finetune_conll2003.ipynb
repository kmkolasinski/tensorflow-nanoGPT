{
  "cells": [
    {
      "cell_type": "markdown",
      "metadata": {
        "id": "view-in-github",
        "colab_type": "text"
      },
      "source": [
        "<a href=\"https://colab.research.google.com/github/kmkolasinski/tensorflow-nanoGPT/blob/main/gpt_2_finetune_conll2003.ipynb\" target=\"_parent\"><img src=\"https://colab.research.google.com/assets/colab-badge.svg\" alt=\"Open In Colab\"/></a>"
      ]
    },
    {
      "cell_type": "code",
      "source": [
        "!nvidia-smi"
      ],
      "metadata": {
        "colab": {
          "base_uri": "https://localhost:8080/"
        },
        "id": "bXE7hBg2HDSB",
        "outputId": "706e1e82-0688-477d-8640-2215141962dd"
      },
      "execution_count": 2,
      "outputs": [
        {
          "output_type": "stream",
          "name": "stdout",
          "text": [
            "Fri May  5 13:40:01 2023       \n",
            "+-----------------------------------------------------------------------------+\n",
            "| NVIDIA-SMI 525.85.12    Driver Version: 525.85.12    CUDA Version: 12.0     |\n",
            "|-------------------------------+----------------------+----------------------+\n",
            "| GPU  Name        Persistence-M| Bus-Id        Disp.A | Volatile Uncorr. ECC |\n",
            "| Fan  Temp  Perf  Pwr:Usage/Cap|         Memory-Usage | GPU-Util  Compute M. |\n",
            "|                               |                      |               MIG M. |\n",
            "|===============================+======================+======================|\n",
            "|   0  Tesla T4            Off  | 00000000:00:04.0 Off |                    0 |\n",
            "| N/A   42C    P8    11W /  70W |      0MiB / 15360MiB |      0%      Default |\n",
            "|                               |                      |                  N/A |\n",
            "+-------------------------------+----------------------+----------------------+\n",
            "                                                                               \n",
            "+-----------------------------------------------------------------------------+\n",
            "| Processes:                                                                  |\n",
            "|  GPU   GI   CI        PID   Type   Process name                  GPU Memory |\n",
            "|        ID   ID                                                   Usage      |\n",
            "|=============================================================================|\n",
            "|  No running processes found                                                 |\n",
            "+-----------------------------------------------------------------------------+\n"
          ]
        }
      ]
    },
    {
      "cell_type": "code",
      "source": [
        "!git clone https://github.com/kmkolasinski/tensorflow-nanoGPT.git\n",
        "!cd tensorflow-nanoGPT && pip install -r requirements.txt && pip install ."
      ],
      "metadata": {
        "colab": {
          "base_uri": "https://localhost:8080/"
        },
        "id": "UkOSyYm_GqTy",
        "outputId": "399447b1-0284-4d8a-818c-c514a61377b0"
      },
      "execution_count": 5,
      "outputs": [
        {
          "output_type": "stream",
          "name": "stdout",
          "text": [
            "fatal: destination path 'tensorflow-nanoGPT' already exists and is not an empty directory.\n",
            "Looking in indexes: https://pypi.org/simple, https://us-python.pkg.dev/colab-wheels/public/simple/\n",
            "Collecting transformers==4.28.0\n",
            "  Downloading transformers-4.28.0-py3-none-any.whl (7.0 MB)\n",
            "\u001b[2K     \u001b[90m━━━━━━━━━━━━━━━━━━━━━━━━━━━━━━━━━━━━━━━━\u001b[0m \u001b[32m7.0/7.0 MB\u001b[0m \u001b[31m47.4 MB/s\u001b[0m eta \u001b[36m0:00:00\u001b[0m\n",
            "\u001b[?25hCollecting datasets==2.11.0\n",
            "  Downloading datasets-2.11.0-py3-none-any.whl (468 kB)\n",
            "\u001b[2K     \u001b[90m━━━━━━━━━━━━━━━━━━━━━━━━━━━━━━━━━━━━━━\u001b[0m \u001b[32m468.7/468.7 kB\u001b[0m \u001b[31m34.3 MB/s\u001b[0m eta \u001b[36m0:00:00\u001b[0m\n",
            "\u001b[?25hCollecting tensorflow==2.11.0\n",
            "  Downloading tensorflow-2.11.0-cp310-cp310-manylinux_2_17_x86_64.manylinux2014_x86_64.whl (588.3 MB)\n",
            "\u001b[2K     \u001b[90m━━━━━━━━━━━━━━━━━━━━━━━━━━━━━━━━━━━━━━━\u001b[0m \u001b[32m588.3/588.3 MB\u001b[0m \u001b[31m2.7 MB/s\u001b[0m eta \u001b[36m0:00:00\u001b[0m\n",
            "\u001b[?25hCollecting keras==2.11.0\n",
            "  Downloading keras-2.11.0-py2.py3-none-any.whl (1.7 MB)\n",
            "\u001b[2K     \u001b[90m━━━━━━━━━━━━━━━━━━━━━━━━━━━━━━━━━━━━━━━━\u001b[0m \u001b[32m1.7/1.7 MB\u001b[0m \u001b[31m49.8 MB/s\u001b[0m eta \u001b[36m0:00:00\u001b[0m\n",
            "\u001b[?25hCollecting keras-nlp==0.4.1\n",
            "  Downloading keras_nlp-0.4.1-py3-none-any.whl (466 kB)\n",
            "\u001b[2K     \u001b[90m━━━━━━━━━━━━━━━━━━━━━━━━━━━━━━━━━━━━━━\u001b[0m \u001b[32m466.8/466.8 kB\u001b[0m \u001b[31m38.5 MB/s\u001b[0m eta \u001b[36m0:00:00\u001b[0m\n",
            "\u001b[?25hRequirement already satisfied: regex!=2019.12.17 in /usr/local/lib/python3.10/dist-packages (from transformers==4.28.0->-r requirements.txt (line 1)) (2022.10.31)\n",
            "Requirement already satisfied: filelock in /usr/local/lib/python3.10/dist-packages (from transformers==4.28.0->-r requirements.txt (line 1)) (3.12.0)\n",
            "Collecting huggingface-hub<1.0,>=0.11.0\n",
            "  Downloading huggingface_hub-0.14.1-py3-none-any.whl (224 kB)\n",
            "\u001b[2K     \u001b[90m━━━━━━━━━━━━━━━━━━━━━━━━━━━━━━━━━━━━━━\u001b[0m \u001b[32m224.5/224.5 kB\u001b[0m \u001b[31m27.1 MB/s\u001b[0m eta \u001b[36m0:00:00\u001b[0m\n",
            "\u001b[?25hRequirement already satisfied: packaging>=20.0 in /usr/local/lib/python3.10/dist-packages (from transformers==4.28.0->-r requirements.txt (line 1)) (23.1)\n",
            "Requirement already satisfied: requests in /usr/local/lib/python3.10/dist-packages (from transformers==4.28.0->-r requirements.txt (line 1)) (2.27.1)\n",
            "Requirement already satisfied: pyyaml>=5.1 in /usr/local/lib/python3.10/dist-packages (from transformers==4.28.0->-r requirements.txt (line 1)) (6.0)\n",
            "Collecting tokenizers!=0.11.3,<0.14,>=0.11.1\n",
            "  Downloading tokenizers-0.13.3-cp310-cp310-manylinux_2_17_x86_64.manylinux2014_x86_64.whl (7.8 MB)\n",
            "\u001b[2K     \u001b[90m━━━━━━━━━━━━━━━━━━━━━━━━━━━━━━━━━━━━━━━━\u001b[0m \u001b[32m7.8/7.8 MB\u001b[0m \u001b[31m110.3 MB/s\u001b[0m eta \u001b[36m0:00:00\u001b[0m\n",
            "\u001b[?25hRequirement already satisfied: tqdm>=4.27 in /usr/local/lib/python3.10/dist-packages (from transformers==4.28.0->-r requirements.txt (line 1)) (4.65.0)\n",
            "Requirement already satisfied: numpy>=1.17 in /usr/local/lib/python3.10/dist-packages (from transformers==4.28.0->-r requirements.txt (line 1)) (1.22.4)\n",
            "Collecting dill<0.3.7,>=0.3.0\n",
            "  Downloading dill-0.3.6-py3-none-any.whl (110 kB)\n",
            "\u001b[2K     \u001b[90m━━━━━━━━━━━━━━━━━━━━━━━━━━━━━━━━━━━━━━\u001b[0m \u001b[32m110.5/110.5 kB\u001b[0m \u001b[31m16.0 MB/s\u001b[0m eta \u001b[36m0:00:00\u001b[0m\n",
            "\u001b[?25hRequirement already satisfied: fsspec[http]>=2021.11.1 in /usr/local/lib/python3.10/dist-packages (from datasets==2.11.0->-r requirements.txt (line 2)) (2023.4.0)\n",
            "Collecting aiohttp\n",
            "  Downloading aiohttp-3.8.4-cp310-cp310-manylinux_2_17_x86_64.manylinux2014_x86_64.whl (1.0 MB)\n",
            "\u001b[2K     \u001b[90m━━━━━━━━━━━━━━━━━━━━━━━━━━━━━━━━━━━━━━━━\u001b[0m \u001b[32m1.0/1.0 MB\u001b[0m \u001b[31m75.4 MB/s\u001b[0m eta \u001b[36m0:00:00\u001b[0m\n",
            "\u001b[?25hRequirement already satisfied: pyarrow>=8.0.0 in /usr/local/lib/python3.10/dist-packages (from datasets==2.11.0->-r requirements.txt (line 2)) (9.0.0)\n",
            "Collecting xxhash\n",
            "  Downloading xxhash-3.2.0-cp310-cp310-manylinux_2_17_x86_64.manylinux2014_x86_64.whl (212 kB)\n",
            "\u001b[2K     \u001b[90m━━━━━━━━━━━━━━━━━━━━━━━━━━━━━━━━━━━━━━\u001b[0m \u001b[32m212.5/212.5 kB\u001b[0m \u001b[31m27.9 MB/s\u001b[0m eta \u001b[36m0:00:00\u001b[0m\n",
            "\u001b[?25hCollecting responses<0.19\n",
            "  Downloading responses-0.18.0-py3-none-any.whl (38 kB)\n",
            "Requirement already satisfied: pandas in /usr/local/lib/python3.10/dist-packages (from datasets==2.11.0->-r requirements.txt (line 2)) (1.5.3)\n",
            "Collecting multiprocess\n",
            "  Downloading multiprocess-0.70.14-py310-none-any.whl (134 kB)\n",
            "\u001b[2K     \u001b[90m━━━━━━━━━━━━━━━━━━━━━━━━━━━━━━━━━━━━━━\u001b[0m \u001b[32m134.3/134.3 kB\u001b[0m \u001b[31m16.6 MB/s\u001b[0m eta \u001b[36m0:00:00\u001b[0m\n",
            "\u001b[?25hCollecting tensorboard<2.12,>=2.11\n",
            "  Downloading tensorboard-2.11.2-py3-none-any.whl (6.0 MB)\n",
            "\u001b[2K     \u001b[90m━━━━━━━━━━━━━━━━━━━━━━━━━━━━━━━━━━━━━━━━\u001b[0m \u001b[32m6.0/6.0 MB\u001b[0m \u001b[31m103.5 MB/s\u001b[0m eta \u001b[36m0:00:00\u001b[0m\n",
            "\u001b[?25hRequirement already satisfied: opt-einsum>=2.3.2 in /usr/local/lib/python3.10/dist-packages (from tensorflow==2.11.0->-r requirements.txt (line 3)) (3.3.0)\n",
            "Requirement already satisfied: setuptools in /usr/local/lib/python3.10/dist-packages (from tensorflow==2.11.0->-r requirements.txt (line 3)) (67.7.2)\n",
            "Requirement already satisfied: google-pasta>=0.1.1 in /usr/local/lib/python3.10/dist-packages (from tensorflow==2.11.0->-r requirements.txt (line 3)) (0.2.0)\n",
            "Collecting protobuf<3.20,>=3.9.2\n",
            "  Downloading protobuf-3.19.6-cp310-cp310-manylinux_2_17_x86_64.manylinux2014_x86_64.whl (1.1 MB)\n",
            "\u001b[2K     \u001b[90m━━━━━━━━━━━━━━━━━━━━━━━━━━━━━━━━━━━━━━━━\u001b[0m \u001b[32m1.1/1.1 MB\u001b[0m \u001b[31m75.4 MB/s\u001b[0m eta \u001b[36m0:00:00\u001b[0m\n",
            "\u001b[?25hRequirement already satisfied: h5py>=2.9.0 in /usr/local/lib/python3.10/dist-packages (from tensorflow==2.11.0->-r requirements.txt (line 3)) (3.8.0)\n",
            "Requirement already satisfied: absl-py>=1.0.0 in /usr/local/lib/python3.10/dist-packages (from tensorflow==2.11.0->-r requirements.txt (line 3)) (1.4.0)\n",
            "Requirement already satisfied: typing-extensions>=3.6.6 in /usr/local/lib/python3.10/dist-packages (from tensorflow==2.11.0->-r requirements.txt (line 3)) (4.5.0)\n",
            "Requirement already satisfied: astunparse>=1.6.0 in /usr/local/lib/python3.10/dist-packages (from tensorflow==2.11.0->-r requirements.txt (line 3)) (1.6.3)\n",
            "Requirement already satisfied: libclang>=13.0.0 in /usr/local/lib/python3.10/dist-packages (from tensorflow==2.11.0->-r requirements.txt (line 3)) (16.0.0)\n",
            "Requirement already satisfied: gast<=0.4.0,>=0.2.1 in /usr/local/lib/python3.10/dist-packages (from tensorflow==2.11.0->-r requirements.txt (line 3)) (0.4.0)\n",
            "Requirement already satisfied: flatbuffers>=2.0 in /usr/local/lib/python3.10/dist-packages (from tensorflow==2.11.0->-r requirements.txt (line 3)) (23.3.3)\n",
            "Requirement already satisfied: grpcio<2.0,>=1.24.3 in /usr/local/lib/python3.10/dist-packages (from tensorflow==2.11.0->-r requirements.txt (line 3)) (1.54.0)\n",
            "Requirement already satisfied: six>=1.12.0 in /usr/local/lib/python3.10/dist-packages (from tensorflow==2.11.0->-r requirements.txt (line 3)) (1.16.0)\n",
            "Requirement already satisfied: termcolor>=1.1.0 in /usr/local/lib/python3.10/dist-packages (from tensorflow==2.11.0->-r requirements.txt (line 3)) (2.3.0)\n",
            "Collecting tensorflow-estimator<2.12,>=2.11.0\n",
            "  Downloading tensorflow_estimator-2.11.0-py2.py3-none-any.whl (439 kB)\n",
            "\u001b[2K     \u001b[90m━━━━━━━━━━━━━━━━━━━━━━━━━━━━━━━━━━━━━━\u001b[0m \u001b[32m439.2/439.2 kB\u001b[0m \u001b[31m44.4 MB/s\u001b[0m eta \u001b[36m0:00:00\u001b[0m\n",
            "\u001b[?25hRequirement already satisfied: tensorflow-io-gcs-filesystem>=0.23.1 in /usr/local/lib/python3.10/dist-packages (from tensorflow==2.11.0->-r requirements.txt (line 3)) (0.32.0)\n",
            "Requirement already satisfied: wrapt>=1.11.0 in /usr/local/lib/python3.10/dist-packages (from tensorflow==2.11.0->-r requirements.txt (line 3)) (1.14.1)\n",
            "Collecting tensorflow-text\n",
            "  Downloading tensorflow_text-2.12.1-cp310-cp310-manylinux_2_17_x86_64.manylinux2014_x86_64.whl (6.0 MB)\n",
            "\u001b[2K     \u001b[90m━━━━━━━━━━━━━━━━━━━━━━━━━━━━━━━━━━━━━━━━\u001b[0m \u001b[32m6.0/6.0 MB\u001b[0m \u001b[31m116.5 MB/s\u001b[0m eta \u001b[36m0:00:00\u001b[0m\n",
            "\u001b[?25hRequirement already satisfied: wheel<1.0,>=0.23.0 in /usr/local/lib/python3.10/dist-packages (from astunparse>=1.6.0->tensorflow==2.11.0->-r requirements.txt (line 3)) (0.40.0)\n",
            "Requirement already satisfied: charset-normalizer<4.0,>=2.0 in /usr/local/lib/python3.10/dist-packages (from aiohttp->datasets==2.11.0->-r requirements.txt (line 2)) (2.0.12)\n",
            "Collecting yarl<2.0,>=1.0\n",
            "  Downloading yarl-1.9.2-cp310-cp310-manylinux_2_17_x86_64.manylinux2014_x86_64.whl (268 kB)\n",
            "\u001b[2K     \u001b[90m━━━━━━━━━━━━━━━━━━━━━━━━━━━━━━━━━━━━━━\u001b[0m \u001b[32m268.8/268.8 kB\u001b[0m \u001b[31m32.3 MB/s\u001b[0m eta \u001b[36m0:00:00\u001b[0m\n",
            "\u001b[?25hRequirement already satisfied: attrs>=17.3.0 in /usr/local/lib/python3.10/dist-packages (from aiohttp->datasets==2.11.0->-r requirements.txt (line 2)) (23.1.0)\n",
            "Collecting multidict<7.0,>=4.5\n",
            "  Downloading multidict-6.0.4-cp310-cp310-manylinux_2_17_x86_64.manylinux2014_x86_64.whl (114 kB)\n",
            "\u001b[2K     \u001b[90m━━━━━━━━━━━━━━━━━━━━━━━━━━━━━━━━━━━━━━\u001b[0m \u001b[32m114.5/114.5 kB\u001b[0m \u001b[31m13.5 MB/s\u001b[0m eta \u001b[36m0:00:00\u001b[0m\n",
            "\u001b[?25hCollecting aiosignal>=1.1.2\n",
            "  Downloading aiosignal-1.3.1-py3-none-any.whl (7.6 kB)\n",
            "Collecting async-timeout<5.0,>=4.0.0a3\n",
            "  Downloading async_timeout-4.0.2-py3-none-any.whl (5.8 kB)\n",
            "Collecting frozenlist>=1.1.1\n",
            "  Downloading frozenlist-1.3.3-cp310-cp310-manylinux_2_5_x86_64.manylinux1_x86_64.manylinux_2_17_x86_64.manylinux2014_x86_64.whl (149 kB)\n",
            "\u001b[2K     \u001b[90m━━━━━━━━━━━━━━━━━━━━━━━━━━━━━━━━━━━━━━\u001b[0m \u001b[32m149.6/149.6 kB\u001b[0m \u001b[31m18.1 MB/s\u001b[0m eta \u001b[36m0:00:00\u001b[0m\n",
            "\u001b[?25hRequirement already satisfied: urllib3<1.27,>=1.21.1 in /usr/local/lib/python3.10/dist-packages (from requests->transformers==4.28.0->-r requirements.txt (line 1)) (1.26.15)\n",
            "Requirement already satisfied: certifi>=2017.4.17 in /usr/local/lib/python3.10/dist-packages (from requests->transformers==4.28.0->-r requirements.txt (line 1)) (2022.12.7)\n",
            "Requirement already satisfied: idna<4,>=2.5 in /usr/local/lib/python3.10/dist-packages (from requests->transformers==4.28.0->-r requirements.txt (line 1)) (3.4)\n",
            "Requirement already satisfied: werkzeug>=1.0.1 in /usr/local/lib/python3.10/dist-packages (from tensorboard<2.12,>=2.11->tensorflow==2.11.0->-r requirements.txt (line 3)) (2.3.0)\n",
            "Requirement already satisfied: google-auth<3,>=1.6.3 in /usr/local/lib/python3.10/dist-packages (from tensorboard<2.12,>=2.11->tensorflow==2.11.0->-r requirements.txt (line 3)) (2.17.3)\n",
            "Requirement already satisfied: markdown>=2.6.8 in /usr/local/lib/python3.10/dist-packages (from tensorboard<2.12,>=2.11->tensorflow==2.11.0->-r requirements.txt (line 3)) (3.4.3)\n",
            "Collecting google-auth-oauthlib<0.5,>=0.4.1\n",
            "  Downloading google_auth_oauthlib-0.4.6-py2.py3-none-any.whl (18 kB)\n",
            "Collecting tensorboard-data-server<0.7.0,>=0.6.0\n",
            "  Downloading tensorboard_data_server-0.6.1-py3-none-manylinux2010_x86_64.whl (4.9 MB)\n",
            "\u001b[2K     \u001b[90m━━━━━━━━━━━━━━━━━━━━━━━━━━━━━━━━━━━━━━━━\u001b[0m \u001b[32m4.9/4.9 MB\u001b[0m \u001b[31m90.3 MB/s\u001b[0m eta \u001b[36m0:00:00\u001b[0m\n",
            "\u001b[?25hRequirement already satisfied: tensorboard-plugin-wit>=1.6.0 in /usr/local/lib/python3.10/dist-packages (from tensorboard<2.12,>=2.11->tensorflow==2.11.0->-r requirements.txt (line 3)) (1.8.1)\n",
            "Requirement already satisfied: python-dateutil>=2.8.1 in /usr/local/lib/python3.10/dist-packages (from pandas->datasets==2.11.0->-r requirements.txt (line 2)) (2.8.2)\n",
            "Requirement already satisfied: pytz>=2020.1 in /usr/local/lib/python3.10/dist-packages (from pandas->datasets==2.11.0->-r requirements.txt (line 2)) (2022.7.1)\n",
            "Requirement already satisfied: tensorflow-hub>=0.8.0 in /usr/local/lib/python3.10/dist-packages (from tensorflow-text->keras-nlp==0.4.1->-r requirements.txt (line 5)) (0.13.0)\n",
            "Collecting tensorflow-text\n",
            "  Downloading tensorflow_text-2.12.0-cp310-cp310-manylinux_2_17_x86_64.manylinux2014_x86_64.whl (6.0 MB)\n",
            "\u001b[2K     \u001b[90m━━━━━━━━━━━━━━━━━━━━━━━━━━━━━━━━━━━━━━━━\u001b[0m \u001b[32m6.0/6.0 MB\u001b[0m \u001b[31m85.3 MB/s\u001b[0m eta \u001b[36m0:00:00\u001b[0m\n",
            "\u001b[?25h  Downloading tensorflow_text-2.11.0-cp310-cp310-manylinux_2_17_x86_64.manylinux2014_x86_64.whl (5.8 MB)\n",
            "\u001b[2K     \u001b[90m━━━━━━━━━━━━━━━━━━━━━━━━━━━━━━━━━━━━━━━━\u001b[0m \u001b[32m5.8/5.8 MB\u001b[0m \u001b[31m85.0 MB/s\u001b[0m eta \u001b[36m0:00:00\u001b[0m\n",
            "\u001b[?25hRequirement already satisfied: cachetools<6.0,>=2.0.0 in /usr/local/lib/python3.10/dist-packages (from google-auth<3,>=1.6.3->tensorboard<2.12,>=2.11->tensorflow==2.11.0->-r requirements.txt (line 3)) (5.3.0)\n",
            "Requirement already satisfied: rsa<5,>=3.1.4 in /usr/local/lib/python3.10/dist-packages (from google-auth<3,>=1.6.3->tensorboard<2.12,>=2.11->tensorflow==2.11.0->-r requirements.txt (line 3)) (4.9)\n",
            "Requirement already satisfied: pyasn1-modules>=0.2.1 in /usr/local/lib/python3.10/dist-packages (from google-auth<3,>=1.6.3->tensorboard<2.12,>=2.11->tensorflow==2.11.0->-r requirements.txt (line 3)) (0.3.0)\n",
            "Requirement already satisfied: requests-oauthlib>=0.7.0 in /usr/local/lib/python3.10/dist-packages (from google-auth-oauthlib<0.5,>=0.4.1->tensorboard<2.12,>=2.11->tensorflow==2.11.0->-r requirements.txt (line 3)) (1.3.1)\n",
            "Requirement already satisfied: MarkupSafe>=2.1.1 in /usr/local/lib/python3.10/dist-packages (from werkzeug>=1.0.1->tensorboard<2.12,>=2.11->tensorflow==2.11.0->-r requirements.txt (line 3)) (2.1.2)\n",
            "Requirement already satisfied: pyasn1<0.6.0,>=0.4.6 in /usr/local/lib/python3.10/dist-packages (from pyasn1-modules>=0.2.1->google-auth<3,>=1.6.3->tensorboard<2.12,>=2.11->tensorflow==2.11.0->-r requirements.txt (line 3)) (0.5.0)\n",
            "Requirement already satisfied: oauthlib>=3.0.0 in /usr/local/lib/python3.10/dist-packages (from requests-oauthlib>=0.7.0->google-auth-oauthlib<0.5,>=0.4.1->tensorboard<2.12,>=2.11->tensorflow==2.11.0->-r requirements.txt (line 3)) (3.2.2)\n",
            "Installing collected packages: tokenizers, xxhash, tensorflow-estimator, tensorboard-data-server, protobuf, multidict, keras, frozenlist, dill, async-timeout, yarl, responses, multiprocess, huggingface-hub, aiosignal, transformers, google-auth-oauthlib, aiohttp, tensorboard, tensorflow, datasets, tensorflow-text, keras-nlp\n",
            "  Attempting uninstall: tensorflow-estimator\n",
            "    Found existing installation: tensorflow-estimator 2.12.0\n",
            "    Uninstalling tensorflow-estimator-2.12.0:\n",
            "      Successfully uninstalled tensorflow-estimator-2.12.0\n",
            "  Attempting uninstall: tensorboard-data-server\n",
            "    Found existing installation: tensorboard-data-server 0.7.0\n",
            "    Uninstalling tensorboard-data-server-0.7.0:\n",
            "      Successfully uninstalled tensorboard-data-server-0.7.0\n",
            "  Attempting uninstall: protobuf\n",
            "    Found existing installation: protobuf 3.20.3\n",
            "    Uninstalling protobuf-3.20.3:\n",
            "      Successfully uninstalled protobuf-3.20.3\n",
            "  Attempting uninstall: keras\n",
            "    Found existing installation: keras 2.12.0\n",
            "    Uninstalling keras-2.12.0:\n",
            "      Successfully uninstalled keras-2.12.0\n",
            "  Attempting uninstall: google-auth-oauthlib\n",
            "    Found existing installation: google-auth-oauthlib 1.0.0\n",
            "    Uninstalling google-auth-oauthlib-1.0.0:\n",
            "      Successfully uninstalled google-auth-oauthlib-1.0.0\n",
            "  Attempting uninstall: tensorboard\n",
            "    Found existing installation: tensorboard 2.12.2\n",
            "    Uninstalling tensorboard-2.12.2:\n",
            "      Successfully uninstalled tensorboard-2.12.2\n",
            "  Attempting uninstall: tensorflow\n",
            "    Found existing installation: tensorflow 2.12.0\n",
            "    Uninstalling tensorflow-2.12.0:\n",
            "      Successfully uninstalled tensorflow-2.12.0\n",
            "\u001b[31mERROR: pip's dependency resolver does not currently take into account all the packages that are installed. This behaviour is the source of the following dependency conflicts.\n",
            "tensorflow-metadata 1.13.1 requires protobuf<5,>=3.20.3, but you have protobuf 3.19.6 which is incompatible.\u001b[0m\u001b[31m\n",
            "\u001b[0mSuccessfully installed aiohttp-3.8.4 aiosignal-1.3.1 async-timeout-4.0.2 datasets-2.11.0 dill-0.3.6 frozenlist-1.3.3 google-auth-oauthlib-0.4.6 huggingface-hub-0.14.1 keras-2.11.0 keras-nlp-0.4.1 multidict-6.0.4 multiprocess-0.70.14 protobuf-3.19.6 responses-0.18.0 tensorboard-2.11.2 tensorboard-data-server-0.6.1 tensorflow-2.11.0 tensorflow-estimator-2.11.0 tensorflow-text-2.11.0 tokenizers-0.13.3 transformers-4.28.0 xxhash-3.2.0 yarl-1.9.2\n",
            "Looking in indexes: https://pypi.org/simple, https://us-python.pkg.dev/colab-wheels/public/simple/\n",
            "Processing /content/tensorflow-nanoGPT\n",
            "  \u001b[1;31merror\u001b[0m: \u001b[1msubprocess-exited-with-error\u001b[0m\n",
            "  \n",
            "  \u001b[31m×\u001b[0m \u001b[32mpython setup.py egg_info\u001b[0m did not run successfully.\n",
            "  \u001b[31m│\u001b[0m exit code: \u001b[1;36m1\u001b[0m\n",
            "  \u001b[31m╰─>\u001b[0m See above for output.\n",
            "  \n",
            "  \u001b[1;35mnote\u001b[0m: This error originates from a subprocess, and is likely not a problem with pip.\n",
            "  Preparing metadata (setup.py) ... \u001b[?25l\u001b[?25herror\n",
            "\u001b[1;31merror\u001b[0m: \u001b[1mmetadata-generation-failed\u001b[0m\n",
            "\n",
            "\u001b[31m×\u001b[0m Encountered error while generating package metadata.\n",
            "\u001b[31m╰─>\u001b[0m See above for output.\n",
            "\n",
            "\u001b[1;35mnote\u001b[0m: This is an issue with the package mentioned above, not pip.\n",
            "\u001b[1;36mhint\u001b[0m: See above for details.\n"
          ]
        }
      ]
    },
    {
      "cell_type": "code",
      "source": [
        "!cd tensorflow-nanoGPT && git pull &&  pip install ."
      ],
      "metadata": {
        "colab": {
          "base_uri": "https://localhost:8080/"
        },
        "id": "ZDoFPlEXJtz5",
        "outputId": "8291545a-b4a5-4d4e-9432-47f5549da988"
      },
      "execution_count": 9,
      "outputs": [
        {
          "output_type": "stream",
          "name": "stdout",
          "text": [
            "Already up to date.\n",
            "Looking in indexes: https://pypi.org/simple, https://us-python.pkg.dev/colab-wheels/public/simple/\n",
            "Processing /content/tensorflow-nanoGPT\n",
            "  Preparing metadata (setup.py) ... \u001b[?25l\u001b[?25hdone\n",
            "Building wheels for collected packages: tf-nano-gpt\n",
            "  Building wheel for tf-nano-gpt (setup.py) ... \u001b[?25l\u001b[?25hdone\n",
            "  Created wheel for tf-nano-gpt: filename=tf_nano_gpt-0.1.0-py3-none-any.whl size=15205 sha256=b8f13220e661045aa5e1b619df3d8f79c36deb22f206191ca3fe61ad4568b1c1\n",
            "  Stored in directory: /root/.cache/pip/wheels/5b/f2/91/1326ae5d7c87e9a08e865f2ba555e05e80fb5cfcdfd5cc76c1\n",
            "Successfully built tf-nano-gpt\n",
            "Installing collected packages: tf-nano-gpt\n",
            "Successfully installed tf-nano-gpt-0.1.0\n"
          ]
        }
      ]
    },
    {
      "cell_type": "code",
      "source": [
        "!cp -r tensorflow-nanoGPT/notebooks/tokenizer tokenizer"
      ],
      "metadata": {
        "id": "HqLtvEFkKarI"
      },
      "execution_count": 10,
      "outputs": []
    },
    {
      "cell_type": "code",
      "execution_count": 11,
      "metadata": {
        "id": "0pJW3xhQGiOP"
      },
      "outputs": [],
      "source": [
        "%load_ext autoreload\n",
        "%autoreload 2"
      ]
    },
    {
      "cell_type": "code",
      "execution_count": 12,
      "metadata": {
        "id": "9vvd6A71GiOP"
      },
      "outputs": [],
      "source": [
        "import tensorflow as tf\n",
        "tf.keras.mixed_precision.set_global_policy('mixed_float16')"
      ]
    },
    {
      "cell_type": "markdown",
      "metadata": {
        "id": "1iZMRN5nGiOQ"
      },
      "source": [
        "# Dataset preparation"
      ]
    },
    {
      "cell_type": "code",
      "execution_count": 13,
      "metadata": {
        "id": "ccWJVy9RGiOQ",
        "colab": {
          "base_uri": "https://localhost:8080/",
          "height": 265,
          "referenced_widgets": [
            "ca7d06a938624eb7b9b6f64647cbb3c5",
            "b397d3e6b21e4d0facdf3a9eadd1f5d4",
            "175c40f06bdf41f0a32fcbe6833c56a7",
            "ec75fc56fd884df3858ffa8bf76e3ff8",
            "757ec7b29b6240219ec06b34317c82fe",
            "71822954a34f4070a4290b9508e89736",
            "d2b9733882f14f63b7d19582e69c3377",
            "89c8e4bc88c94fcb8a79d09d45da4dc3",
            "b53622ed2a43413aa8f5ba376a9caf03",
            "70af933075b1410c8ee2e5bae7f5d3b1",
            "7739a41c845f47299d8c9b00742c34a1",
            "e903e4c14f10490ebe3f9d20b2a9fbe7",
            "dc0c286e6bce4a32a5f48a83edaceb0b",
            "e117e1bf24e14af19e86a6b8f375f889",
            "e84b8f5b16304504a2833b1754906dfa",
            "8993efe3ded0406e8f439531e2b5d00e",
            "f4c91dbcdc1f47ae80b52436866fd25c",
            "da7961e9470d4ce3ae799837129d0344",
            "6b45cadabf904602be6bf878fc042609",
            "fc73fcb3cd004d3bb5827388505578b6",
            "59d1f1293bb34404a3023cc98a638eff",
            "5658ba431f454de2af65cb0694db82db",
            "fabad907d8f84771b58e546f70a5b4a3",
            "d241d7088f7f4933a07fc8945556a06d",
            "254c44a58f604e5dbf0650ad927223e0",
            "b8f2ffc349e144cca688b1a0e3874714",
            "c239dcbb23fb4419913b8ae320670eb9",
            "40f02b2818824020a74e070c1ac5cfd9",
            "b8dfcbc736fc462da81e92c9ce44d141",
            "60b0ca690faf4a80992e4c1a974a0e01",
            "2a383785b9fd4193b91ee064a3419a96",
            "f9ecefaad169435181b256393143cd5d",
            "15e57447223b4597b76a2fe29295965b",
            "365bcfc38f8f47a4a9029bd9442e7ead",
            "3a23cfd6f9644262bbf82a8dc00c5cca",
            "a12f677e7e254cd8a49c841cdc0a8c7d",
            "40ea25798fa940adb0a368e30578f59d",
            "fc4f4fedb4484b87be3ae15aeb927fd1",
            "42c717dddc6b4b7d9a53efe1c860bcf5",
            "717eae16b59348f2a7960b57fd9b127c",
            "a19b7f634e684732b27a1f6e99bd3f08",
            "f161ca8f44644eba8d0a5a9ffd157f7a",
            "2fcb1b652c0a41b08d0b9a08862a8bbc",
            "47655a6b6f934292bdcb1b359587217f",
            "97d5809343854ae78a4a0c81f65e3154",
            "cfd383ec9c844dd7a17f9871bba3fbfa",
            "44ce9a9a4e074a4db30f701c299237fe",
            "243036b7bce94c5589c230a8b050545d",
            "2d140f7158df4135a431b06072a055da",
            "7f674efda2bc47e3877eef41b843d244",
            "87b4e5a753fa4ba3a8cad8cdbee924a2",
            "03642cf1faca4295843479095b2b8cff",
            "43abe24c19564d64a49fdc4678323ab4",
            "cb7b4b3e46f64056bff1be5d1153d067",
            "7f427c1a298a480d8dfb924e78c46dcb",
            "2448d11c06b7466082e93f7ee73ff18c",
            "20a6f76ca3514c1bac1c605ef5e0a3b3",
            "b74bb6df3a034b58840e33984a726938",
            "b281a20f1d40478e869574ac8d5f3e6a",
            "27b15052232e41a59596f741ca974a8b",
            "c323d2ae41634b1f9b8e3701f6720280",
            "e9efea846e1141f58d928d05161e0f5a",
            "5e0abe0601f4421d91923d2f73de512c",
            "6af41d0274014164b6823a6a0006d3fd",
            "3970cf1b9e2d4dc19f124e1b5a5e691d",
            "a45bcb26291849a58b035437da3c6038",
            "dd915828f51c476da4bd2fccdc99ce60",
            "104a1279208b4c18b52ffe0fa9b1493e",
            "cacb78cc5fc64b63b430a1ba6dab94f0",
            "750fc211762c43e3a7af2f52af48ee9a",
            "2b0b90364a2e47ba9349b7c4e0aa7cd6",
            "7a09490f07184d7e8ce10a2c58b79cde",
            "3134432dbe7141a0a3edff58a5a4dce5",
            "6375df8e41f14c5aa14e0cfba98595ed",
            "26129f02a117497f84d069dce74f33c8",
            "f781c431dd4c4cd881f5ed2c7cee0909",
            "daa0505cf195418f8bb2f07b66ae726c",
            "f36044652d664ce2ae58e40767cf7b8d",
            "a7354374af514677aede32f4bd92bf68",
            "65ee18a3f7e4483992539d968edbfe38",
            "d99156d373524ae2be98fdde3a6fa05d",
            "f31299f6e7ca4069ae6f414a25f7cec6",
            "44c43005d5da4e7a9df600a600a19de3",
            "8dd013a84bee429f8cde90c78aa53675",
            "042ec8cc4650491a9fd9481894e1e0a0",
            "50b4ce68421642bab5fb67c4b490b836",
            "87a0c52ca3d14856bdab0aec60182863",
            "8e5ee6ea7e714028b9c4c3f528067cfe"
          ]
        },
        "outputId": "58879bc8-604a-4223-8a52-af30c563db06"
      },
      "outputs": [
        {
          "output_type": "display_data",
          "data": {
            "text/plain": [
              "Downloading builder script:   0%|          | 0.00/9.57k [00:00<?, ?B/s]"
            ],
            "application/vnd.jupyter.widget-view+json": {
              "version_major": 2,
              "version_minor": 0,
              "model_id": "ca7d06a938624eb7b9b6f64647cbb3c5"
            }
          },
          "metadata": {}
        },
        {
          "output_type": "display_data",
          "data": {
            "text/plain": [
              "Downloading metadata:   0%|          | 0.00/3.73k [00:00<?, ?B/s]"
            ],
            "application/vnd.jupyter.widget-view+json": {
              "version_major": 2,
              "version_minor": 0,
              "model_id": "e903e4c14f10490ebe3f9d20b2a9fbe7"
            }
          },
          "metadata": {}
        },
        {
          "output_type": "display_data",
          "data": {
            "text/plain": [
              "Downloading readme:   0%|          | 0.00/12.3k [00:00<?, ?B/s]"
            ],
            "application/vnd.jupyter.widget-view+json": {
              "version_major": 2,
              "version_minor": 0,
              "model_id": "fabad907d8f84771b58e546f70a5b4a3"
            }
          },
          "metadata": {}
        },
        {
          "output_type": "stream",
          "name": "stdout",
          "text": [
            "Downloading and preparing dataset conll2003/conll2003 to /root/.cache/huggingface/datasets/conll2003/conll2003/1.0.0/9a4d16a94f8674ba3466315300359b0acd891b68b6c8743ddf60b9c702adce98...\n"
          ]
        },
        {
          "output_type": "display_data",
          "data": {
            "text/plain": [
              "Downloading data:   0%|          | 0.00/983k [00:00<?, ?B/s]"
            ],
            "application/vnd.jupyter.widget-view+json": {
              "version_major": 2,
              "version_minor": 0,
              "model_id": "365bcfc38f8f47a4a9029bd9442e7ead"
            }
          },
          "metadata": {}
        },
        {
          "output_type": "display_data",
          "data": {
            "text/plain": [
              "Generating train split:   0%|          | 0/14041 [00:00<?, ? examples/s]"
            ],
            "application/vnd.jupyter.widget-view+json": {
              "version_major": 2,
              "version_minor": 0,
              "model_id": "97d5809343854ae78a4a0c81f65e3154"
            }
          },
          "metadata": {}
        },
        {
          "output_type": "display_data",
          "data": {
            "text/plain": [
              "Generating validation split:   0%|          | 0/3250 [00:00<?, ? examples/s]"
            ],
            "application/vnd.jupyter.widget-view+json": {
              "version_major": 2,
              "version_minor": 0,
              "model_id": "2448d11c06b7466082e93f7ee73ff18c"
            }
          },
          "metadata": {}
        },
        {
          "output_type": "display_data",
          "data": {
            "text/plain": [
              "Generating test split:   0%|          | 0/3453 [00:00<?, ? examples/s]"
            ],
            "application/vnd.jupyter.widget-view+json": {
              "version_major": 2,
              "version_minor": 0,
              "model_id": "dd915828f51c476da4bd2fccdc99ce60"
            }
          },
          "metadata": {}
        },
        {
          "output_type": "stream",
          "name": "stdout",
          "text": [
            "Dataset conll2003 downloaded and prepared to /root/.cache/huggingface/datasets/conll2003/conll2003/1.0.0/9a4d16a94f8674ba3466315300359b0acd891b68b6c8743ddf60b9c702adce98. Subsequent calls will reuse this data.\n"
          ]
        },
        {
          "output_type": "display_data",
          "data": {
            "text/plain": [
              "  0%|          | 0/3 [00:00<?, ?it/s]"
            ],
            "application/vnd.jupyter.widget-view+json": {
              "version_major": 2,
              "version_minor": 0,
              "model_id": "f36044652d664ce2ae58e40767cf7b8d"
            }
          },
          "metadata": {}
        }
      ],
      "source": [
        "from datasets import load_dataset\n",
        "dataset = load_dataset(\"conll2003\")"
      ]
    },
    {
      "cell_type": "code",
      "execution_count": 14,
      "metadata": {
        "id": "1xW8qWx5GiOQ"
      },
      "outputs": [],
      "source": [
        "NER_TAGS = {\n",
        "    \"O\": 0,\n",
        "    \"B-PER\": 1,\n",
        "    \"I-PER\": 2,\n",
        "    \"B-ORG\": 3,\n",
        "    \"I-ORG\": 4,\n",
        "    \"B-LOC\": 5,\n",
        "    \"I-LOC\": 6,\n",
        "    \"B-MISC\": 7,\n",
        "    \"I-MISC\": 8,\n",
        "}\n",
        "NER_TAGS_INV = {v: k for k, v in NER_TAGS.items()}"
      ]
    },
    {
      "cell_type": "code",
      "execution_count": 15,
      "metadata": {
        "id": "0Z9PUMdgGiOQ",
        "colab": {
          "base_uri": "https://localhost:8080/"
        },
        "outputId": "adbabdb1-5129-4dfc-d079-be6a74230c57"
      },
      "outputs": [
        {
          "output_type": "execute_result",
          "data": {
            "text/plain": [
              "{'id': '100',\n",
              " 'tokens': ['Rabinovich',\n",
              "  'is',\n",
              "  'winding',\n",
              "  'up',\n",
              "  'his',\n",
              "  'term',\n",
              "  'as',\n",
              "  'ambassador',\n",
              "  '.'],\n",
              " 'pos_tags': [21, 42, 39, 33, 29, 21, 15, 21, 7],\n",
              " 'chunk_tags': [11, 21, 22, 15, 11, 12, 13, 11, 0],\n",
              " 'ner_tags': [1, 0, 0, 0, 0, 0, 0, 0, 0]}"
            ]
          },
          "metadata": {},
          "execution_count": 15
        }
      ],
      "source": [
        "dataset[\"train\"][100]"
      ]
    },
    {
      "cell_type": "code",
      "execution_count": 16,
      "metadata": {
        "id": "ttROXV04GiOR",
        "colab": {
          "base_uri": "https://localhost:8080/",
          "height": 1000
        },
        "outputId": "036644c6-856b-4a66-e7ab-d11bbbe045bc"
      },
      "outputs": [
        {
          "output_type": "stream",
          "name": "stderr",
          "text": [
            "\n",
            "\n",
            "\n",
            "  0%|          | 0/14041 [00:00<?, ?it/s]\u001b[A\u001b[A\u001b[A\n",
            "\n",
            "\n",
            "  5%|▍         | 667/14041 [00:00<00:02, 6660.57it/s]\u001b[A\u001b[A\u001b[A\n",
            "\n",
            "\n",
            " 10%|▉         | 1334/14041 [00:00<00:01, 6504.02it/s]\u001b[A\u001b[A\u001b[A\n",
            "\n",
            "\n",
            " 14%|█▍        | 1985/14041 [00:00<00:01, 6367.86it/s]\u001b[A\u001b[A\u001b[A\n",
            "\n",
            "\n",
            " 19%|█▉        | 2703/14041 [00:00<00:01, 6677.72it/s]\u001b[A\u001b[A\u001b[A\n",
            "\n",
            "\n",
            " 24%|██▍       | 3372/14041 [00:00<00:01, 6347.93it/s]\u001b[A\u001b[A\u001b[A\n",
            "\n",
            "\n",
            " 29%|██▉       | 4092/14041 [00:00<00:01, 6624.65it/s]\u001b[A\u001b[A\u001b[A\n",
            "\n",
            "\n",
            " 34%|███▍      | 4758/14041 [00:00<00:01, 6401.39it/s]\u001b[A\u001b[A\u001b[A\n",
            "\n",
            "\n",
            " 39%|███▉      | 5481/14041 [00:00<00:01, 6650.89it/s]\u001b[A\u001b[A\u001b[A\n",
            "\n",
            "\n",
            " 44%|████▍     | 6150/14041 [00:00<00:01, 6614.73it/s]\u001b[A\u001b[A\u001b[A\n",
            "\n",
            "\n",
            " 49%|████▉     | 6865/14041 [00:01<00:01, 6773.86it/s]\u001b[A\u001b[A\u001b[A\n",
            "\n",
            "\n",
            " 54%|█████▎    | 7545/14041 [00:01<00:00, 6640.30it/s]\u001b[A\u001b[A\u001b[A\n",
            "\n",
            "\n",
            " 58%|█████▊    | 8211/14041 [00:01<00:01, 3730.05it/s]\u001b[A\u001b[A\u001b[A\n",
            "\n",
            "\n",
            " 63%|██████▎   | 8877/14041 [00:01<00:01, 4290.46it/s]\u001b[A\u001b[A\u001b[A\n",
            "\n",
            "\n",
            " 67%|██████▋   | 9441/14041 [00:01<00:01, 4560.41it/s]\u001b[A\u001b[A\u001b[A\n",
            "\n",
            "\n",
            " 71%|███████▏  | 10031/14041 [00:01<00:00, 4871.88it/s]\u001b[A\u001b[A\u001b[A\n",
            "\n",
            "\n",
            " 76%|███████▌  | 10652/14041 [00:01<00:00, 5204.74it/s]\u001b[A\u001b[A\u001b[A\n",
            "\n",
            "\n",
            " 80%|████████  | 11238/14041 [00:02<00:00, 5374.30it/s]\u001b[A\u001b[A\u001b[A\n",
            "\n",
            "\n",
            " 84%|████████▍ | 11823/14041 [00:02<00:00, 5425.51it/s]\u001b[A\u001b[A\u001b[A\n",
            "\n",
            "\n",
            " 88%|████████▊ | 12399/14041 [00:02<00:00, 5434.45it/s]\u001b[A\u001b[A\u001b[A\n",
            "\n",
            "\n",
            " 92%|█████████▏| 12966/14041 [00:02<00:00, 5463.35it/s]\u001b[A\u001b[A\u001b[A\n",
            "\n",
            "\n",
            "100%|██████████| 14041/14041 [00:02<00:00, 5590.91it/s]\n"
          ]
        }
      ],
      "source": [
        "from tqdm import tqdm\n",
        "\n",
        "train_data = []\n",
        "for data in tqdm(dataset[\"train\"]):\n",
        "    tags = [NER_TAGS_INV[tag] for tag in data[\"ner_tags\"]]\n",
        "    train_data.append((data[\"tokens\"], tags))"
      ]
    },
    {
      "cell_type": "code",
      "execution_count": 17,
      "metadata": {
        "id": "34TOXHXkGiOR",
        "colab": {
          "base_uri": "https://localhost:8080/"
        },
        "outputId": "840a37ec-54ae-4329-d92c-4f873e1d4b5e"
      },
      "outputs": [
        {
          "output_type": "stream",
          "name": "stderr",
          "text": [
            "100%|██████████| 3250/3250 [00:00<00:00, 11473.92it/s]\n"
          ]
        }
      ],
      "source": [
        "validation_data = []\n",
        "for data in tqdm(dataset[\"validation\"]):\n",
        "    tags = [NER_TAGS_INV[tag] for tag in data[\"ner_tags\"]]\n",
        "    validation_data.append((data[\"tokens\"], tags))"
      ]
    },
    {
      "cell_type": "code",
      "execution_count": 18,
      "metadata": {
        "id": "7AzThLigGiOR",
        "colab": {
          "base_uri": "https://localhost:8080/"
        },
        "outputId": "8805e34a-e8aa-425a-f0c3-bc93644b5ed0"
      },
      "outputs": [
        {
          "output_type": "execute_result",
          "data": {
            "text/plain": [
              "37.0"
            ]
          },
          "metadata": {},
          "execution_count": 18
        }
      ],
      "source": [
        "import numpy as np\n",
        "np.quantile([len(data[0]) for data in train_data], 0.95)"
      ]
    },
    {
      "cell_type": "code",
      "execution_count": 19,
      "metadata": {
        "id": "RmA2sqMZGiOR",
        "colab": {
          "base_uri": "https://localhost:8080/"
        },
        "outputId": "932a724a-c117-461f-ec3d-a2cc58dc512a"
      },
      "outputs": [
        {
          "output_type": "stream",
          "name": "stdout",
          "text": [
            "\"              O\n",
            "We             O\n",
            "do             O\n",
            "n't            O\n",
            "support        O\n",
            "any            O\n",
            "such           O\n",
            "recommendation O\n",
            "because        O\n",
            "we             O\n",
            "do             O\n",
            "n't            O\n",
            "see            O\n",
            "any            O\n",
            "grounds        O\n",
            "for            O\n",
            "it             O\n",
            ",              O\n",
            "\"              O\n",
            "the            O\n",
            "Commission     B-ORG\n",
            "'s             O\n",
            "chief          O\n",
            "spokesman      O\n",
            "Nikolaus       B-PER\n",
            "van            I-PER\n",
            "der            I-PER\n",
            "Pas            I-PER\n",
            "told           O\n",
            "a              O\n",
            "news           O\n",
            "briefing       O\n",
            ".              O\n",
            "prompt:\" We do n't support any such recommendation because we do n't see any grounds for it , \" the Commission 's chief spokesman Nikolaus van der Pas told a news briefing .\n",
            "target:Commission//ORG\n",
            "Nikolaus van der Pas//PER\n",
            "\n"
          ]
        }
      ],
      "source": [
        "def prepare_data(item):\n",
        "    targets_data = []\n",
        "    current_ner = []\n",
        "\n",
        "    for token, tag_name in zip(*item):\n",
        "\n",
        "        if tag_name.startswith(\"B-\"):\n",
        "            if len(current_ner) == 0:\n",
        "                current_ner.append((token, tag_name[2:]))\n",
        "                continue\n",
        "            else:\n",
        "                targets_data.append(current_ner)\n",
        "                current_ner = []\n",
        "                current_ner.append((token, tag_name[2:]))\n",
        "                continue\n",
        "\n",
        "        if tag_name.startswith(\"I-\") and len(current_ner) > 0:\n",
        "            current_ner.append((token, tag_name[2:]))\n",
        "            continue\n",
        "\n",
        "        if len(current_ner) > 0:\n",
        "            targets_data.append(current_ner)\n",
        "            current_ner = []\n",
        "\n",
        "    if len(current_ner) > 0:\n",
        "        targets_data.append(current_ner)\n",
        "\n",
        "\n",
        "    context = \" \".join(item[0])\n",
        "    \n",
        "    target_text = \"\"\n",
        "    for tokens in targets_data:\n",
        "        words = \" \".join([word for word, tag in tokens])\n",
        "        target_text += f\"{words}//{tokens[0][1]}\\n\"\n",
        "\n",
        "    return context, target_text\n",
        "\n",
        "\n",
        "item = train_data[5]\n",
        "for token, tag_name in zip(*item):\n",
        "    print(f\"{token:15}{tag_name}\")\n",
        "\n",
        "context_text, target_text = prepare_data(item)\n",
        "\n",
        "print(f\"prompt:{context_text}\")\n",
        "print(f\"target:{target_text}\")"
      ]
    },
    {
      "cell_type": "code",
      "execution_count": 20,
      "metadata": {
        "id": "yIyfMEAUGiOR",
        "colab": {
          "base_uri": "https://localhost:8080/"
        },
        "outputId": "b96bf460-8108-44ba-f120-f9918c37e6a1"
      },
      "outputs": [
        {
          "output_type": "stream",
          "name": "stderr",
          "text": [
            "100%|██████████| 14041/14041 [00:00<00:00, 67419.66it/s]\n",
            "100%|██████████| 3250/3250 [00:00<00:00, 52020.64it/s]\n"
          ]
        }
      ],
      "source": [
        "prepared_train_data = [prepare_data(item) for item in tqdm(train_data)]\n",
        "prepared_validation_data = [prepare_data(item) for item in tqdm(validation_data)]"
      ]
    },
    {
      "cell_type": "markdown",
      "metadata": {
        "id": "yrzsm1G-GiOR"
      },
      "source": [
        "# Build tf.data.Dataset iterators"
      ]
    },
    {
      "cell_type": "code",
      "execution_count": 21,
      "metadata": {
        "id": "WzgV4PgkGiOR"
      },
      "outputs": [],
      "source": [
        "from tf_nano_gpt.model import GPT2Tokenizer\n",
        "\n",
        "sequence_length = 256\n",
        "context_length =  sequence_length // 2\n",
        "tokenizer = GPT2Tokenizer()"
      ]
    },
    {
      "cell_type": "code",
      "execution_count": 22,
      "metadata": {
        "id": "UzZpZTh3GiOR"
      },
      "outputs": [],
      "source": [
        "def prepare_lm_targets(context, target):\n",
        "    context_tokens, target_tokens = tokenizer.tokenize_sample(context, target)\n",
        "    context_tokens = tokenizer.pad_or_slice(context_tokens, context_length)\n",
        "    target_tokens = tokenizer.pad_or_slice(target_tokens, context_length + 1)\n",
        "\n",
        "    x = tf.concat([context_tokens, target_tokens[:-1]], 0)\n",
        "    y = tf.concat([context_tokens, target_tokens[1:]], 0)\n",
        "\n",
        "    # simple mask to remove context from the loss computation as well as pad tokens\n",
        "    mask = tf.cast(tf.abs(x - y) > 0, tf.int32)\n",
        "    targets_ids = tf.stack([y, mask], 1)\n",
        "\n",
        "    return {\"inputs_ids\": x, \"targets_ids\": targets_ids}, targets_ids"
      ]
    },
    {
      "cell_type": "code",
      "execution_count": 23,
      "metadata": {
        "id": "ip3nLpGYGiOS"
      },
      "outputs": [],
      "source": [
        "def build_dataset_iterator(prepared_data, is_training: bool, batch_size: int) -> tf.data.Dataset:\n",
        "    dataset = tf.data.Dataset.from_tensor_slices(prepared_data)\n",
        "    dataset = dataset.map(\n",
        "        lambda x: prepare_lm_targets(x[0], x[1]), num_parallel_calls=tf.data.AUTOTUNE\n",
        "    )\n",
        "\n",
        "    if is_training:\n",
        "        dataset = dataset.repeat(-1)\n",
        "        dataset = dataset.shuffle(2048)\n",
        "    dataset = dataset.batch(batch_size)\n",
        "    dataset = dataset.prefetch(tf.data.AUTOTUNE)\n",
        "    return dataset"
      ]
    },
    {
      "cell_type": "code",
      "execution_count": 24,
      "metadata": {
        "id": "8fiLeP4XGiOS",
        "colab": {
          "base_uri": "https://localhost:8080/"
        },
        "outputId": "d2feee7d-43d2-4c3b-9371-4198ee6ae825"
      },
      "outputs": [
        {
          "output_type": "stream",
          "name": "stderr",
          "text": [
            "WARNING:tensorflow:From /usr/local/lib/python3.10/dist-packages/tensorflow/python/autograph/pyct/static_analysis/liveness.py:83: Analyzer.lamba_check (from tensorflow.python.autograph.pyct.static_analysis.liveness) is deprecated and will be removed after 2023-09-23.\n",
            "Instructions for updating:\n",
            "Lambda fuctions will be no more assumed to be used in the statement where they are used, or at least in the same block. https://github.com/tensorflow/tensorflow/issues/56089\n"
          ]
        },
        {
          "output_type": "execute_result",
          "data": {
            "text/plain": [
              "<PrefetchDataset element_spec=({'inputs_ids': TensorSpec(shape=(None, 256), dtype=tf.int32, name=None), 'targets_ids': TensorSpec(shape=(None, 256, 2), dtype=tf.int32, name=None)}, TensorSpec(shape=(None, 256, 2), dtype=tf.int32, name=None))>"
            ]
          },
          "metadata": {},
          "execution_count": 24
        }
      ],
      "source": [
        "batch_size = 8\n",
        "train_dataset = build_dataset_iterator(prepared_train_data, is_training=True, batch_size=batch_size)\n",
        "train_dataset"
      ]
    },
    {
      "cell_type": "code",
      "execution_count": 25,
      "metadata": {
        "id": "JSp5LBQCGiOS",
        "colab": {
          "base_uri": "https://localhost:8080/"
        },
        "outputId": "1901d052-4e76-47fb-8bcc-fe40c9e7592b"
      },
      "outputs": [
        {
          "output_type": "execute_result",
          "data": {
            "text/plain": [
              "<PrefetchDataset element_spec=({'inputs_ids': TensorSpec(shape=(None, 256), dtype=tf.int32, name=None), 'targets_ids': TensorSpec(shape=(None, 256, 2), dtype=tf.int32, name=None)}, TensorSpec(shape=(None, 256, 2), dtype=tf.int32, name=None))>"
            ]
          },
          "metadata": {},
          "execution_count": 25
        }
      ],
      "source": [
        "validation_dataset = build_dataset_iterator(prepared_validation_data, is_training=False, batch_size=batch_size)\n",
        "validation_dataset"
      ]
    },
    {
      "cell_type": "code",
      "execution_count": 26,
      "metadata": {
        "id": "L9P2xE-XGiOS",
        "colab": {
          "base_uri": "https://localhost:8080/"
        },
        "outputId": "35de9dde-2dc3-46ad-e512-878e89eb6aaa"
      },
      "outputs": [
        {
          "output_type": "stream",
          "name": "stdout",
          "text": [
            "WESTERN DIVISION\n",
            "WESTERN DIVISION//MISC\n",
            "<|endoftext|>\n"
          ]
        }
      ],
      "source": [
        "for x, y in train_dataset:\n",
        "    break\n",
        "\n",
        "x = x[\"inputs_ids\"]\n",
        "pad_str = tokenizer.pad_token_str\n",
        "print(tokenizer.detokenize(x[0, :context_length]).numpy().decode(\"utf-8\").replace(pad_str, \"\"))\n",
        "print(tokenizer.detokenize(y[0, context_length:, 0]).numpy().decode(\"utf-8\").replace(pad_str, \"\"))"
      ]
    },
    {
      "cell_type": "markdown",
      "metadata": {
        "id": "aXZjSUDbGiOS"
      },
      "source": [
        "# Build model"
      ]
    },
    {
      "cell_type": "code",
      "execution_count": 27,
      "metadata": {
        "id": "r2Tg19WWGiOS",
        "colab": {
          "base_uri": "https://localhost:8080/",
          "height": 154,
          "referenced_widgets": [
            "f87638e7c8384d168e81e5d2a2bb490b",
            "a7cd5558feab4f7787058ece790d6247",
            "f216ccb697764e3fb1908e311965c5a5",
            "f41de134fbb24b9d88dce8bb0a3100c1",
            "3824dce9cdd24e11927a05fd26f204f8",
            "15085bfac468482cb534d6c503538e8b",
            "4f51850667ed4bfab9be307642b40ded",
            "9e1f3afce5bd4090927512cba142e67d",
            "44f1ec973f354f5981a05aa0849850a9",
            "62aeedcf06bf42938985d616c9cc729e",
            "1df32a893a314f7da375bc8e30d89218",
            "817c7ccf8e6a457d98d7995e3e74898c",
            "04ac4228998540c8a850665f935fe132",
            "b1d41949ff4f44b0839420632f792c78",
            "79aeb8221bdd4a40951a01358498805e",
            "7c0403ef2efe40a0a94c5f55a93d319a",
            "327634e719c04ff2a9e412640960e324",
            "beda6c9f4c6e4628b14d6b7bf9674fba",
            "aba974d46188456caf93793d7375cd56",
            "8f91182538d6448a8817667d9c0d3526",
            "249f6d651ea0451a9444847e7f6255b2",
            "b6cce53ec03a4d6ead470897ee401adb"
          ]
        },
        "outputId": "79ae2ba6-470a-46ee-927e-13f493e8a094"
      },
      "outputs": [
        {
          "output_type": "display_data",
          "data": {
            "text/plain": [
              "Downloading (…)lve/main/config.json:   0%|          | 0.00/665 [00:00<?, ?B/s]"
            ],
            "application/vnd.jupyter.widget-view+json": {
              "version_major": 2,
              "version_minor": 0,
              "model_id": "f87638e7c8384d168e81e5d2a2bb490b"
            }
          },
          "metadata": {}
        },
        {
          "output_type": "display_data",
          "data": {
            "text/plain": [
              "Downloading tf_model.h5:   0%|          | 0.00/498M [00:00<?, ?B/s]"
            ],
            "application/vnd.jupyter.widget-view+json": {
              "version_major": 2,
              "version_minor": 0,
              "model_id": "817c7ccf8e6a457d98d7995e3e74898c"
            }
          },
          "metadata": {}
        },
        {
          "output_type": "stream",
          "name": "stderr",
          "text": [
            "All model checkpoint layers were used when initializing TFGPT2Model.\n",
            "\n",
            "All the layers of TFGPT2Model were initialized from the model checkpoint at gpt2.\n",
            "If your task is similar to the task the model of the checkpoint was trained on, you can already use TFGPT2Model for predictions without further training.\n"
          ]
        }
      ],
      "source": [
        "from transformers import TFGPT2Model\n",
        "from tf_nano_gpt.model import freeze_embeddings, freeze_layers\n",
        "from tf_nano_gpt.metrics import masked_lm_loss, masked_accuracy\n",
        "\n",
        "base_model = TFGPT2Model.from_pretrained('gpt2')"
      ]
    },
    {
      "cell_type": "code",
      "execution_count": 28,
      "metadata": {
        "id": "UBf7I-bzGiOS"
      },
      "outputs": [],
      "source": [
        "freeze_embeddings(base_model)\n",
        "freeze_layers(base_model, num_blocks_to_freeze=8, use_lora=False)"
      ]
    },
    {
      "cell_type": "code",
      "execution_count": 29,
      "metadata": {
        "id": "TqsYds4-GiOS",
        "colab": {
          "base_uri": "https://localhost:8080/"
        },
        "outputId": "675f2ef4-c3e4-45f1-e1e4-8c083e93ee7d"
      },
      "outputs": [
        {
          "output_type": "stream",
          "name": "stdout",
          "text": [
            "Model: \"model\"\n",
            "____________________________________________________________________________________________________________________________________________________________________________________\n",
            " Layer (type)                                              Output Shape                            Param #              Connected to                                                \n",
            "====================================================================================================================================================================================\n",
            " inputs_ids (InputLayer)                                   [(None, 256)]                           0                    []                                                          \n",
            "                                                                                                                                                                                    \n",
            " tf.ones_like (TFOpLambda)                                 (None, 256)                             0                    ['inputs_ids[0][0]']                                        \n",
            "                                                                                                                                                                                    \n",
            " tfgpt2_model (TFGPT2Model)                                TFBaseModelOutputWithPastAndCrossAtten  85056000             ['tf.ones_like[0][0]',                                      \n",
            "                                                           tions(last_hidden_state=(None, 256, 76                        'inputs_ids[0][0]']                                        \n",
            "                                                           8),                                                                                                                      \n",
            "                                                            past_key_values=((2, None, 12, 256, 6                                                                                   \n",
            "                                                           4),                                                                                                                      \n",
            "                                                            (2, None, 12, 256, 64),                                                                                                 \n",
            "                                                            (2, None, 12, 256, 64),                                                                                                 \n",
            "                                                            (2, None, 12, 256, 64),                                                                                                 \n",
            "                                                            (2, None, 12, 256, 64),                                                                                                 \n",
            "                                                            (2, None, 12, 256, 64),                                                                                                 \n",
            "                                                            (2, None, 12, 256, 64),                                                                                                 \n",
            "                                                            (2, None, 12, 256, 64),                                                                                                 \n",
            "                                                            (2, None, 12, 256, 64),                                                                                                 \n",
            "                                                            (2, None, 12, 256, 64),                                                                                                 \n",
            "                                                            (2, None, 12, 256, 64),                                                                                                 \n",
            "                                                            (2, None, 12, 256, 64)),                                                                                                \n",
            "                                                            hidden_states=None, attentions=None,                                                                                    \n",
            "                                                           cross_attentions=None)                                                                                                   \n",
            "                                                                                                                                                                                    \n",
            " dropout_37 (Dropout)                                      (None, 256, 768)                        0                    ['tfgpt2_model[0][0]']                                      \n",
            "                                                                                                                                                                                    \n",
            " targets_ids (InputLayer)                                  [(None, 256, 2)]                        0                    []                                                          \n",
            "                                                                                                                                                                                    \n",
            " frozen_embeddings (FrozenEmbeddings)                      (None, 256, 50257)                      0                    ['dropout_37[0][0]']                                        \n",
            "                                                                                                                                                                                    \n",
            " tf.__operators__.getitem (SlicingOpLambda)                (None, 256)                             0                    ['targets_ids[0][0]']                                       \n",
            "                                                                                                                                                                                    \n",
            " tf.keras.backend.sparse_categorical_crossentropy (TFOpLam  (None, 256)                            0                    ['tf.__operators__.getitem[0][0]',                          \n",
            " bda)                                                                                                                    'frozen_embeddings[0][0]']                                 \n",
            "                                                                                                                                                                                    \n",
            " tf.__operators__.getitem_1 (SlicingOpLambda)              (None, 256)                             0                    ['targets_ids[0][0]']                                       \n",
            "                                                                                                                                                                                    \n",
            " tf.math.multiply (TFOpLambda)                             (None, 256)                             0                    ['tf.keras.backend.sparse_categorical_crossentropy[0][0]']  \n",
            "                                                                                                                                                                                    \n",
            " tf.cast_1 (TFOpLambda)                                    (None, 256)                             0                    ['tf.__operators__.getitem_1[0][0]']                        \n",
            "                                                                                                                                                                                    \n",
            " tf.math.multiply_1 (TFOpLambda)                           (None, 256)                             0                    ['tf.math.multiply[0][0]',                                  \n",
            "                                                                                                                         'tf.cast_1[0][0]']                                         \n",
            "                                                                                                                                                                                    \n",
            " tf.math.reduce_mean (TFOpLambda)                          (None,)                                 0                    ['tf.math.multiply_1[0][0]']                                \n",
            "                                                                                                                                                                                    \n",
            " tf.math.reduce_mean_1 (TFOpLambda)                        ()                                      0                    ['tf.math.reduce_mean[0][0]']                               \n",
            "                                                                                                                                                                                    \n",
            " add_loss (AddLoss)                                        ()                                      0                    ['tf.math.reduce_mean_1[0][0]']                             \n",
            "                                                                                                                                                                                    \n",
            " tf.__operators__.getitem_3 (SlicingOpLambda)              (None, 256)                             0                    ['targets_ids[0][0]']                                       \n",
            "                                                                                                                                                                                    \n",
            " tf.reshape_2 (TFOpLambda)                                 (None,)                                 0                    ['tf.__operators__.getitem_3[0][0]']                        \n",
            "                                                                                                                                                                                    \n",
            " tf.math.argmax (TFOpLambda)                               (None, 256)                             0                    ['frozen_embeddings[0][0]']                                 \n",
            "                                                                                                                                                                                    \n",
            " tf.__operators__.getitem_2 (SlicingOpLambda)              (None, 256)                             0                    ['targets_ids[0][0]']                                       \n",
            "                                                                                                                                                                                    \n",
            " tf.math.greater (TFOpLambda)                              (None,)                                 0                    ['tf.reshape_2[0][0]']                                      \n",
            "                                                                                                                                                                                    \n",
            " tf.reshape_1 (TFOpLambda)                                 (None,)                                 0                    ['tf.math.argmax[0][0]']                                    \n",
            "                                                                                                                                                                                    \n",
            " tf.reshape (TFOpLambda)                                   (None,)                                 0                    ['tf.__operators__.getitem_2[0][0]']                        \n",
            "                                                                                                                                                                                    \n",
            " tf.where (TFOpLambda)                                     (None, 1)                               0                    ['tf.math.greater[0][0]']                                   \n",
            "                                                                                                                                                                                    \n",
            " tf.cast_2 (TFOpLambda)                                    (None,)                                 0                    ['tf.reshape_1[0][0]']                                      \n",
            "                                                                                                                                                                                    \n",
            " tf.compat.v1.gather (TFOpLambda)                          (None, 1)                               0                    ['tf.reshape[0][0]',                                        \n",
            "                                                                                                                         'tf.where[0][0]']                                          \n",
            "                                                                                                                                                                                    \n",
            " tf.compat.v1.gather_1 (TFOpLambda)                        (None, 1)                               0                    ['tf.cast_2[0][0]',                                         \n",
            "                                                                                                                         'tf.where[0][0]']                                          \n",
            "                                                                                                                                                                                    \n",
            " tf.__operators__.eq (TFOpLambda)                          (None, 1)                               0                    ['tf.compat.v1.gather[0][0]',                               \n",
            "                                                                                                                         'tf.compat.v1.gather_1[0][0]']                             \n",
            "                                                                                                                                                                                    \n",
            " tf.cast_3 (TFOpLambda)                                    (None, 1)                               0                    ['tf.__operators__.eq[0][0]']                               \n",
            "                                                                                                                                                                                    \n",
            " tf.math.reduce_mean_2 (TFOpLambda)                        (None,)                                 0                    ['tf.cast_3[0][0]']                                         \n",
            "                                                                                                                                                                                    \n",
            " tf.math.reduce_mean_3 (TFOpLambda)                        ()                                      0                    ['tf.math.reduce_mean_2[0][0]']                             \n",
            "                                                                                                                                                                                    \n",
            " add_metric (AddMetric)                                    ()                                      0                    ['tf.math.reduce_mean_3[0][0]']                             \n",
            "                                                                                                                                                                                    \n",
            "====================================================================================================================================================================================\n",
            "Total params: 85,056,000\n",
            "Trainable params: 28,353,024\n",
            "Non-trainable params: 56,702,976\n",
            "____________________________________________________________________________________________________________________________________________________________________________________\n"
          ]
        }
      ],
      "source": [
        "def model_predict_fn(\n",
        "    inputs_ids: tf.Tensor,\n",
        "    past_key_values: tf.Tensor = None,\n",
        "    position_ids: tf.Tensor = None,\n",
        "):\n",
        "    encoded_input = {\n",
        "        \"input_ids\": inputs_ids,\n",
        "        \"attention_mask\": tf.ones_like(inputs_ids),\n",
        "        \"past_key_values\": past_key_values,\n",
        "        \"position_ids\": position_ids,\n",
        "    }\n",
        "\n",
        "    output = base_model(encoded_input)\n",
        "    last_hidden_state = output.last_hidden_state\n",
        "    past_key_values = output.past_key_values\n",
        "\n",
        "    last_hidden_state = tf.keras.layers.Dropout(0.2)(last_hidden_state)\n",
        "\n",
        "    logits = base_model.transformer.wte(last_hidden_state, mode=\"linear\")\n",
        "    return logits, past_key_values\n",
        "\n",
        "\n",
        "inputs_ids = tf.keras.layers.Input(\n",
        "    shape=(sequence_length,), dtype=tf.int32, name=\"inputs_ids\"\n",
        ")\n",
        "targets_ids = tf.keras.layers.Input(\n",
        "    shape=(sequence_length, 2), dtype=tf.int32, name=\"targets_ids\"\n",
        ")\n",
        "\n",
        "logits, _ = model_predict_fn(inputs_ids)\n",
        "\n",
        "loss_value = masked_lm_loss(targets_ids, logits)\n",
        "accuracy_value = masked_accuracy(targets_ids, tf.argmax(logits, -1))\n",
        "\n",
        "train_model = tf.keras.Model(inputs=[inputs_ids, targets_ids], outputs=logits)\n",
        "\n",
        "train_model.add_loss(loss_value)\n",
        "train_model.add_metric(accuracy_value, name=\"accuracy\")\n",
        "\n",
        "train_model.summary(180)"
      ]
    },
    {
      "cell_type": "code",
      "execution_count": 30,
      "metadata": {
        "id": "XEXCPQP6GiOS"
      },
      "outputs": [],
      "source": [
        "inference_model = tf.keras.Model(inputs=inputs_ids, outputs=logits)"
      ]
    },
    {
      "cell_type": "markdown",
      "metadata": {
        "id": "wZHYfYN_GiOS"
      },
      "source": [
        "# Training model"
      ]
    },
    {
      "cell_type": "code",
      "execution_count": 31,
      "metadata": {
        "id": "SSo1kkxrGiOT"
      },
      "outputs": [],
      "source": [
        "epochs = 10\n",
        "steps_per_epoch = 1000\n",
        "save_dir = \"models/test-gpt-2-model-v1\"\n"
      ]
    },
    {
      "cell_type": "code",
      "execution_count": 33,
      "metadata": {
        "id": "TTDUt-t1GiOT",
        "colab": {
          "base_uri": "https://localhost:8080/"
        },
        "outputId": "2583624d-9abd-42b5-8ac0-85520d61ea05"
      },
      "outputs": [
        {
          "output_type": "execute_result",
          "data": {
            "text/plain": [
              "50"
            ]
          },
          "metadata": {},
          "execution_count": 33
        }
      ],
      "source": [
        "decay_steps = steps_per_epoch * epochs\n",
        "validation_steps = validation_dataset.cardinality().numpy() // batch_size\n",
        "validation_steps"
      ]
    },
    {
      "cell_type": "code",
      "execution_count": 34,
      "metadata": {
        "id": "TtFudJlMGiOT"
      },
      "outputs": [],
      "source": [
        "optimizer = tf.keras.optimizers.Adam(learning_rate=0.0001)\n",
        "optimizer = tf.keras.mixed_precision.LossScaleOptimizer(optimizer)\n",
        "train_model.compile(optimizer, jit_compile=True)"
      ]
    },
    {
      "cell_type": "code",
      "execution_count": 35,
      "metadata": {
        "id": "RCdJpNDWGiOT"
      },
      "outputs": [],
      "source": [
        "from pathlib import Path\n",
        "\n",
        "lr_scheduler = tf.keras.optimizers.schedules.CosineDecay(0.0001, epochs, alpha=0.01)\n",
        "\n",
        "def lr_schedule(epoch):\n",
        "  learning_rate = lr_scheduler(epoch)\n",
        "  tf.summary.scalar('learning rate', data=learning_rate, step=epoch)\n",
        "  return learning_rate\n",
        "\n",
        "\n",
        "callbacks = [\n",
        "    tf.keras.callbacks.TensorBoard(\n",
        "        log_dir=Path(save_dir) / \"logs\",\n",
        "        histogram_freq=0,\n",
        "        embeddings_freq=0,\n",
        "        update_freq=\"epoch\",\n",
        "        write_steps_per_second=True,\n",
        "        profile_batch=(200, 250),\n",
        "        write_graph=False,\n",
        "    ),\n",
        "    tf.keras.callbacks.LearningRateScheduler(lr_schedule),\n",
        "    tf.keras.callbacks.ModelCheckpoint(\n",
        "        Path(save_dir) / \"model\",\n",
        "        monitor = \"val_accuracy\",\n",
        "        verbose = 1,\n",
        "        save_best_only = True,\n",
        "        save_weights_only = True,\n",
        "        mode = \"auto\",\n",
        "    ),\n",
        "]"
      ]
    },
    {
      "cell_type": "code",
      "execution_count": 36,
      "metadata": {
        "id": "QnuJiECiGiOT"
      },
      "outputs": [],
      "source": [
        "# train_model.load_weights(Path(save_dir) / \"model\")"
      ]
    },
    {
      "cell_type": "code",
      "execution_count": 37,
      "metadata": {
        "id": "QCNZz8DLGiOT",
        "colab": {
          "base_uri": "https://localhost:8080/"
        },
        "outputId": "54b80dac-8403-4b1e-ecfe-680e1289a2ea"
      },
      "outputs": [
        {
          "output_type": "execute_result",
          "data": {
            "text/plain": [
              "TensorShape([8, 256, 50257])"
            ]
          },
          "metadata": {},
          "execution_count": 37
        }
      ],
      "source": [
        "for x, y in train_dataset:\n",
        "    break\n",
        "\n",
        "y_pred = train_model(x)\n",
        "y_pred.shape"
      ]
    },
    {
      "cell_type": "code",
      "execution_count": 38,
      "metadata": {
        "id": "EtmTeNqUGiOT",
        "colab": {
          "base_uri": "https://localhost:8080/"
        },
        "outputId": "e40d09fb-25ef-45b3-d9d7-0e6cd674c758"
      },
      "outputs": [
        {
          "output_type": "stream",
          "name": "stdout",
          "text": [
            "Epoch 1/10\n",
            "1000/1000 [==============================] - ETA: 0s - loss: 0.0390 - accuracy: 0.8351\n",
            "Epoch 1: val_accuracy improved from -inf to 0.93714, saving model to models/test-gpt-2-model-v1/model\n",
            "1000/1000 [==============================] - 161s 105ms/step - loss: 0.0390 - accuracy: 0.8351 - val_loss: 0.0155 - val_accuracy: 0.9371 - lr: 1.0000e-04\n",
            "Epoch 2/10\n",
            "1000/1000 [==============================] - ETA: 0s - loss: 0.0243 - accuracy: 0.8921\n",
            "Epoch 2: val_accuracy improved from 0.93714 to 0.95425, saving model to models/test-gpt-2-model-v1/model\n",
            "1000/1000 [==============================] - 91s 91ms/step - loss: 0.0243 - accuracy: 0.8921 - val_loss: 0.0107 - val_accuracy: 0.9542 - lr: 9.7577e-05\n",
            "Epoch 3/10\n",
            "1000/1000 [==============================] - ETA: 0s - loss: 0.0174 - accuracy: 0.9194\n",
            "Epoch 3: val_accuracy improved from 0.95425 to 0.95496, saving model to models/test-gpt-2-model-v1/model\n",
            "1000/1000 [==============================] - 91s 91ms/step - loss: 0.0174 - accuracy: 0.9194 - val_loss: 0.0098 - val_accuracy: 0.9550 - lr: 9.0546e-05\n",
            "Epoch 4/10\n",
            "1000/1000 [==============================] - ETA: 0s - loss: 0.0153 - accuracy: 0.9279\n",
            "Epoch 4: val_accuracy improved from 0.95496 to 0.96321, saving model to models/test-gpt-2-model-v1/model\n",
            "1000/1000 [==============================] - 92s 92ms/step - loss: 0.0153 - accuracy: 0.9279 - val_loss: 0.0081 - val_accuracy: 0.9632 - lr: 7.9595e-05\n",
            "Epoch 5/10\n",
            "1000/1000 [==============================] - ETA: 0s - loss: 0.0123 - accuracy: 0.9403\n",
            "Epoch 5: val_accuracy improved from 0.96321 to 0.96406, saving model to models/test-gpt-2-model-v1/model\n",
            "1000/1000 [==============================] - 93s 93ms/step - loss: 0.0123 - accuracy: 0.9403 - val_loss: 0.0078 - val_accuracy: 0.9641 - lr: 6.5796e-05\n",
            "Epoch 6/10\n",
            "1000/1000 [==============================] - ETA: 0s - loss: 0.0109 - accuracy: 0.9462\n",
            "Epoch 6: val_accuracy improved from 0.96406 to 0.97013, saving model to models/test-gpt-2-model-v1/model\n",
            "1000/1000 [==============================] - 93s 93ms/step - loss: 0.0109 - accuracy: 0.9462 - val_loss: 0.0068 - val_accuracy: 0.9701 - lr: 5.0500e-05\n",
            "Epoch 7/10\n",
            "1000/1000 [==============================] - ETA: 0s - loss: 0.0101 - accuracy: 0.9492\n",
            "Epoch 7: val_accuracy did not improve from 0.97013\n",
            "1000/1000 [==============================] - 90s 90ms/step - loss: 0.0101 - accuracy: 0.9492 - val_loss: 0.0065 - val_accuracy: 0.9694 - lr: 3.5204e-05\n",
            "Epoch 8/10\n",
            "1000/1000 [==============================] - ETA: 0s - loss: 0.0083 - accuracy: 0.9574\n",
            "Epoch 8: val_accuracy improved from 0.97013 to 0.97342, saving model to models/test-gpt-2-model-v1/model\n",
            "1000/1000 [==============================] - 93s 93ms/step - loss: 0.0083 - accuracy: 0.9574 - val_loss: 0.0061 - val_accuracy: 0.9734 - lr: 2.1405e-05\n",
            "Epoch 9/10\n",
            "1000/1000 [==============================] - ETA: 0s - loss: 0.0090 - accuracy: 0.9552\n",
            "Epoch 9: val_accuracy did not improve from 0.97342\n",
            "1000/1000 [==============================] - 91s 91ms/step - loss: 0.0090 - accuracy: 0.9552 - val_loss: 0.0060 - val_accuracy: 0.9729 - lr: 1.0454e-05\n",
            "Epoch 10/10\n",
            "1000/1000 [==============================] - ETA: 0s - loss: 0.0078 - accuracy: 0.9603\n",
            "Epoch 10: val_accuracy did not improve from 0.97342\n",
            "1000/1000 [==============================] - 90s 90ms/step - loss: 0.0078 - accuracy: 0.9603 - val_loss: 0.0060 - val_accuracy: 0.9721 - lr: 3.4227e-06\n"
          ]
        },
        {
          "output_type": "execute_result",
          "data": {
            "text/plain": [
              "<keras.callbacks.History at 0x7f3756a37070>"
            ]
          },
          "metadata": {},
          "execution_count": 38
        }
      ],
      "source": [
        "train_model.fit(\n",
        "    train_dataset,\n",
        "    steps_per_epoch=steps_per_epoch,\n",
        "    validation_data=validation_dataset,\n",
        "    validation_steps=validation_steps,\n",
        "    verbose=1,\n",
        "    callbacks=callbacks,\n",
        "    epochs=epochs,\n",
        ")"
      ]
    },
    {
      "cell_type": "markdown",
      "metadata": {
        "id": "731ucu17GiOT"
      },
      "source": [
        "# Evaluate model"
      ]
    },
    {
      "cell_type": "code",
      "execution_count": 39,
      "metadata": {
        "id": "vIJRufupGiOT"
      },
      "outputs": [],
      "source": [
        "validation_dataset_iter = iter(validation_dataset)"
      ]
    },
    {
      "cell_type": "code",
      "execution_count": 40,
      "metadata": {
        "id": "dgElM06hGiOT"
      },
      "outputs": [],
      "source": [
        "def greedy_predict_next_token(inputs_ids: tf.Tensor) -> tf.Tensor:\n",
        "    \n",
        "    current_index = tf.reduce_sum(tf.cast(inputs_ids > 0, tf.int32), -1) - 1\n",
        "    num_sentences, maxlen = tf.shape(inputs_ids)[0], tf.shape(inputs_ids)[1]\n",
        "\n",
        "    y = inference_model(inputs_ids)\n",
        "    logits = tf.gather(y, current_index, batch_dims=1)\n",
        "    sampled_indices = tf.argmax(logits, axis=-1, output_type=tf.int32)\n",
        "\n",
        "    current_index = tf.minimum(current_index + 1, maxlen - 1)\n",
        "    scatter_indices = tf.stack([tf.range(num_sentences), current_index], axis=1)\n",
        "\n",
        "    inputs_ids = (\n",
        "        tf.scatter_nd(scatter_indices, sampled_indices, shape=(num_sentences, maxlen))\n",
        "        + inputs_ids\n",
        "    )\n",
        "    return inputs_ids"
      ]
    },
    {
      "cell_type": "code",
      "execution_count": 41,
      "metadata": {
        "id": "_b1PeJpMGiOT"
      },
      "outputs": [],
      "source": [
        "x, y = next(validation_dataset_iter)\n",
        "x = x['inputs_ids']"
      ]
    },
    {
      "cell_type": "code",
      "execution_count": 42,
      "metadata": {
        "id": "hWii7NELGiOT",
        "colab": {
          "base_uri": "https://localhost:8080/"
        },
        "outputId": "e1d9969f-c727-4d7c-eff0-bf2c6fee93ce"
      },
      "outputs": [
        {
          "output_type": "stream",
          "name": "stdout",
          "text": [
            "CRICKET - LEICESTERSHIRE TAKE OVER AT TOP AFTER INNINGS VICTORY .\n",
            "LEICESTERSHIRE//ORG\n",
            "<|endoftext|>\n"
          ]
        }
      ],
      "source": [
        "idx = 0\n",
        "x_test = tf.concat([x[:, :context_length + 1], tf.zeros_like(x)[:, context_length + 1:]], -1)\n",
        "context, target = tokenizer.detokenize(x)[idx].numpy().decode().split(tokenizer.start_token_str)\n",
        "target_text = tokenizer.detokenize(y[:, context_length:, 0])[idx].numpy().decode()\n",
        "\n",
        "print(context.replace(tokenizer.pad_token_str, \"\"))\n",
        "print(target_text.replace(tokenizer.pad_token_str, \"\"))"
      ]
    },
    {
      "cell_type": "code",
      "execution_count": 43,
      "metadata": {
        "id": "UoS8rms8GiOT"
      },
      "outputs": [],
      "source": [
        "stop_token = tokenizer.stop_token_id\n",
        "for i in range(context_length):\n",
        "    x_test = greedy_predict_next_token(x_test)\n",
        "    all_complete = tf.shape(tf.unique(tf.where(x_test[:, context_length:] == stop_token)[:, 0]).y) == batch_size\n",
        "    if bool(all_complete[0].numpy()):\n",
        "        break"
      ]
    },
    {
      "cell_type": "code",
      "execution_count": 44,
      "metadata": {
        "id": "Gh1PX7hRGiOU",
        "colab": {
          "base_uri": "https://localhost:8080/"
        },
        "outputId": "06224c25-0826-4cd0-c1c0-cc956208c7e9"
      },
      "outputs": [
        {
          "output_type": "stream",
          "name": "stdout",
          "text": [
            "LEICESTERSHIRE//LOC\n",
            "<|endoftext|>::PER\n",
            "<|endoftext|>::PER\n",
            "<|endoftext|>::PER\n",
            "<|endoftext|>::PER\n",
            "<|endoftext|>::\n"
          ]
        }
      ],
      "source": [
        "result = tokenizer.detokenize(x_test[:, context_length + 1:])[idx].numpy().decode().replace(\"!\", \"\")\n",
        "print(result)"
      ]
    },
    {
      "cell_type": "markdown",
      "metadata": {
        "id": "V3scbUuNGiOU"
      },
      "source": [
        "# Sampling using keras_nlp functions"
      ]
    },
    {
      "cell_type": "code",
      "execution_count": 45,
      "metadata": {
        "id": "jEN5CTqCGiOU"
      },
      "outputs": [],
      "source": [
        "import keras_nlp\n",
        "\n",
        "\n",
        "@tf.function(input_signature=[tf.TensorSpec(shape=(None, None), dtype=tf.int32)])\n",
        "def token_probability_fn(inputs):\n",
        "\n",
        "    input_len = tf.shape(inputs)[1]\n",
        "\n",
        "    inputs = tf.map_fn(\n",
        "        lambda _: tokenizer.pad_or_slice(_, sequence_length), inputs\n",
        "    )\n",
        "\n",
        "    y = inference_model(inputs)\n",
        "    return y[:, input_len - 1, :]"
      ]
    },
    {
      "cell_type": "code",
      "execution_count": 46,
      "metadata": {
        "id": "CwkL-h8DGiOU",
        "colab": {
          "base_uri": "https://localhost:8080/"
        },
        "outputId": "7ada5d26-fc43-45c8-e0ca-8e9501a75aff"
      },
      "outputs": [
        {
          "output_type": "execute_result",
          "data": {
            "text/plain": [
              "TensorShape([1, 256])"
            ]
          },
          "metadata": {},
          "execution_count": 46
        }
      ],
      "source": [
        "prompt = x[idx, : context_length + 1][None, :]\n",
        "\n",
        "predicted_tokens = keras_nlp.utils.top_k_search(\n",
        "    token_probability_fn,\n",
        "    prompt,\n",
        "    max_length=sequence_length,\n",
        "    end_token_id=tokenizer.stop_token_id,\n",
        "    from_logits=True,\n",
        "    k=5,\n",
        ")\n",
        "\n",
        "if len(predicted_tokens.shape) == 1:\n",
        "    predicted_tokens = predicted_tokens[None, :]\n",
        "predicted_tokens.shape"
      ]
    },
    {
      "cell_type": "code",
      "execution_count": 47,
      "metadata": {
        "id": "9OfN3vWRGiOU",
        "colab": {
          "base_uri": "https://localhost:8080/"
        },
        "outputId": "61d8ed57-a3c8-413d-a0f6-b1c9ff2cdb8d"
      },
      "outputs": [
        {
          "output_type": "stream",
          "name": "stdout",
          "text": [
            "LEICESTERSHIRE//LOC\n",
            "<|endoftext|>\n"
          ]
        }
      ],
      "source": [
        "result = tokenizer.detokenize(predicted_tokens[:, context_length + 1:])[0].numpy().decode().replace(\"!\", \"\")\n",
        "print(result)"
      ]
    },
    {
      "cell_type": "markdown",
      "metadata": {
        "id": "lr7pAELXGiOU"
      },
      "source": [
        "# Export model - base method"
      ]
    },
    {
      "cell_type": "code",
      "execution_count": 48,
      "metadata": {
        "id": "clJ2xtB_GiOU"
      },
      "outputs": [],
      "source": [
        "class GPT2Exporter(tf.Module):\n",
        "    def __init__(\n",
        "        self, model: tf.keras.Model, tokenizer: GPT2Tokenizer, jit_compile: bool = None\n",
        "    ):\n",
        "        super(GPT2Exporter, self).__init__()\n",
        "        self.model = model\n",
        "        self.tokenizer = tokenizer\n",
        "        self.jit_compile = jit_compile\n",
        "        self.predict_next_token_fn = greedy_predict_next_token\n",
        "\n",
        "        if jit_compile:\n",
        "            self.predict_next_token_fn = tf.function(\n",
        "                greedy_predict_next_token, jit_compile=True\n",
        "            )\n",
        "\n",
        "    def prepare_inputs(self, text: str):\n",
        "        input_ids = self.tokenizer.tokenize(text)\n",
        "        input_ids = self.tokenizer.pad_or_slice(input_ids, context_length)\n",
        "        input_ids = self.tokenizer.pad_or_slice(\n",
        "            tf.concat([input_ids, [self.tokenizer.start_token_id]], 0),\n",
        "            sequence_length,\n",
        "            pad_value=0,\n",
        "        )\n",
        "\n",
        "        input_ids = tf.reshape(input_ids, [1, -1])\n",
        "\n",
        "        return input_ids\n",
        "\n",
        "    @tf.function(input_signature=[tf.TensorSpec([], tf.string)])\n",
        "    def __call__(self, text):\n",
        "        input_ids = self.prepare_inputs(text)\n",
        "\n",
        "        i = tf.constant(0)\n",
        "        while i < context_length:\n",
        "            i += 1\n",
        "            input_ids = self.predict_next_token_fn(input_ids)\n",
        "\n",
        "            completed = tf.reduce_any(input_ids == self.tokenizer.stop_token_id)\n",
        "\n",
        "            if completed:\n",
        "                break\n",
        "\n",
        "        prediction = self.tokenizer.detokenize(input_ids[:, : context_length + i - 1])\n",
        "        prediction = tf.strings.split(prediction, self.tokenizer.start_token_str)[0, 1]\n",
        "\n",
        "        return {\"outputs\": prediction}\n",
        "\n",
        "\n",
        "gpt2_predictor = GPT2Exporter(inference_model, tokenizer)\n",
        "gpt2_predictor_jit = GPT2Exporter(inference_model, tokenizer, jit_compile=True)"
      ]
    },
    {
      "cell_type": "code",
      "execution_count": 49,
      "metadata": {
        "id": "SwNS5f4ZGiOU",
        "colab": {
          "base_uri": "https://localhost:8080/"
        },
        "outputId": "fe9ad279-4a05-4771-cdd0-4c5f122c8ef3"
      },
      "outputs": [
        {
          "output_type": "execute_result",
          "data": {
            "text/plain": [
              "['Headingley//LOC',\n",
              " 'Leeds//LOC',\n",
              " 'West Yorkshire//LOC',\n",
              " 'Headingley//LOC',\n",
              " 'Leeds University//ORG',\n",
              " 'Headingley Stadium//LOC']"
            ]
          },
          "metadata": {},
          "execution_count": 49
        }
      ],
      "source": [
        "prompt = \"Headingley is a suburb of Leeds, West Yorkshire, England, approximately two miles out of the city centre, to the north west along the A660 road. Headingley is the location of the Beckett Park campus of Leeds Beckett University and Headingley Stadium.\"\n",
        "\n",
        "prediction = gpt2_predictor(prompt)\n",
        "prediction['outputs'].numpy().decode().split(\"\\n\")"
      ]
    },
    {
      "cell_type": "code",
      "execution_count": 50,
      "metadata": {
        "id": "ZLSxoJdAGiOU",
        "colab": {
          "base_uri": "https://localhost:8080/"
        },
        "outputId": "4dd260ac-6642-4179-d891-474781e0c36c"
      },
      "outputs": [
        {
          "output_type": "execute_result",
          "data": {
            "text/plain": [
              "['Headingley//LOC',\n",
              " 'Leeds//LOC',\n",
              " 'West Yorkshire//LOC',\n",
              " 'Headingley//LOC',\n",
              " 'Leeds University//ORG',\n",
              " 'Headingley Stadium//LOC']"
            ]
          },
          "metadata": {},
          "execution_count": 50
        }
      ],
      "source": [
        "prediction = gpt2_predictor_jit(prompt)\n",
        "prediction['outputs'].numpy().decode().split(\"\\n\")"
      ]
    },
    {
      "cell_type": "code",
      "execution_count": 51,
      "metadata": {
        "id": "paWNu9y3GiOU",
        "colab": {
          "base_uri": "https://localhost:8080/"
        },
        "outputId": "4dc0ede5-9ef1-42fa-e875-3caf74ebea13"
      },
      "outputs": [
        {
          "output_type": "stream",
          "name": "stdout",
          "text": [
            "579 ms ± 38.5 ms per loop (mean ± std. dev. of 7 runs, 1 loop each)\n"
          ]
        }
      ],
      "source": [
        "%timeit gpt2_predictor(prompt)"
      ]
    },
    {
      "cell_type": "code",
      "execution_count": 52,
      "metadata": {
        "id": "ISbx5Wn6GiOU",
        "colab": {
          "base_uri": "https://localhost:8080/"
        },
        "outputId": "d900a352-712a-4930-fcee-ddb41314e96d"
      },
      "outputs": [
        {
          "output_type": "stream",
          "name": "stdout",
          "text": [
            "369 ms ± 4.37 ms per loop (mean ± std. dev. of 7 runs, 1 loop each)\n"
          ]
        }
      ],
      "source": [
        "%timeit gpt2_predictor_jit(prompt)"
      ]
    },
    {
      "cell_type": "code",
      "execution_count": null,
      "metadata": {
        "id": "PkvrF4I9GiOU"
      },
      "outputs": [],
      "source": [
        "tf.saved_model.save(gpt2_predictor, Path(save_dir) / \"exported-models/gpt2-ner/1/\")\n",
        "tf.saved_model.save(gpt2_predictor_jit, Path(save_dir) / \"exported-models/gpt2-ner-jit/1/\")"
      ]
    },
    {
      "cell_type": "markdown",
      "metadata": {
        "id": "i9lXNvs7GiOU"
      },
      "source": [
        "# Export model with cached keys and queries\n",
        "This is applicable only for GPT2 small which has 12 blocks"
      ]
    },
    {
      "cell_type": "code",
      "execution_count": 53,
      "metadata": {
        "id": "i9e8BoJ4GiOV"
      },
      "outputs": [],
      "source": [
        "def sample_argmax(logits):\n",
        "    return tf.argmax(logits, axis=-1, output_type=tf.int32)\n",
        "\n",
        "\n",
        "class CachedGPT2Exporter(GPT2Exporter):\n",
        "    def __init__(\n",
        "        self, model: tf.keras.Model, tokenizer: GPT2Tokenizer, jit_compile: bool = False\n",
        "    ):\n",
        "        super(CachedGPT2Exporter, self).__init__(model, tokenizer, jit_compile=False)\n",
        "        self.predict_next_token_fn = model_predict_fn\n",
        "        if jit_compile:\n",
        "            self.predict_next_token_fn = tf.function(model_predict_fn, jit_compile=True)\n",
        "\n",
        "    @tf.function(input_signature=[tf.TensorSpec([], tf.string)])\n",
        "    def __call__(self, text):\n",
        "        input_ids = self.prepare_inputs(text)\n",
        "        input_ids = input_ids[:, : context_length + 1]\n",
        "\n",
        "        logits, past_key_values = self.predict_next_token_fn(input_ids)\n",
        "        new_input_ids = tf.expand_dims(sample_argmax(logits[:, -1, :]), axis=-1)\n",
        "\n",
        "        states = tf.TensorArray(tf.int32, size=context_length)\n",
        "        states = states.write(0, new_input_ids)\n",
        "\n",
        "        # for autograph to compile this function we need to specify each variable explicitly\n",
        "        # since set_loop_options does not woth with python lists, that's why this function\n",
        "        # will work only with GPT2 small model\n",
        "        kv0 = past_key_values[0]\n",
        "        kv1 = past_key_values[1]\n",
        "        kv2 = past_key_values[2]\n",
        "        kv3 = past_key_values[3]\n",
        "        kv4 = past_key_values[4]\n",
        "        kv5 = past_key_values[5]\n",
        "        kv6 = past_key_values[6]\n",
        "        kv7 = past_key_values[7]\n",
        "        kv8 = past_key_values[8]\n",
        "        kv9 = past_key_values[9]\n",
        "        kv10 = past_key_values[10]\n",
        "        kv11 = past_key_values[11]\n",
        "\n",
        "        for i in tf.range(context_length - 1):\n",
        "            tf.autograph.experimental.set_loop_options(\n",
        "                shape_invariants=[\n",
        "                    (kv0, tf.TensorShape([2, 1, 12, None, 64])),\n",
        "                    (kv1, tf.TensorShape([2, 1, 12, None, 64])),\n",
        "                    (kv2, tf.TensorShape([2, 1, 12, None, 64])),\n",
        "                    (kv3, tf.TensorShape([2, 1, 12, None, 64])),\n",
        "                    (kv4, tf.TensorShape([2, 1, 12, None, 64])),\n",
        "                    (kv5, tf.TensorShape([2, 1, 12, None, 64])),\n",
        "                    (kv6, tf.TensorShape([2, 1, 12, None, 64])),\n",
        "                    (kv7, tf.TensorShape([2, 1, 12, None, 64])),\n",
        "                    (kv8, tf.TensorShape([2, 1, 12, None, 64])),\n",
        "                    (kv9, tf.TensorShape([2, 1, 12, None, 64])),\n",
        "                    (kv10, tf.TensorShape([2, 1, 12, None, 64])),\n",
        "                    (kv11, tf.TensorShape([2, 1, 12, None, 64])),\n",
        "                ]\n",
        "            )\n",
        "            past_key_values = [\n",
        "                kv0,\n",
        "                kv1,\n",
        "                kv2,\n",
        "                kv3,\n",
        "                kv4,\n",
        "                kv5,\n",
        "                kv6,\n",
        "                kv7,\n",
        "                kv8,\n",
        "                kv9,\n",
        "                kv10,\n",
        "                kv11,\n",
        "            ]\n",
        "\n",
        "            past_length = i + context_length - 1\n",
        "            position_ids = tf.expand_dims(\n",
        "                tf.range(past_length, past_length + 1), axis=0\n",
        "            )\n",
        "\n",
        "            logits, new_past_key_values = self.predict_next_token_fn(\n",
        "                inputs_ids=new_input_ids,\n",
        "                past_key_values=past_key_values,\n",
        "                position_ids=position_ids,\n",
        "            )\n",
        "            new_input_ids = tf.expand_dims(sample_argmax(logits[:, -1, :]), axis=-1)\n",
        "            states = states.write(i + 1, new_input_ids)\n",
        "\n",
        "            kv0 = new_past_key_values[0]\n",
        "            kv1 = new_past_key_values[1]\n",
        "            kv2 = new_past_key_values[2]\n",
        "            kv3 = new_past_key_values[3]\n",
        "            kv4 = new_past_key_values[4]\n",
        "            kv5 = new_past_key_values[5]\n",
        "            kv6 = new_past_key_values[6]\n",
        "            kv7 = new_past_key_values[7]\n",
        "            kv8 = new_past_key_values[8]\n",
        "            kv9 = new_past_key_values[9]\n",
        "            kv10 = new_past_key_values[10]\n",
        "            kv11 = new_past_key_values[11]\n",
        "\n",
        "            completed = tf.reduce_any(new_input_ids == self.tokenizer.stop_token_id)\n",
        "\n",
        "            if completed:\n",
        "                break\n",
        "\n",
        "        input_ids = tf.reshape(states.stack(), [1, -1])[:, :i]\n",
        "\n",
        "        prediction = self.tokenizer.detokenize(input_ids)\n",
        "\n",
        "        return {\"outputs\": prediction[0]}\n",
        "\n",
        "\n",
        "gpt2_cached_predictor = CachedGPT2Exporter(\n",
        "    inference_model, tokenizer, jit_compile=False\n",
        ")\n",
        "gpt2_cached_predictor_jit = CachedGPT2Exporter(\n",
        "    inference_model, tokenizer, jit_compile=True\n",
        ")"
      ]
    },
    {
      "cell_type": "code",
      "execution_count": 54,
      "metadata": {
        "id": "8N76FpJwGiOV",
        "colab": {
          "base_uri": "https://localhost:8080/"
        },
        "outputId": "cc4a892d-a2ae-45b1-a64d-262999db357b"
      },
      "outputs": [
        {
          "output_type": "execute_result",
          "data": {
            "text/plain": [
              "['Headingley//LOC',\n",
              " 'Leeds//LOC',\n",
              " 'West Yorkshire//LOC',\n",
              " 'Headingley//LOC',\n",
              " 'Leeds University//ORG',\n",
              " 'Headingley Stadium//LOC']"
            ]
          },
          "metadata": {},
          "execution_count": 54
        }
      ],
      "source": [
        "prediction = gpt2_cached_predictor(prompt)\n",
        "prediction['outputs'].numpy().decode().replace(\"!\", \"\").split(\"\\n\")"
      ]
    },
    {
      "cell_type": "code",
      "execution_count": 55,
      "metadata": {
        "id": "2YIUh0frGiOV",
        "colab": {
          "base_uri": "https://localhost:8080/"
        },
        "outputId": "ed47b4a1-1225-4449-f8e2-d45214e6ac85"
      },
      "outputs": [
        {
          "output_type": "execute_result",
          "data": {
            "text/plain": [
              "['Headingley//LOC',\n",
              " 'Leeds//LOC',\n",
              " 'West Yorkshire//LOC',\n",
              " 'Headingley//LOC',\n",
              " 'Leeds University//ORG',\n",
              " 'Headingley Stadium//LOC']"
            ]
          },
          "metadata": {},
          "execution_count": 55
        }
      ],
      "source": [
        "# this will take a while for google colab\n",
        "prediction = gpt2_cached_predictor_jit(tf.constant(prompt))\n",
        "prediction['outputs'].numpy().decode().replace(\"!\", \"\").split(\"\\n\")"
      ]
    },
    {
      "cell_type": "code",
      "execution_count": 58,
      "metadata": {
        "id": "wYlZKW2eGiOV",
        "colab": {
          "base_uri": "https://localhost:8080/"
        },
        "outputId": "48a1f35a-15d8-4ae8-ee59-04ef9dbe5a07"
      },
      "outputs": [
        {
          "output_type": "stream",
          "name": "stdout",
          "text": [
            "688 ms ± 125 ms per loop (mean ± std. dev. of 7 runs, 1 loop each)\n"
          ]
        }
      ],
      "source": [
        "%timeit gpt2_cached_predictor(tf.constant(prompt))"
      ]
    },
    {
      "cell_type": "code",
      "execution_count": 59,
      "metadata": {
        "id": "wYDWm3pJGiOV",
        "colab": {
          "base_uri": "https://localhost:8080/"
        },
        "outputId": "1cd7fa02-b805-4cd6-aa74-aa3d42a2a4bb"
      },
      "outputs": [
        {
          "output_type": "stream",
          "name": "stdout",
          "text": [
            "245 ms ± 7.72 ms per loop (mean ± std. dev. of 7 runs, 1 loop each)\n"
          ]
        }
      ],
      "source": [
        "%timeit gpt2_cached_predictor_jit(tf.constant(prompt))"
      ]
    },
    {
      "cell_type": "code",
      "execution_count": null,
      "metadata": {
        "id": "1A1E9BqPGiOV"
      },
      "outputs": [],
      "source": [
        "tf.saved_model.save(gpt2_cached_predictor, Path(save_dir) / \"exported-models/gpt2-ner-cached/1/\")\n",
        "tf.saved_model.save(gpt2_cached_predictor_jit, Path(save_dir) / \"exported-models/gpt2-ner-cached-jit/1/\")"
      ]
    },
    {
      "cell_type": "code",
      "execution_count": null,
      "metadata": {
        "id": "OUWYV6m1GiOV"
      },
      "outputs": [],
      "source": [
        "loaded_model = tf.saved_model.load(\"models/test-gpt-2-model/exported-models/gpt2-ner-cached-jit/1\")\n",
        "loaded_model.signatures"
      ]
    },
    {
      "cell_type": "markdown",
      "metadata": {
        "id": "NFArCdRWGiOV"
      },
      "source": [
        "# Test tensorflow Serving"
      ]
    },
    {
      "cell_type": "code",
      "execution_count": null,
      "metadata": {
        "id": "de0i4hOvGiOV"
      },
      "outputs": [],
      "source": [
        "from pathlib import Path\n",
        "\n",
        "\n",
        "cwd = Path.cwd()\n",
        "save_dir = \"models/test-gpt-2-model\"\n",
        "\n",
        "run_serving_cmd = f\"docker run -p 8501:8501 --rm --gpus all --name tfserving_models --mount type=bind,source={cwd}/{save_dir}/exported-models/gpt2-ner,target=/models/model -e MODEL_NAME=model -t tensorflow/serving:2.11.1-gpu\"\n",
        "print(run_serving_cmd)"
      ]
    },
    {
      "cell_type": "code",
      "execution_count": null,
      "metadata": {
        "id": "609REZuxGiOV"
      },
      "outputs": [],
      "source": [
        "import requests\n",
        "import json\n",
        "\n",
        "context = \"Headingley is a suburb of Leeds, West Yorkshire, England, approximately two miles out of the city centre, to the north west along the A660 road. Headingley is the location of the Beckett Park campus of Leeds Beckett University and Headingley Stadium.\"\n",
        "\n",
        "prediction_url = \"http://localhost:8501/v1/models/model:predict\"\n",
        "post_data = {\"inputs\": {\"text\": context}}\n",
        "response = requests.post(prediction_url, data=json.dumps(post_data))\n",
        "prediction = response.json()[\"outputs\"]\n",
        "prediction.split(\"\\n\")"
      ]
    },
    {
      "cell_type": "code",
      "execution_count": null,
      "metadata": {
        "id": "4hnIr1F0GiOV"
      },
      "outputs": [],
      "source": []
    }
  ],
  "metadata": {
    "kernelspec": {
      "display_name": "vision2",
      "language": "python",
      "name": "vision2"
    },
    "language_info": {
      "codemirror_mode": {
        "name": "ipython",
        "version": 3
      },
      "file_extension": ".py",
      "mimetype": "text/x-python",
      "name": "python",
      "nbconvert_exporter": "python",
      "pygments_lexer": "ipython3",
      "version": "3.9.16"
    },
    "colab": {
      "provenance": [],
      "gpuType": "T4",
      "include_colab_link": true
    },
    "accelerator": "GPU",
    "gpuClass": "standard",
    "widgets": {
      "application/vnd.jupyter.widget-state+json": {
        "ca7d06a938624eb7b9b6f64647cbb3c5": {
          "model_module": "@jupyter-widgets/controls",
          "model_name": "HBoxModel",
          "model_module_version": "1.5.0",
          "state": {
            "_dom_classes": [],
            "_model_module": "@jupyter-widgets/controls",
            "_model_module_version": "1.5.0",
            "_model_name": "HBoxModel",
            "_view_count": null,
            "_view_module": "@jupyter-widgets/controls",
            "_view_module_version": "1.5.0",
            "_view_name": "HBoxView",
            "box_style": "",
            "children": [
              "IPY_MODEL_b397d3e6b21e4d0facdf3a9eadd1f5d4",
              "IPY_MODEL_175c40f06bdf41f0a32fcbe6833c56a7",
              "IPY_MODEL_ec75fc56fd884df3858ffa8bf76e3ff8"
            ],
            "layout": "IPY_MODEL_757ec7b29b6240219ec06b34317c82fe"
          }
        },
        "b397d3e6b21e4d0facdf3a9eadd1f5d4": {
          "model_module": "@jupyter-widgets/controls",
          "model_name": "HTMLModel",
          "model_module_version": "1.5.0",
          "state": {
            "_dom_classes": [],
            "_model_module": "@jupyter-widgets/controls",
            "_model_module_version": "1.5.0",
            "_model_name": "HTMLModel",
            "_view_count": null,
            "_view_module": "@jupyter-widgets/controls",
            "_view_module_version": "1.5.0",
            "_view_name": "HTMLView",
            "description": "",
            "description_tooltip": null,
            "layout": "IPY_MODEL_71822954a34f4070a4290b9508e89736",
            "placeholder": "​",
            "style": "IPY_MODEL_d2b9733882f14f63b7d19582e69c3377",
            "value": "Downloading builder script: 100%"
          }
        },
        "175c40f06bdf41f0a32fcbe6833c56a7": {
          "model_module": "@jupyter-widgets/controls",
          "model_name": "FloatProgressModel",
          "model_module_version": "1.5.0",
          "state": {
            "_dom_classes": [],
            "_model_module": "@jupyter-widgets/controls",
            "_model_module_version": "1.5.0",
            "_model_name": "FloatProgressModel",
            "_view_count": null,
            "_view_module": "@jupyter-widgets/controls",
            "_view_module_version": "1.5.0",
            "_view_name": "ProgressView",
            "bar_style": "success",
            "description": "",
            "description_tooltip": null,
            "layout": "IPY_MODEL_89c8e4bc88c94fcb8a79d09d45da4dc3",
            "max": 9570,
            "min": 0,
            "orientation": "horizontal",
            "style": "IPY_MODEL_b53622ed2a43413aa8f5ba376a9caf03",
            "value": 9570
          }
        },
        "ec75fc56fd884df3858ffa8bf76e3ff8": {
          "model_module": "@jupyter-widgets/controls",
          "model_name": "HTMLModel",
          "model_module_version": "1.5.0",
          "state": {
            "_dom_classes": [],
            "_model_module": "@jupyter-widgets/controls",
            "_model_module_version": "1.5.0",
            "_model_name": "HTMLModel",
            "_view_count": null,
            "_view_module": "@jupyter-widgets/controls",
            "_view_module_version": "1.5.0",
            "_view_name": "HTMLView",
            "description": "",
            "description_tooltip": null,
            "layout": "IPY_MODEL_70af933075b1410c8ee2e5bae7f5d3b1",
            "placeholder": "​",
            "style": "IPY_MODEL_7739a41c845f47299d8c9b00742c34a1",
            "value": " 9.57k/9.57k [00:00&lt;00:00, 464kB/s]"
          }
        },
        "757ec7b29b6240219ec06b34317c82fe": {
          "model_module": "@jupyter-widgets/base",
          "model_name": "LayoutModel",
          "model_module_version": "1.2.0",
          "state": {
            "_model_module": "@jupyter-widgets/base",
            "_model_module_version": "1.2.0",
            "_model_name": "LayoutModel",
            "_view_count": null,
            "_view_module": "@jupyter-widgets/base",
            "_view_module_version": "1.2.0",
            "_view_name": "LayoutView",
            "align_content": null,
            "align_items": null,
            "align_self": null,
            "border": null,
            "bottom": null,
            "display": null,
            "flex": null,
            "flex_flow": null,
            "grid_area": null,
            "grid_auto_columns": null,
            "grid_auto_flow": null,
            "grid_auto_rows": null,
            "grid_column": null,
            "grid_gap": null,
            "grid_row": null,
            "grid_template_areas": null,
            "grid_template_columns": null,
            "grid_template_rows": null,
            "height": null,
            "justify_content": null,
            "justify_items": null,
            "left": null,
            "margin": null,
            "max_height": null,
            "max_width": null,
            "min_height": null,
            "min_width": null,
            "object_fit": null,
            "object_position": null,
            "order": null,
            "overflow": null,
            "overflow_x": null,
            "overflow_y": null,
            "padding": null,
            "right": null,
            "top": null,
            "visibility": null,
            "width": null
          }
        },
        "71822954a34f4070a4290b9508e89736": {
          "model_module": "@jupyter-widgets/base",
          "model_name": "LayoutModel",
          "model_module_version": "1.2.0",
          "state": {
            "_model_module": "@jupyter-widgets/base",
            "_model_module_version": "1.2.0",
            "_model_name": "LayoutModel",
            "_view_count": null,
            "_view_module": "@jupyter-widgets/base",
            "_view_module_version": "1.2.0",
            "_view_name": "LayoutView",
            "align_content": null,
            "align_items": null,
            "align_self": null,
            "border": null,
            "bottom": null,
            "display": null,
            "flex": null,
            "flex_flow": null,
            "grid_area": null,
            "grid_auto_columns": null,
            "grid_auto_flow": null,
            "grid_auto_rows": null,
            "grid_column": null,
            "grid_gap": null,
            "grid_row": null,
            "grid_template_areas": null,
            "grid_template_columns": null,
            "grid_template_rows": null,
            "height": null,
            "justify_content": null,
            "justify_items": null,
            "left": null,
            "margin": null,
            "max_height": null,
            "max_width": null,
            "min_height": null,
            "min_width": null,
            "object_fit": null,
            "object_position": null,
            "order": null,
            "overflow": null,
            "overflow_x": null,
            "overflow_y": null,
            "padding": null,
            "right": null,
            "top": null,
            "visibility": null,
            "width": null
          }
        },
        "d2b9733882f14f63b7d19582e69c3377": {
          "model_module": "@jupyter-widgets/controls",
          "model_name": "DescriptionStyleModel",
          "model_module_version": "1.5.0",
          "state": {
            "_model_module": "@jupyter-widgets/controls",
            "_model_module_version": "1.5.0",
            "_model_name": "DescriptionStyleModel",
            "_view_count": null,
            "_view_module": "@jupyter-widgets/base",
            "_view_module_version": "1.2.0",
            "_view_name": "StyleView",
            "description_width": ""
          }
        },
        "89c8e4bc88c94fcb8a79d09d45da4dc3": {
          "model_module": "@jupyter-widgets/base",
          "model_name": "LayoutModel",
          "model_module_version": "1.2.0",
          "state": {
            "_model_module": "@jupyter-widgets/base",
            "_model_module_version": "1.2.0",
            "_model_name": "LayoutModel",
            "_view_count": null,
            "_view_module": "@jupyter-widgets/base",
            "_view_module_version": "1.2.0",
            "_view_name": "LayoutView",
            "align_content": null,
            "align_items": null,
            "align_self": null,
            "border": null,
            "bottom": null,
            "display": null,
            "flex": null,
            "flex_flow": null,
            "grid_area": null,
            "grid_auto_columns": null,
            "grid_auto_flow": null,
            "grid_auto_rows": null,
            "grid_column": null,
            "grid_gap": null,
            "grid_row": null,
            "grid_template_areas": null,
            "grid_template_columns": null,
            "grid_template_rows": null,
            "height": null,
            "justify_content": null,
            "justify_items": null,
            "left": null,
            "margin": null,
            "max_height": null,
            "max_width": null,
            "min_height": null,
            "min_width": null,
            "object_fit": null,
            "object_position": null,
            "order": null,
            "overflow": null,
            "overflow_x": null,
            "overflow_y": null,
            "padding": null,
            "right": null,
            "top": null,
            "visibility": null,
            "width": null
          }
        },
        "b53622ed2a43413aa8f5ba376a9caf03": {
          "model_module": "@jupyter-widgets/controls",
          "model_name": "ProgressStyleModel",
          "model_module_version": "1.5.0",
          "state": {
            "_model_module": "@jupyter-widgets/controls",
            "_model_module_version": "1.5.0",
            "_model_name": "ProgressStyleModel",
            "_view_count": null,
            "_view_module": "@jupyter-widgets/base",
            "_view_module_version": "1.2.0",
            "_view_name": "StyleView",
            "bar_color": null,
            "description_width": ""
          }
        },
        "70af933075b1410c8ee2e5bae7f5d3b1": {
          "model_module": "@jupyter-widgets/base",
          "model_name": "LayoutModel",
          "model_module_version": "1.2.0",
          "state": {
            "_model_module": "@jupyter-widgets/base",
            "_model_module_version": "1.2.0",
            "_model_name": "LayoutModel",
            "_view_count": null,
            "_view_module": "@jupyter-widgets/base",
            "_view_module_version": "1.2.0",
            "_view_name": "LayoutView",
            "align_content": null,
            "align_items": null,
            "align_self": null,
            "border": null,
            "bottom": null,
            "display": null,
            "flex": null,
            "flex_flow": null,
            "grid_area": null,
            "grid_auto_columns": null,
            "grid_auto_flow": null,
            "grid_auto_rows": null,
            "grid_column": null,
            "grid_gap": null,
            "grid_row": null,
            "grid_template_areas": null,
            "grid_template_columns": null,
            "grid_template_rows": null,
            "height": null,
            "justify_content": null,
            "justify_items": null,
            "left": null,
            "margin": null,
            "max_height": null,
            "max_width": null,
            "min_height": null,
            "min_width": null,
            "object_fit": null,
            "object_position": null,
            "order": null,
            "overflow": null,
            "overflow_x": null,
            "overflow_y": null,
            "padding": null,
            "right": null,
            "top": null,
            "visibility": null,
            "width": null
          }
        },
        "7739a41c845f47299d8c9b00742c34a1": {
          "model_module": "@jupyter-widgets/controls",
          "model_name": "DescriptionStyleModel",
          "model_module_version": "1.5.0",
          "state": {
            "_model_module": "@jupyter-widgets/controls",
            "_model_module_version": "1.5.0",
            "_model_name": "DescriptionStyleModel",
            "_view_count": null,
            "_view_module": "@jupyter-widgets/base",
            "_view_module_version": "1.2.0",
            "_view_name": "StyleView",
            "description_width": ""
          }
        },
        "e903e4c14f10490ebe3f9d20b2a9fbe7": {
          "model_module": "@jupyter-widgets/controls",
          "model_name": "HBoxModel",
          "model_module_version": "1.5.0",
          "state": {
            "_dom_classes": [],
            "_model_module": "@jupyter-widgets/controls",
            "_model_module_version": "1.5.0",
            "_model_name": "HBoxModel",
            "_view_count": null,
            "_view_module": "@jupyter-widgets/controls",
            "_view_module_version": "1.5.0",
            "_view_name": "HBoxView",
            "box_style": "",
            "children": [
              "IPY_MODEL_dc0c286e6bce4a32a5f48a83edaceb0b",
              "IPY_MODEL_e117e1bf24e14af19e86a6b8f375f889",
              "IPY_MODEL_e84b8f5b16304504a2833b1754906dfa"
            ],
            "layout": "IPY_MODEL_8993efe3ded0406e8f439531e2b5d00e"
          }
        },
        "dc0c286e6bce4a32a5f48a83edaceb0b": {
          "model_module": "@jupyter-widgets/controls",
          "model_name": "HTMLModel",
          "model_module_version": "1.5.0",
          "state": {
            "_dom_classes": [],
            "_model_module": "@jupyter-widgets/controls",
            "_model_module_version": "1.5.0",
            "_model_name": "HTMLModel",
            "_view_count": null,
            "_view_module": "@jupyter-widgets/controls",
            "_view_module_version": "1.5.0",
            "_view_name": "HTMLView",
            "description": "",
            "description_tooltip": null,
            "layout": "IPY_MODEL_f4c91dbcdc1f47ae80b52436866fd25c",
            "placeholder": "​",
            "style": "IPY_MODEL_da7961e9470d4ce3ae799837129d0344",
            "value": "Downloading metadata: 100%"
          }
        },
        "e117e1bf24e14af19e86a6b8f375f889": {
          "model_module": "@jupyter-widgets/controls",
          "model_name": "FloatProgressModel",
          "model_module_version": "1.5.0",
          "state": {
            "_dom_classes": [],
            "_model_module": "@jupyter-widgets/controls",
            "_model_module_version": "1.5.0",
            "_model_name": "FloatProgressModel",
            "_view_count": null,
            "_view_module": "@jupyter-widgets/controls",
            "_view_module_version": "1.5.0",
            "_view_name": "ProgressView",
            "bar_style": "success",
            "description": "",
            "description_tooltip": null,
            "layout": "IPY_MODEL_6b45cadabf904602be6bf878fc042609",
            "max": 3735,
            "min": 0,
            "orientation": "horizontal",
            "style": "IPY_MODEL_fc73fcb3cd004d3bb5827388505578b6",
            "value": 3735
          }
        },
        "e84b8f5b16304504a2833b1754906dfa": {
          "model_module": "@jupyter-widgets/controls",
          "model_name": "HTMLModel",
          "model_module_version": "1.5.0",
          "state": {
            "_dom_classes": [],
            "_model_module": "@jupyter-widgets/controls",
            "_model_module_version": "1.5.0",
            "_model_name": "HTMLModel",
            "_view_count": null,
            "_view_module": "@jupyter-widgets/controls",
            "_view_module_version": "1.5.0",
            "_view_name": "HTMLView",
            "description": "",
            "description_tooltip": null,
            "layout": "IPY_MODEL_59d1f1293bb34404a3023cc98a638eff",
            "placeholder": "​",
            "style": "IPY_MODEL_5658ba431f454de2af65cb0694db82db",
            "value": " 3.73k/3.73k [00:00&lt;00:00, 253kB/s]"
          }
        },
        "8993efe3ded0406e8f439531e2b5d00e": {
          "model_module": "@jupyter-widgets/base",
          "model_name": "LayoutModel",
          "model_module_version": "1.2.0",
          "state": {
            "_model_module": "@jupyter-widgets/base",
            "_model_module_version": "1.2.0",
            "_model_name": "LayoutModel",
            "_view_count": null,
            "_view_module": "@jupyter-widgets/base",
            "_view_module_version": "1.2.0",
            "_view_name": "LayoutView",
            "align_content": null,
            "align_items": null,
            "align_self": null,
            "border": null,
            "bottom": null,
            "display": null,
            "flex": null,
            "flex_flow": null,
            "grid_area": null,
            "grid_auto_columns": null,
            "grid_auto_flow": null,
            "grid_auto_rows": null,
            "grid_column": null,
            "grid_gap": null,
            "grid_row": null,
            "grid_template_areas": null,
            "grid_template_columns": null,
            "grid_template_rows": null,
            "height": null,
            "justify_content": null,
            "justify_items": null,
            "left": null,
            "margin": null,
            "max_height": null,
            "max_width": null,
            "min_height": null,
            "min_width": null,
            "object_fit": null,
            "object_position": null,
            "order": null,
            "overflow": null,
            "overflow_x": null,
            "overflow_y": null,
            "padding": null,
            "right": null,
            "top": null,
            "visibility": null,
            "width": null
          }
        },
        "f4c91dbcdc1f47ae80b52436866fd25c": {
          "model_module": "@jupyter-widgets/base",
          "model_name": "LayoutModel",
          "model_module_version": "1.2.0",
          "state": {
            "_model_module": "@jupyter-widgets/base",
            "_model_module_version": "1.2.0",
            "_model_name": "LayoutModel",
            "_view_count": null,
            "_view_module": "@jupyter-widgets/base",
            "_view_module_version": "1.2.0",
            "_view_name": "LayoutView",
            "align_content": null,
            "align_items": null,
            "align_self": null,
            "border": null,
            "bottom": null,
            "display": null,
            "flex": null,
            "flex_flow": null,
            "grid_area": null,
            "grid_auto_columns": null,
            "grid_auto_flow": null,
            "grid_auto_rows": null,
            "grid_column": null,
            "grid_gap": null,
            "grid_row": null,
            "grid_template_areas": null,
            "grid_template_columns": null,
            "grid_template_rows": null,
            "height": null,
            "justify_content": null,
            "justify_items": null,
            "left": null,
            "margin": null,
            "max_height": null,
            "max_width": null,
            "min_height": null,
            "min_width": null,
            "object_fit": null,
            "object_position": null,
            "order": null,
            "overflow": null,
            "overflow_x": null,
            "overflow_y": null,
            "padding": null,
            "right": null,
            "top": null,
            "visibility": null,
            "width": null
          }
        },
        "da7961e9470d4ce3ae799837129d0344": {
          "model_module": "@jupyter-widgets/controls",
          "model_name": "DescriptionStyleModel",
          "model_module_version": "1.5.0",
          "state": {
            "_model_module": "@jupyter-widgets/controls",
            "_model_module_version": "1.5.0",
            "_model_name": "DescriptionStyleModel",
            "_view_count": null,
            "_view_module": "@jupyter-widgets/base",
            "_view_module_version": "1.2.0",
            "_view_name": "StyleView",
            "description_width": ""
          }
        },
        "6b45cadabf904602be6bf878fc042609": {
          "model_module": "@jupyter-widgets/base",
          "model_name": "LayoutModel",
          "model_module_version": "1.2.0",
          "state": {
            "_model_module": "@jupyter-widgets/base",
            "_model_module_version": "1.2.0",
            "_model_name": "LayoutModel",
            "_view_count": null,
            "_view_module": "@jupyter-widgets/base",
            "_view_module_version": "1.2.0",
            "_view_name": "LayoutView",
            "align_content": null,
            "align_items": null,
            "align_self": null,
            "border": null,
            "bottom": null,
            "display": null,
            "flex": null,
            "flex_flow": null,
            "grid_area": null,
            "grid_auto_columns": null,
            "grid_auto_flow": null,
            "grid_auto_rows": null,
            "grid_column": null,
            "grid_gap": null,
            "grid_row": null,
            "grid_template_areas": null,
            "grid_template_columns": null,
            "grid_template_rows": null,
            "height": null,
            "justify_content": null,
            "justify_items": null,
            "left": null,
            "margin": null,
            "max_height": null,
            "max_width": null,
            "min_height": null,
            "min_width": null,
            "object_fit": null,
            "object_position": null,
            "order": null,
            "overflow": null,
            "overflow_x": null,
            "overflow_y": null,
            "padding": null,
            "right": null,
            "top": null,
            "visibility": null,
            "width": null
          }
        },
        "fc73fcb3cd004d3bb5827388505578b6": {
          "model_module": "@jupyter-widgets/controls",
          "model_name": "ProgressStyleModel",
          "model_module_version": "1.5.0",
          "state": {
            "_model_module": "@jupyter-widgets/controls",
            "_model_module_version": "1.5.0",
            "_model_name": "ProgressStyleModel",
            "_view_count": null,
            "_view_module": "@jupyter-widgets/base",
            "_view_module_version": "1.2.0",
            "_view_name": "StyleView",
            "bar_color": null,
            "description_width": ""
          }
        },
        "59d1f1293bb34404a3023cc98a638eff": {
          "model_module": "@jupyter-widgets/base",
          "model_name": "LayoutModel",
          "model_module_version": "1.2.0",
          "state": {
            "_model_module": "@jupyter-widgets/base",
            "_model_module_version": "1.2.0",
            "_model_name": "LayoutModel",
            "_view_count": null,
            "_view_module": "@jupyter-widgets/base",
            "_view_module_version": "1.2.0",
            "_view_name": "LayoutView",
            "align_content": null,
            "align_items": null,
            "align_self": null,
            "border": null,
            "bottom": null,
            "display": null,
            "flex": null,
            "flex_flow": null,
            "grid_area": null,
            "grid_auto_columns": null,
            "grid_auto_flow": null,
            "grid_auto_rows": null,
            "grid_column": null,
            "grid_gap": null,
            "grid_row": null,
            "grid_template_areas": null,
            "grid_template_columns": null,
            "grid_template_rows": null,
            "height": null,
            "justify_content": null,
            "justify_items": null,
            "left": null,
            "margin": null,
            "max_height": null,
            "max_width": null,
            "min_height": null,
            "min_width": null,
            "object_fit": null,
            "object_position": null,
            "order": null,
            "overflow": null,
            "overflow_x": null,
            "overflow_y": null,
            "padding": null,
            "right": null,
            "top": null,
            "visibility": null,
            "width": null
          }
        },
        "5658ba431f454de2af65cb0694db82db": {
          "model_module": "@jupyter-widgets/controls",
          "model_name": "DescriptionStyleModel",
          "model_module_version": "1.5.0",
          "state": {
            "_model_module": "@jupyter-widgets/controls",
            "_model_module_version": "1.5.0",
            "_model_name": "DescriptionStyleModel",
            "_view_count": null,
            "_view_module": "@jupyter-widgets/base",
            "_view_module_version": "1.2.0",
            "_view_name": "StyleView",
            "description_width": ""
          }
        },
        "fabad907d8f84771b58e546f70a5b4a3": {
          "model_module": "@jupyter-widgets/controls",
          "model_name": "HBoxModel",
          "model_module_version": "1.5.0",
          "state": {
            "_dom_classes": [],
            "_model_module": "@jupyter-widgets/controls",
            "_model_module_version": "1.5.0",
            "_model_name": "HBoxModel",
            "_view_count": null,
            "_view_module": "@jupyter-widgets/controls",
            "_view_module_version": "1.5.0",
            "_view_name": "HBoxView",
            "box_style": "",
            "children": [
              "IPY_MODEL_d241d7088f7f4933a07fc8945556a06d",
              "IPY_MODEL_254c44a58f604e5dbf0650ad927223e0",
              "IPY_MODEL_b8f2ffc349e144cca688b1a0e3874714"
            ],
            "layout": "IPY_MODEL_c239dcbb23fb4419913b8ae320670eb9"
          }
        },
        "d241d7088f7f4933a07fc8945556a06d": {
          "model_module": "@jupyter-widgets/controls",
          "model_name": "HTMLModel",
          "model_module_version": "1.5.0",
          "state": {
            "_dom_classes": [],
            "_model_module": "@jupyter-widgets/controls",
            "_model_module_version": "1.5.0",
            "_model_name": "HTMLModel",
            "_view_count": null,
            "_view_module": "@jupyter-widgets/controls",
            "_view_module_version": "1.5.0",
            "_view_name": "HTMLView",
            "description": "",
            "description_tooltip": null,
            "layout": "IPY_MODEL_40f02b2818824020a74e070c1ac5cfd9",
            "placeholder": "​",
            "style": "IPY_MODEL_b8dfcbc736fc462da81e92c9ce44d141",
            "value": "Downloading readme: 100%"
          }
        },
        "254c44a58f604e5dbf0650ad927223e0": {
          "model_module": "@jupyter-widgets/controls",
          "model_name": "FloatProgressModel",
          "model_module_version": "1.5.0",
          "state": {
            "_dom_classes": [],
            "_model_module": "@jupyter-widgets/controls",
            "_model_module_version": "1.5.0",
            "_model_name": "FloatProgressModel",
            "_view_count": null,
            "_view_module": "@jupyter-widgets/controls",
            "_view_module_version": "1.5.0",
            "_view_name": "ProgressView",
            "bar_style": "success",
            "description": "",
            "description_tooltip": null,
            "layout": "IPY_MODEL_60b0ca690faf4a80992e4c1a974a0e01",
            "max": 12330,
            "min": 0,
            "orientation": "horizontal",
            "style": "IPY_MODEL_2a383785b9fd4193b91ee064a3419a96",
            "value": 12330
          }
        },
        "b8f2ffc349e144cca688b1a0e3874714": {
          "model_module": "@jupyter-widgets/controls",
          "model_name": "HTMLModel",
          "model_module_version": "1.5.0",
          "state": {
            "_dom_classes": [],
            "_model_module": "@jupyter-widgets/controls",
            "_model_module_version": "1.5.0",
            "_model_name": "HTMLModel",
            "_view_count": null,
            "_view_module": "@jupyter-widgets/controls",
            "_view_module_version": "1.5.0",
            "_view_name": "HTMLView",
            "description": "",
            "description_tooltip": null,
            "layout": "IPY_MODEL_f9ecefaad169435181b256393143cd5d",
            "placeholder": "​",
            "style": "IPY_MODEL_15e57447223b4597b76a2fe29295965b",
            "value": " 12.3k/12.3k [00:00&lt;00:00, 379kB/s]"
          }
        },
        "c239dcbb23fb4419913b8ae320670eb9": {
          "model_module": "@jupyter-widgets/base",
          "model_name": "LayoutModel",
          "model_module_version": "1.2.0",
          "state": {
            "_model_module": "@jupyter-widgets/base",
            "_model_module_version": "1.2.0",
            "_model_name": "LayoutModel",
            "_view_count": null,
            "_view_module": "@jupyter-widgets/base",
            "_view_module_version": "1.2.0",
            "_view_name": "LayoutView",
            "align_content": null,
            "align_items": null,
            "align_self": null,
            "border": null,
            "bottom": null,
            "display": null,
            "flex": null,
            "flex_flow": null,
            "grid_area": null,
            "grid_auto_columns": null,
            "grid_auto_flow": null,
            "grid_auto_rows": null,
            "grid_column": null,
            "grid_gap": null,
            "grid_row": null,
            "grid_template_areas": null,
            "grid_template_columns": null,
            "grid_template_rows": null,
            "height": null,
            "justify_content": null,
            "justify_items": null,
            "left": null,
            "margin": null,
            "max_height": null,
            "max_width": null,
            "min_height": null,
            "min_width": null,
            "object_fit": null,
            "object_position": null,
            "order": null,
            "overflow": null,
            "overflow_x": null,
            "overflow_y": null,
            "padding": null,
            "right": null,
            "top": null,
            "visibility": null,
            "width": null
          }
        },
        "40f02b2818824020a74e070c1ac5cfd9": {
          "model_module": "@jupyter-widgets/base",
          "model_name": "LayoutModel",
          "model_module_version": "1.2.0",
          "state": {
            "_model_module": "@jupyter-widgets/base",
            "_model_module_version": "1.2.0",
            "_model_name": "LayoutModel",
            "_view_count": null,
            "_view_module": "@jupyter-widgets/base",
            "_view_module_version": "1.2.0",
            "_view_name": "LayoutView",
            "align_content": null,
            "align_items": null,
            "align_self": null,
            "border": null,
            "bottom": null,
            "display": null,
            "flex": null,
            "flex_flow": null,
            "grid_area": null,
            "grid_auto_columns": null,
            "grid_auto_flow": null,
            "grid_auto_rows": null,
            "grid_column": null,
            "grid_gap": null,
            "grid_row": null,
            "grid_template_areas": null,
            "grid_template_columns": null,
            "grid_template_rows": null,
            "height": null,
            "justify_content": null,
            "justify_items": null,
            "left": null,
            "margin": null,
            "max_height": null,
            "max_width": null,
            "min_height": null,
            "min_width": null,
            "object_fit": null,
            "object_position": null,
            "order": null,
            "overflow": null,
            "overflow_x": null,
            "overflow_y": null,
            "padding": null,
            "right": null,
            "top": null,
            "visibility": null,
            "width": null
          }
        },
        "b8dfcbc736fc462da81e92c9ce44d141": {
          "model_module": "@jupyter-widgets/controls",
          "model_name": "DescriptionStyleModel",
          "model_module_version": "1.5.0",
          "state": {
            "_model_module": "@jupyter-widgets/controls",
            "_model_module_version": "1.5.0",
            "_model_name": "DescriptionStyleModel",
            "_view_count": null,
            "_view_module": "@jupyter-widgets/base",
            "_view_module_version": "1.2.0",
            "_view_name": "StyleView",
            "description_width": ""
          }
        },
        "60b0ca690faf4a80992e4c1a974a0e01": {
          "model_module": "@jupyter-widgets/base",
          "model_name": "LayoutModel",
          "model_module_version": "1.2.0",
          "state": {
            "_model_module": "@jupyter-widgets/base",
            "_model_module_version": "1.2.0",
            "_model_name": "LayoutModel",
            "_view_count": null,
            "_view_module": "@jupyter-widgets/base",
            "_view_module_version": "1.2.0",
            "_view_name": "LayoutView",
            "align_content": null,
            "align_items": null,
            "align_self": null,
            "border": null,
            "bottom": null,
            "display": null,
            "flex": null,
            "flex_flow": null,
            "grid_area": null,
            "grid_auto_columns": null,
            "grid_auto_flow": null,
            "grid_auto_rows": null,
            "grid_column": null,
            "grid_gap": null,
            "grid_row": null,
            "grid_template_areas": null,
            "grid_template_columns": null,
            "grid_template_rows": null,
            "height": null,
            "justify_content": null,
            "justify_items": null,
            "left": null,
            "margin": null,
            "max_height": null,
            "max_width": null,
            "min_height": null,
            "min_width": null,
            "object_fit": null,
            "object_position": null,
            "order": null,
            "overflow": null,
            "overflow_x": null,
            "overflow_y": null,
            "padding": null,
            "right": null,
            "top": null,
            "visibility": null,
            "width": null
          }
        },
        "2a383785b9fd4193b91ee064a3419a96": {
          "model_module": "@jupyter-widgets/controls",
          "model_name": "ProgressStyleModel",
          "model_module_version": "1.5.0",
          "state": {
            "_model_module": "@jupyter-widgets/controls",
            "_model_module_version": "1.5.0",
            "_model_name": "ProgressStyleModel",
            "_view_count": null,
            "_view_module": "@jupyter-widgets/base",
            "_view_module_version": "1.2.0",
            "_view_name": "StyleView",
            "bar_color": null,
            "description_width": ""
          }
        },
        "f9ecefaad169435181b256393143cd5d": {
          "model_module": "@jupyter-widgets/base",
          "model_name": "LayoutModel",
          "model_module_version": "1.2.0",
          "state": {
            "_model_module": "@jupyter-widgets/base",
            "_model_module_version": "1.2.0",
            "_model_name": "LayoutModel",
            "_view_count": null,
            "_view_module": "@jupyter-widgets/base",
            "_view_module_version": "1.2.0",
            "_view_name": "LayoutView",
            "align_content": null,
            "align_items": null,
            "align_self": null,
            "border": null,
            "bottom": null,
            "display": null,
            "flex": null,
            "flex_flow": null,
            "grid_area": null,
            "grid_auto_columns": null,
            "grid_auto_flow": null,
            "grid_auto_rows": null,
            "grid_column": null,
            "grid_gap": null,
            "grid_row": null,
            "grid_template_areas": null,
            "grid_template_columns": null,
            "grid_template_rows": null,
            "height": null,
            "justify_content": null,
            "justify_items": null,
            "left": null,
            "margin": null,
            "max_height": null,
            "max_width": null,
            "min_height": null,
            "min_width": null,
            "object_fit": null,
            "object_position": null,
            "order": null,
            "overflow": null,
            "overflow_x": null,
            "overflow_y": null,
            "padding": null,
            "right": null,
            "top": null,
            "visibility": null,
            "width": null
          }
        },
        "15e57447223b4597b76a2fe29295965b": {
          "model_module": "@jupyter-widgets/controls",
          "model_name": "DescriptionStyleModel",
          "model_module_version": "1.5.0",
          "state": {
            "_model_module": "@jupyter-widgets/controls",
            "_model_module_version": "1.5.0",
            "_model_name": "DescriptionStyleModel",
            "_view_count": null,
            "_view_module": "@jupyter-widgets/base",
            "_view_module_version": "1.2.0",
            "_view_name": "StyleView",
            "description_width": ""
          }
        },
        "365bcfc38f8f47a4a9029bd9442e7ead": {
          "model_module": "@jupyter-widgets/controls",
          "model_name": "HBoxModel",
          "model_module_version": "1.5.0",
          "state": {
            "_dom_classes": [],
            "_model_module": "@jupyter-widgets/controls",
            "_model_module_version": "1.5.0",
            "_model_name": "HBoxModel",
            "_view_count": null,
            "_view_module": "@jupyter-widgets/controls",
            "_view_module_version": "1.5.0",
            "_view_name": "HBoxView",
            "box_style": "",
            "children": [
              "IPY_MODEL_3a23cfd6f9644262bbf82a8dc00c5cca",
              "IPY_MODEL_a12f677e7e254cd8a49c841cdc0a8c7d",
              "IPY_MODEL_40ea25798fa940adb0a368e30578f59d"
            ],
            "layout": "IPY_MODEL_fc4f4fedb4484b87be3ae15aeb927fd1"
          }
        },
        "3a23cfd6f9644262bbf82a8dc00c5cca": {
          "model_module": "@jupyter-widgets/controls",
          "model_name": "HTMLModel",
          "model_module_version": "1.5.0",
          "state": {
            "_dom_classes": [],
            "_model_module": "@jupyter-widgets/controls",
            "_model_module_version": "1.5.0",
            "_model_name": "HTMLModel",
            "_view_count": null,
            "_view_module": "@jupyter-widgets/controls",
            "_view_module_version": "1.5.0",
            "_view_name": "HTMLView",
            "description": "",
            "description_tooltip": null,
            "layout": "IPY_MODEL_42c717dddc6b4b7d9a53efe1c860bcf5",
            "placeholder": "​",
            "style": "IPY_MODEL_717eae16b59348f2a7960b57fd9b127c",
            "value": "Downloading data: 100%"
          }
        },
        "a12f677e7e254cd8a49c841cdc0a8c7d": {
          "model_module": "@jupyter-widgets/controls",
          "model_name": "FloatProgressModel",
          "model_module_version": "1.5.0",
          "state": {
            "_dom_classes": [],
            "_model_module": "@jupyter-widgets/controls",
            "_model_module_version": "1.5.0",
            "_model_name": "FloatProgressModel",
            "_view_count": null,
            "_view_module": "@jupyter-widgets/controls",
            "_view_module_version": "1.5.0",
            "_view_name": "ProgressView",
            "bar_style": "success",
            "description": "",
            "description_tooltip": null,
            "layout": "IPY_MODEL_a19b7f634e684732b27a1f6e99bd3f08",
            "max": 982975,
            "min": 0,
            "orientation": "horizontal",
            "style": "IPY_MODEL_f161ca8f44644eba8d0a5a9ffd157f7a",
            "value": 982975
          }
        },
        "40ea25798fa940adb0a368e30578f59d": {
          "model_module": "@jupyter-widgets/controls",
          "model_name": "HTMLModel",
          "model_module_version": "1.5.0",
          "state": {
            "_dom_classes": [],
            "_model_module": "@jupyter-widgets/controls",
            "_model_module_version": "1.5.0",
            "_model_name": "HTMLModel",
            "_view_count": null,
            "_view_module": "@jupyter-widgets/controls",
            "_view_module_version": "1.5.0",
            "_view_name": "HTMLView",
            "description": "",
            "description_tooltip": null,
            "layout": "IPY_MODEL_2fcb1b652c0a41b08d0b9a08862a8bbc",
            "placeholder": "​",
            "style": "IPY_MODEL_47655a6b6f934292bdcb1b359587217f",
            "value": " 983k/983k [00:00&lt;00:00, 2.41MB/s]"
          }
        },
        "fc4f4fedb4484b87be3ae15aeb927fd1": {
          "model_module": "@jupyter-widgets/base",
          "model_name": "LayoutModel",
          "model_module_version": "1.2.0",
          "state": {
            "_model_module": "@jupyter-widgets/base",
            "_model_module_version": "1.2.0",
            "_model_name": "LayoutModel",
            "_view_count": null,
            "_view_module": "@jupyter-widgets/base",
            "_view_module_version": "1.2.0",
            "_view_name": "LayoutView",
            "align_content": null,
            "align_items": null,
            "align_self": null,
            "border": null,
            "bottom": null,
            "display": null,
            "flex": null,
            "flex_flow": null,
            "grid_area": null,
            "grid_auto_columns": null,
            "grid_auto_flow": null,
            "grid_auto_rows": null,
            "grid_column": null,
            "grid_gap": null,
            "grid_row": null,
            "grid_template_areas": null,
            "grid_template_columns": null,
            "grid_template_rows": null,
            "height": null,
            "justify_content": null,
            "justify_items": null,
            "left": null,
            "margin": null,
            "max_height": null,
            "max_width": null,
            "min_height": null,
            "min_width": null,
            "object_fit": null,
            "object_position": null,
            "order": null,
            "overflow": null,
            "overflow_x": null,
            "overflow_y": null,
            "padding": null,
            "right": null,
            "top": null,
            "visibility": null,
            "width": null
          }
        },
        "42c717dddc6b4b7d9a53efe1c860bcf5": {
          "model_module": "@jupyter-widgets/base",
          "model_name": "LayoutModel",
          "model_module_version": "1.2.0",
          "state": {
            "_model_module": "@jupyter-widgets/base",
            "_model_module_version": "1.2.0",
            "_model_name": "LayoutModel",
            "_view_count": null,
            "_view_module": "@jupyter-widgets/base",
            "_view_module_version": "1.2.0",
            "_view_name": "LayoutView",
            "align_content": null,
            "align_items": null,
            "align_self": null,
            "border": null,
            "bottom": null,
            "display": null,
            "flex": null,
            "flex_flow": null,
            "grid_area": null,
            "grid_auto_columns": null,
            "grid_auto_flow": null,
            "grid_auto_rows": null,
            "grid_column": null,
            "grid_gap": null,
            "grid_row": null,
            "grid_template_areas": null,
            "grid_template_columns": null,
            "grid_template_rows": null,
            "height": null,
            "justify_content": null,
            "justify_items": null,
            "left": null,
            "margin": null,
            "max_height": null,
            "max_width": null,
            "min_height": null,
            "min_width": null,
            "object_fit": null,
            "object_position": null,
            "order": null,
            "overflow": null,
            "overflow_x": null,
            "overflow_y": null,
            "padding": null,
            "right": null,
            "top": null,
            "visibility": null,
            "width": null
          }
        },
        "717eae16b59348f2a7960b57fd9b127c": {
          "model_module": "@jupyter-widgets/controls",
          "model_name": "DescriptionStyleModel",
          "model_module_version": "1.5.0",
          "state": {
            "_model_module": "@jupyter-widgets/controls",
            "_model_module_version": "1.5.0",
            "_model_name": "DescriptionStyleModel",
            "_view_count": null,
            "_view_module": "@jupyter-widgets/base",
            "_view_module_version": "1.2.0",
            "_view_name": "StyleView",
            "description_width": ""
          }
        },
        "a19b7f634e684732b27a1f6e99bd3f08": {
          "model_module": "@jupyter-widgets/base",
          "model_name": "LayoutModel",
          "model_module_version": "1.2.0",
          "state": {
            "_model_module": "@jupyter-widgets/base",
            "_model_module_version": "1.2.0",
            "_model_name": "LayoutModel",
            "_view_count": null,
            "_view_module": "@jupyter-widgets/base",
            "_view_module_version": "1.2.0",
            "_view_name": "LayoutView",
            "align_content": null,
            "align_items": null,
            "align_self": null,
            "border": null,
            "bottom": null,
            "display": null,
            "flex": null,
            "flex_flow": null,
            "grid_area": null,
            "grid_auto_columns": null,
            "grid_auto_flow": null,
            "grid_auto_rows": null,
            "grid_column": null,
            "grid_gap": null,
            "grid_row": null,
            "grid_template_areas": null,
            "grid_template_columns": null,
            "grid_template_rows": null,
            "height": null,
            "justify_content": null,
            "justify_items": null,
            "left": null,
            "margin": null,
            "max_height": null,
            "max_width": null,
            "min_height": null,
            "min_width": null,
            "object_fit": null,
            "object_position": null,
            "order": null,
            "overflow": null,
            "overflow_x": null,
            "overflow_y": null,
            "padding": null,
            "right": null,
            "top": null,
            "visibility": null,
            "width": null
          }
        },
        "f161ca8f44644eba8d0a5a9ffd157f7a": {
          "model_module": "@jupyter-widgets/controls",
          "model_name": "ProgressStyleModel",
          "model_module_version": "1.5.0",
          "state": {
            "_model_module": "@jupyter-widgets/controls",
            "_model_module_version": "1.5.0",
            "_model_name": "ProgressStyleModel",
            "_view_count": null,
            "_view_module": "@jupyter-widgets/base",
            "_view_module_version": "1.2.0",
            "_view_name": "StyleView",
            "bar_color": null,
            "description_width": ""
          }
        },
        "2fcb1b652c0a41b08d0b9a08862a8bbc": {
          "model_module": "@jupyter-widgets/base",
          "model_name": "LayoutModel",
          "model_module_version": "1.2.0",
          "state": {
            "_model_module": "@jupyter-widgets/base",
            "_model_module_version": "1.2.0",
            "_model_name": "LayoutModel",
            "_view_count": null,
            "_view_module": "@jupyter-widgets/base",
            "_view_module_version": "1.2.0",
            "_view_name": "LayoutView",
            "align_content": null,
            "align_items": null,
            "align_self": null,
            "border": null,
            "bottom": null,
            "display": null,
            "flex": null,
            "flex_flow": null,
            "grid_area": null,
            "grid_auto_columns": null,
            "grid_auto_flow": null,
            "grid_auto_rows": null,
            "grid_column": null,
            "grid_gap": null,
            "grid_row": null,
            "grid_template_areas": null,
            "grid_template_columns": null,
            "grid_template_rows": null,
            "height": null,
            "justify_content": null,
            "justify_items": null,
            "left": null,
            "margin": null,
            "max_height": null,
            "max_width": null,
            "min_height": null,
            "min_width": null,
            "object_fit": null,
            "object_position": null,
            "order": null,
            "overflow": null,
            "overflow_x": null,
            "overflow_y": null,
            "padding": null,
            "right": null,
            "top": null,
            "visibility": null,
            "width": null
          }
        },
        "47655a6b6f934292bdcb1b359587217f": {
          "model_module": "@jupyter-widgets/controls",
          "model_name": "DescriptionStyleModel",
          "model_module_version": "1.5.0",
          "state": {
            "_model_module": "@jupyter-widgets/controls",
            "_model_module_version": "1.5.0",
            "_model_name": "DescriptionStyleModel",
            "_view_count": null,
            "_view_module": "@jupyter-widgets/base",
            "_view_module_version": "1.2.0",
            "_view_name": "StyleView",
            "description_width": ""
          }
        },
        "97d5809343854ae78a4a0c81f65e3154": {
          "model_module": "@jupyter-widgets/controls",
          "model_name": "HBoxModel",
          "model_module_version": "1.5.0",
          "state": {
            "_dom_classes": [],
            "_model_module": "@jupyter-widgets/controls",
            "_model_module_version": "1.5.0",
            "_model_name": "HBoxModel",
            "_view_count": null,
            "_view_module": "@jupyter-widgets/controls",
            "_view_module_version": "1.5.0",
            "_view_name": "HBoxView",
            "box_style": "",
            "children": [
              "IPY_MODEL_cfd383ec9c844dd7a17f9871bba3fbfa",
              "IPY_MODEL_44ce9a9a4e074a4db30f701c299237fe",
              "IPY_MODEL_243036b7bce94c5589c230a8b050545d"
            ],
            "layout": "IPY_MODEL_2d140f7158df4135a431b06072a055da"
          }
        },
        "cfd383ec9c844dd7a17f9871bba3fbfa": {
          "model_module": "@jupyter-widgets/controls",
          "model_name": "HTMLModel",
          "model_module_version": "1.5.0",
          "state": {
            "_dom_classes": [],
            "_model_module": "@jupyter-widgets/controls",
            "_model_module_version": "1.5.0",
            "_model_name": "HTMLModel",
            "_view_count": null,
            "_view_module": "@jupyter-widgets/controls",
            "_view_module_version": "1.5.0",
            "_view_name": "HTMLView",
            "description": "",
            "description_tooltip": null,
            "layout": "IPY_MODEL_7f674efda2bc47e3877eef41b843d244",
            "placeholder": "​",
            "style": "IPY_MODEL_87b4e5a753fa4ba3a8cad8cdbee924a2",
            "value": "Generating train split: 100%"
          }
        },
        "44ce9a9a4e074a4db30f701c299237fe": {
          "model_module": "@jupyter-widgets/controls",
          "model_name": "FloatProgressModel",
          "model_module_version": "1.5.0",
          "state": {
            "_dom_classes": [],
            "_model_module": "@jupyter-widgets/controls",
            "_model_module_version": "1.5.0",
            "_model_name": "FloatProgressModel",
            "_view_count": null,
            "_view_module": "@jupyter-widgets/controls",
            "_view_module_version": "1.5.0",
            "_view_name": "ProgressView",
            "bar_style": "",
            "description": "",
            "description_tooltip": null,
            "layout": "IPY_MODEL_03642cf1faca4295843479095b2b8cff",
            "max": 14041,
            "min": 0,
            "orientation": "horizontal",
            "style": "IPY_MODEL_43abe24c19564d64a49fdc4678323ab4",
            "value": 14041
          }
        },
        "243036b7bce94c5589c230a8b050545d": {
          "model_module": "@jupyter-widgets/controls",
          "model_name": "HTMLModel",
          "model_module_version": "1.5.0",
          "state": {
            "_dom_classes": [],
            "_model_module": "@jupyter-widgets/controls",
            "_model_module_version": "1.5.0",
            "_model_name": "HTMLModel",
            "_view_count": null,
            "_view_module": "@jupyter-widgets/controls",
            "_view_module_version": "1.5.0",
            "_view_name": "HTMLView",
            "description": "",
            "description_tooltip": null,
            "layout": "IPY_MODEL_cb7b4b3e46f64056bff1be5d1153d067",
            "placeholder": "​",
            "style": "IPY_MODEL_7f427c1a298a480d8dfb924e78c46dcb",
            "value": " 14041/14041 [00:18&lt;00:00, 2813.63 examples/s]"
          }
        },
        "2d140f7158df4135a431b06072a055da": {
          "model_module": "@jupyter-widgets/base",
          "model_name": "LayoutModel",
          "model_module_version": "1.2.0",
          "state": {
            "_model_module": "@jupyter-widgets/base",
            "_model_module_version": "1.2.0",
            "_model_name": "LayoutModel",
            "_view_count": null,
            "_view_module": "@jupyter-widgets/base",
            "_view_module_version": "1.2.0",
            "_view_name": "LayoutView",
            "align_content": null,
            "align_items": null,
            "align_self": null,
            "border": null,
            "bottom": null,
            "display": null,
            "flex": null,
            "flex_flow": null,
            "grid_area": null,
            "grid_auto_columns": null,
            "grid_auto_flow": null,
            "grid_auto_rows": null,
            "grid_column": null,
            "grid_gap": null,
            "grid_row": null,
            "grid_template_areas": null,
            "grid_template_columns": null,
            "grid_template_rows": null,
            "height": null,
            "justify_content": null,
            "justify_items": null,
            "left": null,
            "margin": null,
            "max_height": null,
            "max_width": null,
            "min_height": null,
            "min_width": null,
            "object_fit": null,
            "object_position": null,
            "order": null,
            "overflow": null,
            "overflow_x": null,
            "overflow_y": null,
            "padding": null,
            "right": null,
            "top": null,
            "visibility": "hidden",
            "width": null
          }
        },
        "7f674efda2bc47e3877eef41b843d244": {
          "model_module": "@jupyter-widgets/base",
          "model_name": "LayoutModel",
          "model_module_version": "1.2.0",
          "state": {
            "_model_module": "@jupyter-widgets/base",
            "_model_module_version": "1.2.0",
            "_model_name": "LayoutModel",
            "_view_count": null,
            "_view_module": "@jupyter-widgets/base",
            "_view_module_version": "1.2.0",
            "_view_name": "LayoutView",
            "align_content": null,
            "align_items": null,
            "align_self": null,
            "border": null,
            "bottom": null,
            "display": null,
            "flex": null,
            "flex_flow": null,
            "grid_area": null,
            "grid_auto_columns": null,
            "grid_auto_flow": null,
            "grid_auto_rows": null,
            "grid_column": null,
            "grid_gap": null,
            "grid_row": null,
            "grid_template_areas": null,
            "grid_template_columns": null,
            "grid_template_rows": null,
            "height": null,
            "justify_content": null,
            "justify_items": null,
            "left": null,
            "margin": null,
            "max_height": null,
            "max_width": null,
            "min_height": null,
            "min_width": null,
            "object_fit": null,
            "object_position": null,
            "order": null,
            "overflow": null,
            "overflow_x": null,
            "overflow_y": null,
            "padding": null,
            "right": null,
            "top": null,
            "visibility": null,
            "width": null
          }
        },
        "87b4e5a753fa4ba3a8cad8cdbee924a2": {
          "model_module": "@jupyter-widgets/controls",
          "model_name": "DescriptionStyleModel",
          "model_module_version": "1.5.0",
          "state": {
            "_model_module": "@jupyter-widgets/controls",
            "_model_module_version": "1.5.0",
            "_model_name": "DescriptionStyleModel",
            "_view_count": null,
            "_view_module": "@jupyter-widgets/base",
            "_view_module_version": "1.2.0",
            "_view_name": "StyleView",
            "description_width": ""
          }
        },
        "03642cf1faca4295843479095b2b8cff": {
          "model_module": "@jupyter-widgets/base",
          "model_name": "LayoutModel",
          "model_module_version": "1.2.0",
          "state": {
            "_model_module": "@jupyter-widgets/base",
            "_model_module_version": "1.2.0",
            "_model_name": "LayoutModel",
            "_view_count": null,
            "_view_module": "@jupyter-widgets/base",
            "_view_module_version": "1.2.0",
            "_view_name": "LayoutView",
            "align_content": null,
            "align_items": null,
            "align_self": null,
            "border": null,
            "bottom": null,
            "display": null,
            "flex": null,
            "flex_flow": null,
            "grid_area": null,
            "grid_auto_columns": null,
            "grid_auto_flow": null,
            "grid_auto_rows": null,
            "grid_column": null,
            "grid_gap": null,
            "grid_row": null,
            "grid_template_areas": null,
            "grid_template_columns": null,
            "grid_template_rows": null,
            "height": null,
            "justify_content": null,
            "justify_items": null,
            "left": null,
            "margin": null,
            "max_height": null,
            "max_width": null,
            "min_height": null,
            "min_width": null,
            "object_fit": null,
            "object_position": null,
            "order": null,
            "overflow": null,
            "overflow_x": null,
            "overflow_y": null,
            "padding": null,
            "right": null,
            "top": null,
            "visibility": null,
            "width": null
          }
        },
        "43abe24c19564d64a49fdc4678323ab4": {
          "model_module": "@jupyter-widgets/controls",
          "model_name": "ProgressStyleModel",
          "model_module_version": "1.5.0",
          "state": {
            "_model_module": "@jupyter-widgets/controls",
            "_model_module_version": "1.5.0",
            "_model_name": "ProgressStyleModel",
            "_view_count": null,
            "_view_module": "@jupyter-widgets/base",
            "_view_module_version": "1.2.0",
            "_view_name": "StyleView",
            "bar_color": null,
            "description_width": ""
          }
        },
        "cb7b4b3e46f64056bff1be5d1153d067": {
          "model_module": "@jupyter-widgets/base",
          "model_name": "LayoutModel",
          "model_module_version": "1.2.0",
          "state": {
            "_model_module": "@jupyter-widgets/base",
            "_model_module_version": "1.2.0",
            "_model_name": "LayoutModel",
            "_view_count": null,
            "_view_module": "@jupyter-widgets/base",
            "_view_module_version": "1.2.0",
            "_view_name": "LayoutView",
            "align_content": null,
            "align_items": null,
            "align_self": null,
            "border": null,
            "bottom": null,
            "display": null,
            "flex": null,
            "flex_flow": null,
            "grid_area": null,
            "grid_auto_columns": null,
            "grid_auto_flow": null,
            "grid_auto_rows": null,
            "grid_column": null,
            "grid_gap": null,
            "grid_row": null,
            "grid_template_areas": null,
            "grid_template_columns": null,
            "grid_template_rows": null,
            "height": null,
            "justify_content": null,
            "justify_items": null,
            "left": null,
            "margin": null,
            "max_height": null,
            "max_width": null,
            "min_height": null,
            "min_width": null,
            "object_fit": null,
            "object_position": null,
            "order": null,
            "overflow": null,
            "overflow_x": null,
            "overflow_y": null,
            "padding": null,
            "right": null,
            "top": null,
            "visibility": null,
            "width": null
          }
        },
        "7f427c1a298a480d8dfb924e78c46dcb": {
          "model_module": "@jupyter-widgets/controls",
          "model_name": "DescriptionStyleModel",
          "model_module_version": "1.5.0",
          "state": {
            "_model_module": "@jupyter-widgets/controls",
            "_model_module_version": "1.5.0",
            "_model_name": "DescriptionStyleModel",
            "_view_count": null,
            "_view_module": "@jupyter-widgets/base",
            "_view_module_version": "1.2.0",
            "_view_name": "StyleView",
            "description_width": ""
          }
        },
        "2448d11c06b7466082e93f7ee73ff18c": {
          "model_module": "@jupyter-widgets/controls",
          "model_name": "HBoxModel",
          "model_module_version": "1.5.0",
          "state": {
            "_dom_classes": [],
            "_model_module": "@jupyter-widgets/controls",
            "_model_module_version": "1.5.0",
            "_model_name": "HBoxModel",
            "_view_count": null,
            "_view_module": "@jupyter-widgets/controls",
            "_view_module_version": "1.5.0",
            "_view_name": "HBoxView",
            "box_style": "",
            "children": [
              "IPY_MODEL_20a6f76ca3514c1bac1c605ef5e0a3b3",
              "IPY_MODEL_b74bb6df3a034b58840e33984a726938",
              "IPY_MODEL_b281a20f1d40478e869574ac8d5f3e6a"
            ],
            "layout": "IPY_MODEL_27b15052232e41a59596f741ca974a8b"
          }
        },
        "20a6f76ca3514c1bac1c605ef5e0a3b3": {
          "model_module": "@jupyter-widgets/controls",
          "model_name": "HTMLModel",
          "model_module_version": "1.5.0",
          "state": {
            "_dom_classes": [],
            "_model_module": "@jupyter-widgets/controls",
            "_model_module_version": "1.5.0",
            "_model_name": "HTMLModel",
            "_view_count": null,
            "_view_module": "@jupyter-widgets/controls",
            "_view_module_version": "1.5.0",
            "_view_name": "HTMLView",
            "description": "",
            "description_tooltip": null,
            "layout": "IPY_MODEL_c323d2ae41634b1f9b8e3701f6720280",
            "placeholder": "​",
            "style": "IPY_MODEL_e9efea846e1141f58d928d05161e0f5a",
            "value": "Generating validation split: 100%"
          }
        },
        "b74bb6df3a034b58840e33984a726938": {
          "model_module": "@jupyter-widgets/controls",
          "model_name": "FloatProgressModel",
          "model_module_version": "1.5.0",
          "state": {
            "_dom_classes": [],
            "_model_module": "@jupyter-widgets/controls",
            "_model_module_version": "1.5.0",
            "_model_name": "FloatProgressModel",
            "_view_count": null,
            "_view_module": "@jupyter-widgets/controls",
            "_view_module_version": "1.5.0",
            "_view_name": "ProgressView",
            "bar_style": "",
            "description": "",
            "description_tooltip": null,
            "layout": "IPY_MODEL_5e0abe0601f4421d91923d2f73de512c",
            "max": 3250,
            "min": 0,
            "orientation": "horizontal",
            "style": "IPY_MODEL_6af41d0274014164b6823a6a0006d3fd",
            "value": 3250
          }
        },
        "b281a20f1d40478e869574ac8d5f3e6a": {
          "model_module": "@jupyter-widgets/controls",
          "model_name": "HTMLModel",
          "model_module_version": "1.5.0",
          "state": {
            "_dom_classes": [],
            "_model_module": "@jupyter-widgets/controls",
            "_model_module_version": "1.5.0",
            "_model_name": "HTMLModel",
            "_view_count": null,
            "_view_module": "@jupyter-widgets/controls",
            "_view_module_version": "1.5.0",
            "_view_name": "HTMLView",
            "description": "",
            "description_tooltip": null,
            "layout": "IPY_MODEL_3970cf1b9e2d4dc19f124e1b5a5e691d",
            "placeholder": "​",
            "style": "IPY_MODEL_a45bcb26291849a58b035437da3c6038",
            "value": " 3250/3250 [00:14&lt;00:00, 2599.46 examples/s]"
          }
        },
        "27b15052232e41a59596f741ca974a8b": {
          "model_module": "@jupyter-widgets/base",
          "model_name": "LayoutModel",
          "model_module_version": "1.2.0",
          "state": {
            "_model_module": "@jupyter-widgets/base",
            "_model_module_version": "1.2.0",
            "_model_name": "LayoutModel",
            "_view_count": null,
            "_view_module": "@jupyter-widgets/base",
            "_view_module_version": "1.2.0",
            "_view_name": "LayoutView",
            "align_content": null,
            "align_items": null,
            "align_self": null,
            "border": null,
            "bottom": null,
            "display": null,
            "flex": null,
            "flex_flow": null,
            "grid_area": null,
            "grid_auto_columns": null,
            "grid_auto_flow": null,
            "grid_auto_rows": null,
            "grid_column": null,
            "grid_gap": null,
            "grid_row": null,
            "grid_template_areas": null,
            "grid_template_columns": null,
            "grid_template_rows": null,
            "height": null,
            "justify_content": null,
            "justify_items": null,
            "left": null,
            "margin": null,
            "max_height": null,
            "max_width": null,
            "min_height": null,
            "min_width": null,
            "object_fit": null,
            "object_position": null,
            "order": null,
            "overflow": null,
            "overflow_x": null,
            "overflow_y": null,
            "padding": null,
            "right": null,
            "top": null,
            "visibility": "hidden",
            "width": null
          }
        },
        "c323d2ae41634b1f9b8e3701f6720280": {
          "model_module": "@jupyter-widgets/base",
          "model_name": "LayoutModel",
          "model_module_version": "1.2.0",
          "state": {
            "_model_module": "@jupyter-widgets/base",
            "_model_module_version": "1.2.0",
            "_model_name": "LayoutModel",
            "_view_count": null,
            "_view_module": "@jupyter-widgets/base",
            "_view_module_version": "1.2.0",
            "_view_name": "LayoutView",
            "align_content": null,
            "align_items": null,
            "align_self": null,
            "border": null,
            "bottom": null,
            "display": null,
            "flex": null,
            "flex_flow": null,
            "grid_area": null,
            "grid_auto_columns": null,
            "grid_auto_flow": null,
            "grid_auto_rows": null,
            "grid_column": null,
            "grid_gap": null,
            "grid_row": null,
            "grid_template_areas": null,
            "grid_template_columns": null,
            "grid_template_rows": null,
            "height": null,
            "justify_content": null,
            "justify_items": null,
            "left": null,
            "margin": null,
            "max_height": null,
            "max_width": null,
            "min_height": null,
            "min_width": null,
            "object_fit": null,
            "object_position": null,
            "order": null,
            "overflow": null,
            "overflow_x": null,
            "overflow_y": null,
            "padding": null,
            "right": null,
            "top": null,
            "visibility": null,
            "width": null
          }
        },
        "e9efea846e1141f58d928d05161e0f5a": {
          "model_module": "@jupyter-widgets/controls",
          "model_name": "DescriptionStyleModel",
          "model_module_version": "1.5.0",
          "state": {
            "_model_module": "@jupyter-widgets/controls",
            "_model_module_version": "1.5.0",
            "_model_name": "DescriptionStyleModel",
            "_view_count": null,
            "_view_module": "@jupyter-widgets/base",
            "_view_module_version": "1.2.0",
            "_view_name": "StyleView",
            "description_width": ""
          }
        },
        "5e0abe0601f4421d91923d2f73de512c": {
          "model_module": "@jupyter-widgets/base",
          "model_name": "LayoutModel",
          "model_module_version": "1.2.0",
          "state": {
            "_model_module": "@jupyter-widgets/base",
            "_model_module_version": "1.2.0",
            "_model_name": "LayoutModel",
            "_view_count": null,
            "_view_module": "@jupyter-widgets/base",
            "_view_module_version": "1.2.0",
            "_view_name": "LayoutView",
            "align_content": null,
            "align_items": null,
            "align_self": null,
            "border": null,
            "bottom": null,
            "display": null,
            "flex": null,
            "flex_flow": null,
            "grid_area": null,
            "grid_auto_columns": null,
            "grid_auto_flow": null,
            "grid_auto_rows": null,
            "grid_column": null,
            "grid_gap": null,
            "grid_row": null,
            "grid_template_areas": null,
            "grid_template_columns": null,
            "grid_template_rows": null,
            "height": null,
            "justify_content": null,
            "justify_items": null,
            "left": null,
            "margin": null,
            "max_height": null,
            "max_width": null,
            "min_height": null,
            "min_width": null,
            "object_fit": null,
            "object_position": null,
            "order": null,
            "overflow": null,
            "overflow_x": null,
            "overflow_y": null,
            "padding": null,
            "right": null,
            "top": null,
            "visibility": null,
            "width": null
          }
        },
        "6af41d0274014164b6823a6a0006d3fd": {
          "model_module": "@jupyter-widgets/controls",
          "model_name": "ProgressStyleModel",
          "model_module_version": "1.5.0",
          "state": {
            "_model_module": "@jupyter-widgets/controls",
            "_model_module_version": "1.5.0",
            "_model_name": "ProgressStyleModel",
            "_view_count": null,
            "_view_module": "@jupyter-widgets/base",
            "_view_module_version": "1.2.0",
            "_view_name": "StyleView",
            "bar_color": null,
            "description_width": ""
          }
        },
        "3970cf1b9e2d4dc19f124e1b5a5e691d": {
          "model_module": "@jupyter-widgets/base",
          "model_name": "LayoutModel",
          "model_module_version": "1.2.0",
          "state": {
            "_model_module": "@jupyter-widgets/base",
            "_model_module_version": "1.2.0",
            "_model_name": "LayoutModel",
            "_view_count": null,
            "_view_module": "@jupyter-widgets/base",
            "_view_module_version": "1.2.0",
            "_view_name": "LayoutView",
            "align_content": null,
            "align_items": null,
            "align_self": null,
            "border": null,
            "bottom": null,
            "display": null,
            "flex": null,
            "flex_flow": null,
            "grid_area": null,
            "grid_auto_columns": null,
            "grid_auto_flow": null,
            "grid_auto_rows": null,
            "grid_column": null,
            "grid_gap": null,
            "grid_row": null,
            "grid_template_areas": null,
            "grid_template_columns": null,
            "grid_template_rows": null,
            "height": null,
            "justify_content": null,
            "justify_items": null,
            "left": null,
            "margin": null,
            "max_height": null,
            "max_width": null,
            "min_height": null,
            "min_width": null,
            "object_fit": null,
            "object_position": null,
            "order": null,
            "overflow": null,
            "overflow_x": null,
            "overflow_y": null,
            "padding": null,
            "right": null,
            "top": null,
            "visibility": null,
            "width": null
          }
        },
        "a45bcb26291849a58b035437da3c6038": {
          "model_module": "@jupyter-widgets/controls",
          "model_name": "DescriptionStyleModel",
          "model_module_version": "1.5.0",
          "state": {
            "_model_module": "@jupyter-widgets/controls",
            "_model_module_version": "1.5.0",
            "_model_name": "DescriptionStyleModel",
            "_view_count": null,
            "_view_module": "@jupyter-widgets/base",
            "_view_module_version": "1.2.0",
            "_view_name": "StyleView",
            "description_width": ""
          }
        },
        "dd915828f51c476da4bd2fccdc99ce60": {
          "model_module": "@jupyter-widgets/controls",
          "model_name": "HBoxModel",
          "model_module_version": "1.5.0",
          "state": {
            "_dom_classes": [],
            "_model_module": "@jupyter-widgets/controls",
            "_model_module_version": "1.5.0",
            "_model_name": "HBoxModel",
            "_view_count": null,
            "_view_module": "@jupyter-widgets/controls",
            "_view_module_version": "1.5.0",
            "_view_name": "HBoxView",
            "box_style": "",
            "children": [
              "IPY_MODEL_104a1279208b4c18b52ffe0fa9b1493e",
              "IPY_MODEL_cacb78cc5fc64b63b430a1ba6dab94f0",
              "IPY_MODEL_750fc211762c43e3a7af2f52af48ee9a"
            ],
            "layout": "IPY_MODEL_2b0b90364a2e47ba9349b7c4e0aa7cd6"
          }
        },
        "104a1279208b4c18b52ffe0fa9b1493e": {
          "model_module": "@jupyter-widgets/controls",
          "model_name": "HTMLModel",
          "model_module_version": "1.5.0",
          "state": {
            "_dom_classes": [],
            "_model_module": "@jupyter-widgets/controls",
            "_model_module_version": "1.5.0",
            "_model_name": "HTMLModel",
            "_view_count": null,
            "_view_module": "@jupyter-widgets/controls",
            "_view_module_version": "1.5.0",
            "_view_name": "HTMLView",
            "description": "",
            "description_tooltip": null,
            "layout": "IPY_MODEL_7a09490f07184d7e8ce10a2c58b79cde",
            "placeholder": "​",
            "style": "IPY_MODEL_3134432dbe7141a0a3edff58a5a4dce5",
            "value": "Generating test split: 100%"
          }
        },
        "cacb78cc5fc64b63b430a1ba6dab94f0": {
          "model_module": "@jupyter-widgets/controls",
          "model_name": "FloatProgressModel",
          "model_module_version": "1.5.0",
          "state": {
            "_dom_classes": [],
            "_model_module": "@jupyter-widgets/controls",
            "_model_module_version": "1.5.0",
            "_model_name": "FloatProgressModel",
            "_view_count": null,
            "_view_module": "@jupyter-widgets/controls",
            "_view_module_version": "1.5.0",
            "_view_name": "ProgressView",
            "bar_style": "",
            "description": "",
            "description_tooltip": null,
            "layout": "IPY_MODEL_6375df8e41f14c5aa14e0cfba98595ed",
            "max": 3453,
            "min": 0,
            "orientation": "horizontal",
            "style": "IPY_MODEL_26129f02a117497f84d069dce74f33c8",
            "value": 3453
          }
        },
        "750fc211762c43e3a7af2f52af48ee9a": {
          "model_module": "@jupyter-widgets/controls",
          "model_name": "HTMLModel",
          "model_module_version": "1.5.0",
          "state": {
            "_dom_classes": [],
            "_model_module": "@jupyter-widgets/controls",
            "_model_module_version": "1.5.0",
            "_model_name": "HTMLModel",
            "_view_count": null,
            "_view_module": "@jupyter-widgets/controls",
            "_view_module_version": "1.5.0",
            "_view_name": "HTMLView",
            "description": "",
            "description_tooltip": null,
            "layout": "IPY_MODEL_f781c431dd4c4cd881f5ed2c7cee0909",
            "placeholder": "​",
            "style": "IPY_MODEL_daa0505cf195418f8bb2f07b66ae726c",
            "value": " 3453/3453 [00:13&lt;00:00, 3435.27 examples/s]"
          }
        },
        "2b0b90364a2e47ba9349b7c4e0aa7cd6": {
          "model_module": "@jupyter-widgets/base",
          "model_name": "LayoutModel",
          "model_module_version": "1.2.0",
          "state": {
            "_model_module": "@jupyter-widgets/base",
            "_model_module_version": "1.2.0",
            "_model_name": "LayoutModel",
            "_view_count": null,
            "_view_module": "@jupyter-widgets/base",
            "_view_module_version": "1.2.0",
            "_view_name": "LayoutView",
            "align_content": null,
            "align_items": null,
            "align_self": null,
            "border": null,
            "bottom": null,
            "display": null,
            "flex": null,
            "flex_flow": null,
            "grid_area": null,
            "grid_auto_columns": null,
            "grid_auto_flow": null,
            "grid_auto_rows": null,
            "grid_column": null,
            "grid_gap": null,
            "grid_row": null,
            "grid_template_areas": null,
            "grid_template_columns": null,
            "grid_template_rows": null,
            "height": null,
            "justify_content": null,
            "justify_items": null,
            "left": null,
            "margin": null,
            "max_height": null,
            "max_width": null,
            "min_height": null,
            "min_width": null,
            "object_fit": null,
            "object_position": null,
            "order": null,
            "overflow": null,
            "overflow_x": null,
            "overflow_y": null,
            "padding": null,
            "right": null,
            "top": null,
            "visibility": "hidden",
            "width": null
          }
        },
        "7a09490f07184d7e8ce10a2c58b79cde": {
          "model_module": "@jupyter-widgets/base",
          "model_name": "LayoutModel",
          "model_module_version": "1.2.0",
          "state": {
            "_model_module": "@jupyter-widgets/base",
            "_model_module_version": "1.2.0",
            "_model_name": "LayoutModel",
            "_view_count": null,
            "_view_module": "@jupyter-widgets/base",
            "_view_module_version": "1.2.0",
            "_view_name": "LayoutView",
            "align_content": null,
            "align_items": null,
            "align_self": null,
            "border": null,
            "bottom": null,
            "display": null,
            "flex": null,
            "flex_flow": null,
            "grid_area": null,
            "grid_auto_columns": null,
            "grid_auto_flow": null,
            "grid_auto_rows": null,
            "grid_column": null,
            "grid_gap": null,
            "grid_row": null,
            "grid_template_areas": null,
            "grid_template_columns": null,
            "grid_template_rows": null,
            "height": null,
            "justify_content": null,
            "justify_items": null,
            "left": null,
            "margin": null,
            "max_height": null,
            "max_width": null,
            "min_height": null,
            "min_width": null,
            "object_fit": null,
            "object_position": null,
            "order": null,
            "overflow": null,
            "overflow_x": null,
            "overflow_y": null,
            "padding": null,
            "right": null,
            "top": null,
            "visibility": null,
            "width": null
          }
        },
        "3134432dbe7141a0a3edff58a5a4dce5": {
          "model_module": "@jupyter-widgets/controls",
          "model_name": "DescriptionStyleModel",
          "model_module_version": "1.5.0",
          "state": {
            "_model_module": "@jupyter-widgets/controls",
            "_model_module_version": "1.5.0",
            "_model_name": "DescriptionStyleModel",
            "_view_count": null,
            "_view_module": "@jupyter-widgets/base",
            "_view_module_version": "1.2.0",
            "_view_name": "StyleView",
            "description_width": ""
          }
        },
        "6375df8e41f14c5aa14e0cfba98595ed": {
          "model_module": "@jupyter-widgets/base",
          "model_name": "LayoutModel",
          "model_module_version": "1.2.0",
          "state": {
            "_model_module": "@jupyter-widgets/base",
            "_model_module_version": "1.2.0",
            "_model_name": "LayoutModel",
            "_view_count": null,
            "_view_module": "@jupyter-widgets/base",
            "_view_module_version": "1.2.0",
            "_view_name": "LayoutView",
            "align_content": null,
            "align_items": null,
            "align_self": null,
            "border": null,
            "bottom": null,
            "display": null,
            "flex": null,
            "flex_flow": null,
            "grid_area": null,
            "grid_auto_columns": null,
            "grid_auto_flow": null,
            "grid_auto_rows": null,
            "grid_column": null,
            "grid_gap": null,
            "grid_row": null,
            "grid_template_areas": null,
            "grid_template_columns": null,
            "grid_template_rows": null,
            "height": null,
            "justify_content": null,
            "justify_items": null,
            "left": null,
            "margin": null,
            "max_height": null,
            "max_width": null,
            "min_height": null,
            "min_width": null,
            "object_fit": null,
            "object_position": null,
            "order": null,
            "overflow": null,
            "overflow_x": null,
            "overflow_y": null,
            "padding": null,
            "right": null,
            "top": null,
            "visibility": null,
            "width": null
          }
        },
        "26129f02a117497f84d069dce74f33c8": {
          "model_module": "@jupyter-widgets/controls",
          "model_name": "ProgressStyleModel",
          "model_module_version": "1.5.0",
          "state": {
            "_model_module": "@jupyter-widgets/controls",
            "_model_module_version": "1.5.0",
            "_model_name": "ProgressStyleModel",
            "_view_count": null,
            "_view_module": "@jupyter-widgets/base",
            "_view_module_version": "1.2.0",
            "_view_name": "StyleView",
            "bar_color": null,
            "description_width": ""
          }
        },
        "f781c431dd4c4cd881f5ed2c7cee0909": {
          "model_module": "@jupyter-widgets/base",
          "model_name": "LayoutModel",
          "model_module_version": "1.2.0",
          "state": {
            "_model_module": "@jupyter-widgets/base",
            "_model_module_version": "1.2.0",
            "_model_name": "LayoutModel",
            "_view_count": null,
            "_view_module": "@jupyter-widgets/base",
            "_view_module_version": "1.2.0",
            "_view_name": "LayoutView",
            "align_content": null,
            "align_items": null,
            "align_self": null,
            "border": null,
            "bottom": null,
            "display": null,
            "flex": null,
            "flex_flow": null,
            "grid_area": null,
            "grid_auto_columns": null,
            "grid_auto_flow": null,
            "grid_auto_rows": null,
            "grid_column": null,
            "grid_gap": null,
            "grid_row": null,
            "grid_template_areas": null,
            "grid_template_columns": null,
            "grid_template_rows": null,
            "height": null,
            "justify_content": null,
            "justify_items": null,
            "left": null,
            "margin": null,
            "max_height": null,
            "max_width": null,
            "min_height": null,
            "min_width": null,
            "object_fit": null,
            "object_position": null,
            "order": null,
            "overflow": null,
            "overflow_x": null,
            "overflow_y": null,
            "padding": null,
            "right": null,
            "top": null,
            "visibility": null,
            "width": null
          }
        },
        "daa0505cf195418f8bb2f07b66ae726c": {
          "model_module": "@jupyter-widgets/controls",
          "model_name": "DescriptionStyleModel",
          "model_module_version": "1.5.0",
          "state": {
            "_model_module": "@jupyter-widgets/controls",
            "_model_module_version": "1.5.0",
            "_model_name": "DescriptionStyleModel",
            "_view_count": null,
            "_view_module": "@jupyter-widgets/base",
            "_view_module_version": "1.2.0",
            "_view_name": "StyleView",
            "description_width": ""
          }
        },
        "f36044652d664ce2ae58e40767cf7b8d": {
          "model_module": "@jupyter-widgets/controls",
          "model_name": "HBoxModel",
          "model_module_version": "1.5.0",
          "state": {
            "_dom_classes": [],
            "_model_module": "@jupyter-widgets/controls",
            "_model_module_version": "1.5.0",
            "_model_name": "HBoxModel",
            "_view_count": null,
            "_view_module": "@jupyter-widgets/controls",
            "_view_module_version": "1.5.0",
            "_view_name": "HBoxView",
            "box_style": "",
            "children": [
              "IPY_MODEL_a7354374af514677aede32f4bd92bf68",
              "IPY_MODEL_65ee18a3f7e4483992539d968edbfe38",
              "IPY_MODEL_d99156d373524ae2be98fdde3a6fa05d"
            ],
            "layout": "IPY_MODEL_f31299f6e7ca4069ae6f414a25f7cec6"
          }
        },
        "a7354374af514677aede32f4bd92bf68": {
          "model_module": "@jupyter-widgets/controls",
          "model_name": "HTMLModel",
          "model_module_version": "1.5.0",
          "state": {
            "_dom_classes": [],
            "_model_module": "@jupyter-widgets/controls",
            "_model_module_version": "1.5.0",
            "_model_name": "HTMLModel",
            "_view_count": null,
            "_view_module": "@jupyter-widgets/controls",
            "_view_module_version": "1.5.0",
            "_view_name": "HTMLView",
            "description": "",
            "description_tooltip": null,
            "layout": "IPY_MODEL_44c43005d5da4e7a9df600a600a19de3",
            "placeholder": "​",
            "style": "IPY_MODEL_8dd013a84bee429f8cde90c78aa53675",
            "value": "100%"
          }
        },
        "65ee18a3f7e4483992539d968edbfe38": {
          "model_module": "@jupyter-widgets/controls",
          "model_name": "FloatProgressModel",
          "model_module_version": "1.5.0",
          "state": {
            "_dom_classes": [],
            "_model_module": "@jupyter-widgets/controls",
            "_model_module_version": "1.5.0",
            "_model_name": "FloatProgressModel",
            "_view_count": null,
            "_view_module": "@jupyter-widgets/controls",
            "_view_module_version": "1.5.0",
            "_view_name": "ProgressView",
            "bar_style": "success",
            "description": "",
            "description_tooltip": null,
            "layout": "IPY_MODEL_042ec8cc4650491a9fd9481894e1e0a0",
            "max": 3,
            "min": 0,
            "orientation": "horizontal",
            "style": "IPY_MODEL_50b4ce68421642bab5fb67c4b490b836",
            "value": 3
          }
        },
        "d99156d373524ae2be98fdde3a6fa05d": {
          "model_module": "@jupyter-widgets/controls",
          "model_name": "HTMLModel",
          "model_module_version": "1.5.0",
          "state": {
            "_dom_classes": [],
            "_model_module": "@jupyter-widgets/controls",
            "_model_module_version": "1.5.0",
            "_model_name": "HTMLModel",
            "_view_count": null,
            "_view_module": "@jupyter-widgets/controls",
            "_view_module_version": "1.5.0",
            "_view_name": "HTMLView",
            "description": "",
            "description_tooltip": null,
            "layout": "IPY_MODEL_87a0c52ca3d14856bdab0aec60182863",
            "placeholder": "​",
            "style": "IPY_MODEL_8e5ee6ea7e714028b9c4c3f528067cfe",
            "value": " 3/3 [00:00&lt;00:00, 106.34it/s]"
          }
        },
        "f31299f6e7ca4069ae6f414a25f7cec6": {
          "model_module": "@jupyter-widgets/base",
          "model_name": "LayoutModel",
          "model_module_version": "1.2.0",
          "state": {
            "_model_module": "@jupyter-widgets/base",
            "_model_module_version": "1.2.0",
            "_model_name": "LayoutModel",
            "_view_count": null,
            "_view_module": "@jupyter-widgets/base",
            "_view_module_version": "1.2.0",
            "_view_name": "LayoutView",
            "align_content": null,
            "align_items": null,
            "align_self": null,
            "border": null,
            "bottom": null,
            "display": null,
            "flex": null,
            "flex_flow": null,
            "grid_area": null,
            "grid_auto_columns": null,
            "grid_auto_flow": null,
            "grid_auto_rows": null,
            "grid_column": null,
            "grid_gap": null,
            "grid_row": null,
            "grid_template_areas": null,
            "grid_template_columns": null,
            "grid_template_rows": null,
            "height": null,
            "justify_content": null,
            "justify_items": null,
            "left": null,
            "margin": null,
            "max_height": null,
            "max_width": null,
            "min_height": null,
            "min_width": null,
            "object_fit": null,
            "object_position": null,
            "order": null,
            "overflow": null,
            "overflow_x": null,
            "overflow_y": null,
            "padding": null,
            "right": null,
            "top": null,
            "visibility": null,
            "width": null
          }
        },
        "44c43005d5da4e7a9df600a600a19de3": {
          "model_module": "@jupyter-widgets/base",
          "model_name": "LayoutModel",
          "model_module_version": "1.2.0",
          "state": {
            "_model_module": "@jupyter-widgets/base",
            "_model_module_version": "1.2.0",
            "_model_name": "LayoutModel",
            "_view_count": null,
            "_view_module": "@jupyter-widgets/base",
            "_view_module_version": "1.2.0",
            "_view_name": "LayoutView",
            "align_content": null,
            "align_items": null,
            "align_self": null,
            "border": null,
            "bottom": null,
            "display": null,
            "flex": null,
            "flex_flow": null,
            "grid_area": null,
            "grid_auto_columns": null,
            "grid_auto_flow": null,
            "grid_auto_rows": null,
            "grid_column": null,
            "grid_gap": null,
            "grid_row": null,
            "grid_template_areas": null,
            "grid_template_columns": null,
            "grid_template_rows": null,
            "height": null,
            "justify_content": null,
            "justify_items": null,
            "left": null,
            "margin": null,
            "max_height": null,
            "max_width": null,
            "min_height": null,
            "min_width": null,
            "object_fit": null,
            "object_position": null,
            "order": null,
            "overflow": null,
            "overflow_x": null,
            "overflow_y": null,
            "padding": null,
            "right": null,
            "top": null,
            "visibility": null,
            "width": null
          }
        },
        "8dd013a84bee429f8cde90c78aa53675": {
          "model_module": "@jupyter-widgets/controls",
          "model_name": "DescriptionStyleModel",
          "model_module_version": "1.5.0",
          "state": {
            "_model_module": "@jupyter-widgets/controls",
            "_model_module_version": "1.5.0",
            "_model_name": "DescriptionStyleModel",
            "_view_count": null,
            "_view_module": "@jupyter-widgets/base",
            "_view_module_version": "1.2.0",
            "_view_name": "StyleView",
            "description_width": ""
          }
        },
        "042ec8cc4650491a9fd9481894e1e0a0": {
          "model_module": "@jupyter-widgets/base",
          "model_name": "LayoutModel",
          "model_module_version": "1.2.0",
          "state": {
            "_model_module": "@jupyter-widgets/base",
            "_model_module_version": "1.2.0",
            "_model_name": "LayoutModel",
            "_view_count": null,
            "_view_module": "@jupyter-widgets/base",
            "_view_module_version": "1.2.0",
            "_view_name": "LayoutView",
            "align_content": null,
            "align_items": null,
            "align_self": null,
            "border": null,
            "bottom": null,
            "display": null,
            "flex": null,
            "flex_flow": null,
            "grid_area": null,
            "grid_auto_columns": null,
            "grid_auto_flow": null,
            "grid_auto_rows": null,
            "grid_column": null,
            "grid_gap": null,
            "grid_row": null,
            "grid_template_areas": null,
            "grid_template_columns": null,
            "grid_template_rows": null,
            "height": null,
            "justify_content": null,
            "justify_items": null,
            "left": null,
            "margin": null,
            "max_height": null,
            "max_width": null,
            "min_height": null,
            "min_width": null,
            "object_fit": null,
            "object_position": null,
            "order": null,
            "overflow": null,
            "overflow_x": null,
            "overflow_y": null,
            "padding": null,
            "right": null,
            "top": null,
            "visibility": null,
            "width": null
          }
        },
        "50b4ce68421642bab5fb67c4b490b836": {
          "model_module": "@jupyter-widgets/controls",
          "model_name": "ProgressStyleModel",
          "model_module_version": "1.5.0",
          "state": {
            "_model_module": "@jupyter-widgets/controls",
            "_model_module_version": "1.5.0",
            "_model_name": "ProgressStyleModel",
            "_view_count": null,
            "_view_module": "@jupyter-widgets/base",
            "_view_module_version": "1.2.0",
            "_view_name": "StyleView",
            "bar_color": null,
            "description_width": ""
          }
        },
        "87a0c52ca3d14856bdab0aec60182863": {
          "model_module": "@jupyter-widgets/base",
          "model_name": "LayoutModel",
          "model_module_version": "1.2.0",
          "state": {
            "_model_module": "@jupyter-widgets/base",
            "_model_module_version": "1.2.0",
            "_model_name": "LayoutModel",
            "_view_count": null,
            "_view_module": "@jupyter-widgets/base",
            "_view_module_version": "1.2.0",
            "_view_name": "LayoutView",
            "align_content": null,
            "align_items": null,
            "align_self": null,
            "border": null,
            "bottom": null,
            "display": null,
            "flex": null,
            "flex_flow": null,
            "grid_area": null,
            "grid_auto_columns": null,
            "grid_auto_flow": null,
            "grid_auto_rows": null,
            "grid_column": null,
            "grid_gap": null,
            "grid_row": null,
            "grid_template_areas": null,
            "grid_template_columns": null,
            "grid_template_rows": null,
            "height": null,
            "justify_content": null,
            "justify_items": null,
            "left": null,
            "margin": null,
            "max_height": null,
            "max_width": null,
            "min_height": null,
            "min_width": null,
            "object_fit": null,
            "object_position": null,
            "order": null,
            "overflow": null,
            "overflow_x": null,
            "overflow_y": null,
            "padding": null,
            "right": null,
            "top": null,
            "visibility": null,
            "width": null
          }
        },
        "8e5ee6ea7e714028b9c4c3f528067cfe": {
          "model_module": "@jupyter-widgets/controls",
          "model_name": "DescriptionStyleModel",
          "model_module_version": "1.5.0",
          "state": {
            "_model_module": "@jupyter-widgets/controls",
            "_model_module_version": "1.5.0",
            "_model_name": "DescriptionStyleModel",
            "_view_count": null,
            "_view_module": "@jupyter-widgets/base",
            "_view_module_version": "1.2.0",
            "_view_name": "StyleView",
            "description_width": ""
          }
        },
        "f87638e7c8384d168e81e5d2a2bb490b": {
          "model_module": "@jupyter-widgets/controls",
          "model_name": "HBoxModel",
          "model_module_version": "1.5.0",
          "state": {
            "_dom_classes": [],
            "_model_module": "@jupyter-widgets/controls",
            "_model_module_version": "1.5.0",
            "_model_name": "HBoxModel",
            "_view_count": null,
            "_view_module": "@jupyter-widgets/controls",
            "_view_module_version": "1.5.0",
            "_view_name": "HBoxView",
            "box_style": "",
            "children": [
              "IPY_MODEL_a7cd5558feab4f7787058ece790d6247",
              "IPY_MODEL_f216ccb697764e3fb1908e311965c5a5",
              "IPY_MODEL_f41de134fbb24b9d88dce8bb0a3100c1"
            ],
            "layout": "IPY_MODEL_3824dce9cdd24e11927a05fd26f204f8"
          }
        },
        "a7cd5558feab4f7787058ece790d6247": {
          "model_module": "@jupyter-widgets/controls",
          "model_name": "HTMLModel",
          "model_module_version": "1.5.0",
          "state": {
            "_dom_classes": [],
            "_model_module": "@jupyter-widgets/controls",
            "_model_module_version": "1.5.0",
            "_model_name": "HTMLModel",
            "_view_count": null,
            "_view_module": "@jupyter-widgets/controls",
            "_view_module_version": "1.5.0",
            "_view_name": "HTMLView",
            "description": "",
            "description_tooltip": null,
            "layout": "IPY_MODEL_15085bfac468482cb534d6c503538e8b",
            "placeholder": "​",
            "style": "IPY_MODEL_4f51850667ed4bfab9be307642b40ded",
            "value": "Downloading (…)lve/main/config.json: 100%"
          }
        },
        "f216ccb697764e3fb1908e311965c5a5": {
          "model_module": "@jupyter-widgets/controls",
          "model_name": "FloatProgressModel",
          "model_module_version": "1.5.0",
          "state": {
            "_dom_classes": [],
            "_model_module": "@jupyter-widgets/controls",
            "_model_module_version": "1.5.0",
            "_model_name": "FloatProgressModel",
            "_view_count": null,
            "_view_module": "@jupyter-widgets/controls",
            "_view_module_version": "1.5.0",
            "_view_name": "ProgressView",
            "bar_style": "success",
            "description": "",
            "description_tooltip": null,
            "layout": "IPY_MODEL_9e1f3afce5bd4090927512cba142e67d",
            "max": 665,
            "min": 0,
            "orientation": "horizontal",
            "style": "IPY_MODEL_44f1ec973f354f5981a05aa0849850a9",
            "value": 665
          }
        },
        "f41de134fbb24b9d88dce8bb0a3100c1": {
          "model_module": "@jupyter-widgets/controls",
          "model_name": "HTMLModel",
          "model_module_version": "1.5.0",
          "state": {
            "_dom_classes": [],
            "_model_module": "@jupyter-widgets/controls",
            "_model_module_version": "1.5.0",
            "_model_name": "HTMLModel",
            "_view_count": null,
            "_view_module": "@jupyter-widgets/controls",
            "_view_module_version": "1.5.0",
            "_view_name": "HTMLView",
            "description": "",
            "description_tooltip": null,
            "layout": "IPY_MODEL_62aeedcf06bf42938985d616c9cc729e",
            "placeholder": "​",
            "style": "IPY_MODEL_1df32a893a314f7da375bc8e30d89218",
            "value": " 665/665 [00:00&lt;00:00, 35.1kB/s]"
          }
        },
        "3824dce9cdd24e11927a05fd26f204f8": {
          "model_module": "@jupyter-widgets/base",
          "model_name": "LayoutModel",
          "model_module_version": "1.2.0",
          "state": {
            "_model_module": "@jupyter-widgets/base",
            "_model_module_version": "1.2.0",
            "_model_name": "LayoutModel",
            "_view_count": null,
            "_view_module": "@jupyter-widgets/base",
            "_view_module_version": "1.2.0",
            "_view_name": "LayoutView",
            "align_content": null,
            "align_items": null,
            "align_self": null,
            "border": null,
            "bottom": null,
            "display": null,
            "flex": null,
            "flex_flow": null,
            "grid_area": null,
            "grid_auto_columns": null,
            "grid_auto_flow": null,
            "grid_auto_rows": null,
            "grid_column": null,
            "grid_gap": null,
            "grid_row": null,
            "grid_template_areas": null,
            "grid_template_columns": null,
            "grid_template_rows": null,
            "height": null,
            "justify_content": null,
            "justify_items": null,
            "left": null,
            "margin": null,
            "max_height": null,
            "max_width": null,
            "min_height": null,
            "min_width": null,
            "object_fit": null,
            "object_position": null,
            "order": null,
            "overflow": null,
            "overflow_x": null,
            "overflow_y": null,
            "padding": null,
            "right": null,
            "top": null,
            "visibility": null,
            "width": null
          }
        },
        "15085bfac468482cb534d6c503538e8b": {
          "model_module": "@jupyter-widgets/base",
          "model_name": "LayoutModel",
          "model_module_version": "1.2.0",
          "state": {
            "_model_module": "@jupyter-widgets/base",
            "_model_module_version": "1.2.0",
            "_model_name": "LayoutModel",
            "_view_count": null,
            "_view_module": "@jupyter-widgets/base",
            "_view_module_version": "1.2.0",
            "_view_name": "LayoutView",
            "align_content": null,
            "align_items": null,
            "align_self": null,
            "border": null,
            "bottom": null,
            "display": null,
            "flex": null,
            "flex_flow": null,
            "grid_area": null,
            "grid_auto_columns": null,
            "grid_auto_flow": null,
            "grid_auto_rows": null,
            "grid_column": null,
            "grid_gap": null,
            "grid_row": null,
            "grid_template_areas": null,
            "grid_template_columns": null,
            "grid_template_rows": null,
            "height": null,
            "justify_content": null,
            "justify_items": null,
            "left": null,
            "margin": null,
            "max_height": null,
            "max_width": null,
            "min_height": null,
            "min_width": null,
            "object_fit": null,
            "object_position": null,
            "order": null,
            "overflow": null,
            "overflow_x": null,
            "overflow_y": null,
            "padding": null,
            "right": null,
            "top": null,
            "visibility": null,
            "width": null
          }
        },
        "4f51850667ed4bfab9be307642b40ded": {
          "model_module": "@jupyter-widgets/controls",
          "model_name": "DescriptionStyleModel",
          "model_module_version": "1.5.0",
          "state": {
            "_model_module": "@jupyter-widgets/controls",
            "_model_module_version": "1.5.0",
            "_model_name": "DescriptionStyleModel",
            "_view_count": null,
            "_view_module": "@jupyter-widgets/base",
            "_view_module_version": "1.2.0",
            "_view_name": "StyleView",
            "description_width": ""
          }
        },
        "9e1f3afce5bd4090927512cba142e67d": {
          "model_module": "@jupyter-widgets/base",
          "model_name": "LayoutModel",
          "model_module_version": "1.2.0",
          "state": {
            "_model_module": "@jupyter-widgets/base",
            "_model_module_version": "1.2.0",
            "_model_name": "LayoutModel",
            "_view_count": null,
            "_view_module": "@jupyter-widgets/base",
            "_view_module_version": "1.2.0",
            "_view_name": "LayoutView",
            "align_content": null,
            "align_items": null,
            "align_self": null,
            "border": null,
            "bottom": null,
            "display": null,
            "flex": null,
            "flex_flow": null,
            "grid_area": null,
            "grid_auto_columns": null,
            "grid_auto_flow": null,
            "grid_auto_rows": null,
            "grid_column": null,
            "grid_gap": null,
            "grid_row": null,
            "grid_template_areas": null,
            "grid_template_columns": null,
            "grid_template_rows": null,
            "height": null,
            "justify_content": null,
            "justify_items": null,
            "left": null,
            "margin": null,
            "max_height": null,
            "max_width": null,
            "min_height": null,
            "min_width": null,
            "object_fit": null,
            "object_position": null,
            "order": null,
            "overflow": null,
            "overflow_x": null,
            "overflow_y": null,
            "padding": null,
            "right": null,
            "top": null,
            "visibility": null,
            "width": null
          }
        },
        "44f1ec973f354f5981a05aa0849850a9": {
          "model_module": "@jupyter-widgets/controls",
          "model_name": "ProgressStyleModel",
          "model_module_version": "1.5.0",
          "state": {
            "_model_module": "@jupyter-widgets/controls",
            "_model_module_version": "1.5.0",
            "_model_name": "ProgressStyleModel",
            "_view_count": null,
            "_view_module": "@jupyter-widgets/base",
            "_view_module_version": "1.2.0",
            "_view_name": "StyleView",
            "bar_color": null,
            "description_width": ""
          }
        },
        "62aeedcf06bf42938985d616c9cc729e": {
          "model_module": "@jupyter-widgets/base",
          "model_name": "LayoutModel",
          "model_module_version": "1.2.0",
          "state": {
            "_model_module": "@jupyter-widgets/base",
            "_model_module_version": "1.2.0",
            "_model_name": "LayoutModel",
            "_view_count": null,
            "_view_module": "@jupyter-widgets/base",
            "_view_module_version": "1.2.0",
            "_view_name": "LayoutView",
            "align_content": null,
            "align_items": null,
            "align_self": null,
            "border": null,
            "bottom": null,
            "display": null,
            "flex": null,
            "flex_flow": null,
            "grid_area": null,
            "grid_auto_columns": null,
            "grid_auto_flow": null,
            "grid_auto_rows": null,
            "grid_column": null,
            "grid_gap": null,
            "grid_row": null,
            "grid_template_areas": null,
            "grid_template_columns": null,
            "grid_template_rows": null,
            "height": null,
            "justify_content": null,
            "justify_items": null,
            "left": null,
            "margin": null,
            "max_height": null,
            "max_width": null,
            "min_height": null,
            "min_width": null,
            "object_fit": null,
            "object_position": null,
            "order": null,
            "overflow": null,
            "overflow_x": null,
            "overflow_y": null,
            "padding": null,
            "right": null,
            "top": null,
            "visibility": null,
            "width": null
          }
        },
        "1df32a893a314f7da375bc8e30d89218": {
          "model_module": "@jupyter-widgets/controls",
          "model_name": "DescriptionStyleModel",
          "model_module_version": "1.5.0",
          "state": {
            "_model_module": "@jupyter-widgets/controls",
            "_model_module_version": "1.5.0",
            "_model_name": "DescriptionStyleModel",
            "_view_count": null,
            "_view_module": "@jupyter-widgets/base",
            "_view_module_version": "1.2.0",
            "_view_name": "StyleView",
            "description_width": ""
          }
        },
        "817c7ccf8e6a457d98d7995e3e74898c": {
          "model_module": "@jupyter-widgets/controls",
          "model_name": "HBoxModel",
          "model_module_version": "1.5.0",
          "state": {
            "_dom_classes": [],
            "_model_module": "@jupyter-widgets/controls",
            "_model_module_version": "1.5.0",
            "_model_name": "HBoxModel",
            "_view_count": null,
            "_view_module": "@jupyter-widgets/controls",
            "_view_module_version": "1.5.0",
            "_view_name": "HBoxView",
            "box_style": "",
            "children": [
              "IPY_MODEL_04ac4228998540c8a850665f935fe132",
              "IPY_MODEL_b1d41949ff4f44b0839420632f792c78",
              "IPY_MODEL_79aeb8221bdd4a40951a01358498805e"
            ],
            "layout": "IPY_MODEL_7c0403ef2efe40a0a94c5f55a93d319a"
          }
        },
        "04ac4228998540c8a850665f935fe132": {
          "model_module": "@jupyter-widgets/controls",
          "model_name": "HTMLModel",
          "model_module_version": "1.5.0",
          "state": {
            "_dom_classes": [],
            "_model_module": "@jupyter-widgets/controls",
            "_model_module_version": "1.5.0",
            "_model_name": "HTMLModel",
            "_view_count": null,
            "_view_module": "@jupyter-widgets/controls",
            "_view_module_version": "1.5.0",
            "_view_name": "HTMLView",
            "description": "",
            "description_tooltip": null,
            "layout": "IPY_MODEL_327634e719c04ff2a9e412640960e324",
            "placeholder": "​",
            "style": "IPY_MODEL_beda6c9f4c6e4628b14d6b7bf9674fba",
            "value": "Downloading tf_model.h5: 100%"
          }
        },
        "b1d41949ff4f44b0839420632f792c78": {
          "model_module": "@jupyter-widgets/controls",
          "model_name": "FloatProgressModel",
          "model_module_version": "1.5.0",
          "state": {
            "_dom_classes": [],
            "_model_module": "@jupyter-widgets/controls",
            "_model_module_version": "1.5.0",
            "_model_name": "FloatProgressModel",
            "_view_count": null,
            "_view_module": "@jupyter-widgets/controls",
            "_view_module_version": "1.5.0",
            "_view_name": "ProgressView",
            "bar_style": "success",
            "description": "",
            "description_tooltip": null,
            "layout": "IPY_MODEL_aba974d46188456caf93793d7375cd56",
            "max": 497933648,
            "min": 0,
            "orientation": "horizontal",
            "style": "IPY_MODEL_8f91182538d6448a8817667d9c0d3526",
            "value": 497933648
          }
        },
        "79aeb8221bdd4a40951a01358498805e": {
          "model_module": "@jupyter-widgets/controls",
          "model_name": "HTMLModel",
          "model_module_version": "1.5.0",
          "state": {
            "_dom_classes": [],
            "_model_module": "@jupyter-widgets/controls",
            "_model_module_version": "1.5.0",
            "_model_name": "HTMLModel",
            "_view_count": null,
            "_view_module": "@jupyter-widgets/controls",
            "_view_module_version": "1.5.0",
            "_view_name": "HTMLView",
            "description": "",
            "description_tooltip": null,
            "layout": "IPY_MODEL_249f6d651ea0451a9444847e7f6255b2",
            "placeholder": "​",
            "style": "IPY_MODEL_b6cce53ec03a4d6ead470897ee401adb",
            "value": " 498M/498M [00:02&lt;00:00, 207MB/s]"
          }
        },
        "7c0403ef2efe40a0a94c5f55a93d319a": {
          "model_module": "@jupyter-widgets/base",
          "model_name": "LayoutModel",
          "model_module_version": "1.2.0",
          "state": {
            "_model_module": "@jupyter-widgets/base",
            "_model_module_version": "1.2.0",
            "_model_name": "LayoutModel",
            "_view_count": null,
            "_view_module": "@jupyter-widgets/base",
            "_view_module_version": "1.2.0",
            "_view_name": "LayoutView",
            "align_content": null,
            "align_items": null,
            "align_self": null,
            "border": null,
            "bottom": null,
            "display": null,
            "flex": null,
            "flex_flow": null,
            "grid_area": null,
            "grid_auto_columns": null,
            "grid_auto_flow": null,
            "grid_auto_rows": null,
            "grid_column": null,
            "grid_gap": null,
            "grid_row": null,
            "grid_template_areas": null,
            "grid_template_columns": null,
            "grid_template_rows": null,
            "height": null,
            "justify_content": null,
            "justify_items": null,
            "left": null,
            "margin": null,
            "max_height": null,
            "max_width": null,
            "min_height": null,
            "min_width": null,
            "object_fit": null,
            "object_position": null,
            "order": null,
            "overflow": null,
            "overflow_x": null,
            "overflow_y": null,
            "padding": null,
            "right": null,
            "top": null,
            "visibility": null,
            "width": null
          }
        },
        "327634e719c04ff2a9e412640960e324": {
          "model_module": "@jupyter-widgets/base",
          "model_name": "LayoutModel",
          "model_module_version": "1.2.0",
          "state": {
            "_model_module": "@jupyter-widgets/base",
            "_model_module_version": "1.2.0",
            "_model_name": "LayoutModel",
            "_view_count": null,
            "_view_module": "@jupyter-widgets/base",
            "_view_module_version": "1.2.0",
            "_view_name": "LayoutView",
            "align_content": null,
            "align_items": null,
            "align_self": null,
            "border": null,
            "bottom": null,
            "display": null,
            "flex": null,
            "flex_flow": null,
            "grid_area": null,
            "grid_auto_columns": null,
            "grid_auto_flow": null,
            "grid_auto_rows": null,
            "grid_column": null,
            "grid_gap": null,
            "grid_row": null,
            "grid_template_areas": null,
            "grid_template_columns": null,
            "grid_template_rows": null,
            "height": null,
            "justify_content": null,
            "justify_items": null,
            "left": null,
            "margin": null,
            "max_height": null,
            "max_width": null,
            "min_height": null,
            "min_width": null,
            "object_fit": null,
            "object_position": null,
            "order": null,
            "overflow": null,
            "overflow_x": null,
            "overflow_y": null,
            "padding": null,
            "right": null,
            "top": null,
            "visibility": null,
            "width": null
          }
        },
        "beda6c9f4c6e4628b14d6b7bf9674fba": {
          "model_module": "@jupyter-widgets/controls",
          "model_name": "DescriptionStyleModel",
          "model_module_version": "1.5.0",
          "state": {
            "_model_module": "@jupyter-widgets/controls",
            "_model_module_version": "1.5.0",
            "_model_name": "DescriptionStyleModel",
            "_view_count": null,
            "_view_module": "@jupyter-widgets/base",
            "_view_module_version": "1.2.0",
            "_view_name": "StyleView",
            "description_width": ""
          }
        },
        "aba974d46188456caf93793d7375cd56": {
          "model_module": "@jupyter-widgets/base",
          "model_name": "LayoutModel",
          "model_module_version": "1.2.0",
          "state": {
            "_model_module": "@jupyter-widgets/base",
            "_model_module_version": "1.2.0",
            "_model_name": "LayoutModel",
            "_view_count": null,
            "_view_module": "@jupyter-widgets/base",
            "_view_module_version": "1.2.0",
            "_view_name": "LayoutView",
            "align_content": null,
            "align_items": null,
            "align_self": null,
            "border": null,
            "bottom": null,
            "display": null,
            "flex": null,
            "flex_flow": null,
            "grid_area": null,
            "grid_auto_columns": null,
            "grid_auto_flow": null,
            "grid_auto_rows": null,
            "grid_column": null,
            "grid_gap": null,
            "grid_row": null,
            "grid_template_areas": null,
            "grid_template_columns": null,
            "grid_template_rows": null,
            "height": null,
            "justify_content": null,
            "justify_items": null,
            "left": null,
            "margin": null,
            "max_height": null,
            "max_width": null,
            "min_height": null,
            "min_width": null,
            "object_fit": null,
            "object_position": null,
            "order": null,
            "overflow": null,
            "overflow_x": null,
            "overflow_y": null,
            "padding": null,
            "right": null,
            "top": null,
            "visibility": null,
            "width": null
          }
        },
        "8f91182538d6448a8817667d9c0d3526": {
          "model_module": "@jupyter-widgets/controls",
          "model_name": "ProgressStyleModel",
          "model_module_version": "1.5.0",
          "state": {
            "_model_module": "@jupyter-widgets/controls",
            "_model_module_version": "1.5.0",
            "_model_name": "ProgressStyleModel",
            "_view_count": null,
            "_view_module": "@jupyter-widgets/base",
            "_view_module_version": "1.2.0",
            "_view_name": "StyleView",
            "bar_color": null,
            "description_width": ""
          }
        },
        "249f6d651ea0451a9444847e7f6255b2": {
          "model_module": "@jupyter-widgets/base",
          "model_name": "LayoutModel",
          "model_module_version": "1.2.0",
          "state": {
            "_model_module": "@jupyter-widgets/base",
            "_model_module_version": "1.2.0",
            "_model_name": "LayoutModel",
            "_view_count": null,
            "_view_module": "@jupyter-widgets/base",
            "_view_module_version": "1.2.0",
            "_view_name": "LayoutView",
            "align_content": null,
            "align_items": null,
            "align_self": null,
            "border": null,
            "bottom": null,
            "display": null,
            "flex": null,
            "flex_flow": null,
            "grid_area": null,
            "grid_auto_columns": null,
            "grid_auto_flow": null,
            "grid_auto_rows": null,
            "grid_column": null,
            "grid_gap": null,
            "grid_row": null,
            "grid_template_areas": null,
            "grid_template_columns": null,
            "grid_template_rows": null,
            "height": null,
            "justify_content": null,
            "justify_items": null,
            "left": null,
            "margin": null,
            "max_height": null,
            "max_width": null,
            "min_height": null,
            "min_width": null,
            "object_fit": null,
            "object_position": null,
            "order": null,
            "overflow": null,
            "overflow_x": null,
            "overflow_y": null,
            "padding": null,
            "right": null,
            "top": null,
            "visibility": null,
            "width": null
          }
        },
        "b6cce53ec03a4d6ead470897ee401adb": {
          "model_module": "@jupyter-widgets/controls",
          "model_name": "DescriptionStyleModel",
          "model_module_version": "1.5.0",
          "state": {
            "_model_module": "@jupyter-widgets/controls",
            "_model_module_version": "1.5.0",
            "_model_name": "DescriptionStyleModel",
            "_view_count": null,
            "_view_module": "@jupyter-widgets/base",
            "_view_module_version": "1.2.0",
            "_view_name": "StyleView",
            "description_width": ""
          }
        }
      }
    }
  },
  "nbformat": 4,
  "nbformat_minor": 0
}